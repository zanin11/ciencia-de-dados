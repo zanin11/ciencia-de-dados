{
 "cells": [
  {
   "cell_type": "code",
   "execution_count": 1,
   "id": "ae8540e7-bd41-4f5c-b139-1a93843561e3",
   "metadata": {},
   "outputs": [],
   "source": [
    "import pandas as pd"
   ]
  },
  {
   "cell_type": "code",
   "execution_count": 2,
   "id": "c62c3c67-d111-4b9a-a8fc-819bd299fbd0",
   "metadata": {},
   "outputs": [],
   "source": [
    "dados = pd.read_csv('dados.csv')"
   ]
  },
  {
   "cell_type": "code",
   "execution_count": 3,
   "id": "126e88df-5163-462e-bc0d-cbc9fefe4868",
   "metadata": {},
   "outputs": [
    {
     "data": {
      "text/html": [
       "<div>\n",
       "<style scoped>\n",
       "    .dataframe tbody tr th:only-of-type {\n",
       "        vertical-align: middle;\n",
       "    }\n",
       "\n",
       "    .dataframe tbody tr th {\n",
       "        vertical-align: top;\n",
       "    }\n",
       "\n",
       "    .dataframe thead th {\n",
       "        text-align: right;\n",
       "    }\n",
       "</style>\n",
       "<table border=\"1\" class=\"dataframe\">\n",
       "  <thead>\n",
       "    <tr style=\"text-align: right;\">\n",
       "      <th></th>\n",
       "      <th>UF</th>\n",
       "      <th>Sexo</th>\n",
       "      <th>Idade</th>\n",
       "      <th>Cor</th>\n",
       "      <th>Anos de Estudo</th>\n",
       "      <th>Renda</th>\n",
       "      <th>Altura</th>\n",
       "    </tr>\n",
       "  </thead>\n",
       "  <tbody>\n",
       "    <tr>\n",
       "      <th>0</th>\n",
       "      <td>11</td>\n",
       "      <td>0</td>\n",
       "      <td>23</td>\n",
       "      <td>8</td>\n",
       "      <td>12</td>\n",
       "      <td>800</td>\n",
       "      <td>1.603808</td>\n",
       "    </tr>\n",
       "    <tr>\n",
       "      <th>1</th>\n",
       "      <td>11</td>\n",
       "      <td>1</td>\n",
       "      <td>23</td>\n",
       "      <td>2</td>\n",
       "      <td>12</td>\n",
       "      <td>1150</td>\n",
       "      <td>1.739790</td>\n",
       "    </tr>\n",
       "    <tr>\n",
       "      <th>2</th>\n",
       "      <td>11</td>\n",
       "      <td>1</td>\n",
       "      <td>35</td>\n",
       "      <td>8</td>\n",
       "      <td>15</td>\n",
       "      <td>880</td>\n",
       "      <td>1.760444</td>\n",
       "    </tr>\n",
       "    <tr>\n",
       "      <th>3</th>\n",
       "      <td>11</td>\n",
       "      <td>0</td>\n",
       "      <td>46</td>\n",
       "      <td>2</td>\n",
       "      <td>6</td>\n",
       "      <td>3500</td>\n",
       "      <td>1.783158</td>\n",
       "    </tr>\n",
       "    <tr>\n",
       "      <th>4</th>\n",
       "      <td>11</td>\n",
       "      <td>1</td>\n",
       "      <td>47</td>\n",
       "      <td>8</td>\n",
       "      <td>9</td>\n",
       "      <td>150</td>\n",
       "      <td>1.690631</td>\n",
       "    </tr>\n",
       "    <tr>\n",
       "      <th>...</th>\n",
       "      <td>...</td>\n",
       "      <td>...</td>\n",
       "      <td>...</td>\n",
       "      <td>...</td>\n",
       "      <td>...</td>\n",
       "      <td>...</td>\n",
       "      <td>...</td>\n",
       "    </tr>\n",
       "    <tr>\n",
       "      <th>76835</th>\n",
       "      <td>53</td>\n",
       "      <td>1</td>\n",
       "      <td>46</td>\n",
       "      <td>2</td>\n",
       "      <td>11</td>\n",
       "      <td>812</td>\n",
       "      <td>1.687030</td>\n",
       "    </tr>\n",
       "    <tr>\n",
       "      <th>76836</th>\n",
       "      <td>53</td>\n",
       "      <td>0</td>\n",
       "      <td>30</td>\n",
       "      <td>4</td>\n",
       "      <td>7</td>\n",
       "      <td>1500</td>\n",
       "      <td>1.792934</td>\n",
       "    </tr>\n",
       "    <tr>\n",
       "      <th>76837</th>\n",
       "      <td>53</td>\n",
       "      <td>0</td>\n",
       "      <td>32</td>\n",
       "      <td>8</td>\n",
       "      <td>12</td>\n",
       "      <td>1300</td>\n",
       "      <td>1.830587</td>\n",
       "    </tr>\n",
       "    <tr>\n",
       "      <th>76838</th>\n",
       "      <td>53</td>\n",
       "      <td>0</td>\n",
       "      <td>57</td>\n",
       "      <td>8</td>\n",
       "      <td>4</td>\n",
       "      <td>1500</td>\n",
       "      <td>1.726344</td>\n",
       "    </tr>\n",
       "    <tr>\n",
       "      <th>76839</th>\n",
       "      <td>53</td>\n",
       "      <td>0</td>\n",
       "      <td>38</td>\n",
       "      <td>8</td>\n",
       "      <td>4</td>\n",
       "      <td>900</td>\n",
       "      <td>1.658305</td>\n",
       "    </tr>\n",
       "  </tbody>\n",
       "</table>\n",
       "<p>76840 rows × 7 columns</p>\n",
       "</div>"
      ],
      "text/plain": [
       "       UF  Sexo  Idade  Cor  Anos de Estudo  Renda    Altura\n",
       "0      11     0     23    8              12    800  1.603808\n",
       "1      11     1     23    2              12   1150  1.739790\n",
       "2      11     1     35    8              15    880  1.760444\n",
       "3      11     0     46    2               6   3500  1.783158\n",
       "4      11     1     47    8               9    150  1.690631\n",
       "...    ..   ...    ...  ...             ...    ...       ...\n",
       "76835  53     1     46    2              11    812  1.687030\n",
       "76836  53     0     30    4               7   1500  1.792934\n",
       "76837  53     0     32    8              12   1300  1.830587\n",
       "76838  53     0     57    8               4   1500  1.726344\n",
       "76839  53     0     38    8               4    900  1.658305\n",
       "\n",
       "[76840 rows x 7 columns]"
      ]
     },
     "execution_count": 3,
     "metadata": {},
     "output_type": "execute_result"
    }
   ],
   "source": [
    "dados"
   ]
  },
  {
   "cell_type": "code",
   "execution_count": 4,
   "id": "21427ac7-fea2-4bbc-a3d1-11153006fa25",
   "metadata": {},
   "outputs": [
    {
     "data": {
      "text/plain": [
       "UF                0\n",
       "Sexo              0\n",
       "Idade             0\n",
       "Cor               0\n",
       "Anos de Estudo    0\n",
       "Renda             0\n",
       "Altura            0\n",
       "dtype: int64"
      ]
     },
     "execution_count": 4,
     "metadata": {},
     "output_type": "execute_result"
    }
   ],
   "source": [
    "dados.isnull().sum()"
   ]
  },
  {
   "cell_type": "markdown",
   "id": "85d400f3-a65b-4808-bcc6-81f1518e1fd2",
   "metadata": {},
   "source": [
    "# Distribuição de Frequências qualitativas"
   ]
  },
  {
   "cell_type": "code",
   "execution_count": 5,
   "id": "90f19579-553a-4ba8-88aa-e196ba24ac37",
   "metadata": {},
   "outputs": [],
   "source": [
    "frequencia_sexo = dados['Sexo'].value_counts()"
   ]
  },
  {
   "cell_type": "code",
   "execution_count": 6,
   "id": "deec5aa1-1fe6-4192-84c3-537cc8f55a88",
   "metadata": {},
   "outputs": [
    {
     "data": {
      "text/plain": [
       "UF\n",
       "35    8544\n",
       "31    7686\n",
       "43    6322\n",
       "29    5717\n",
       "33    5556\n",
       "15    4449\n",
       "41    4356\n",
       "26    3820\n",
       "52    3478\n",
       "23    3359\n",
       "42    2275\n",
       "13    2206\n",
       "53    2054\n",
       "51    1800\n",
       "21    1787\n",
       "11    1537\n",
       "32    1511\n",
       "50    1440\n",
       "17    1306\n",
       "28    1287\n",
       "25    1274\n",
       "22    1211\n",
       "24     973\n",
       "12     937\n",
       "27     903\n",
       "14     540\n",
       "16     512\n",
       "Name: count, dtype: int64"
      ]
     },
     "execution_count": 6,
     "metadata": {},
     "output_type": "execute_result"
    }
   ],
   "source": [
    "dados['UF'].value_counts()"
   ]
  },
  {
   "cell_type": "code",
   "execution_count": 7,
   "id": "d1d2f6d8-b2de-4266-a2d4-250749f782c1",
   "metadata": {},
   "outputs": [],
   "source": [
    "frequencia_cor = dados['Cor'].value_counts()"
   ]
  },
  {
   "cell_type": "code",
   "execution_count": 8,
   "id": "d52ea2e0-e768-4400-b68d-48d8f5716d85",
   "metadata": {},
   "outputs": [],
   "source": [
    "frequencia_anos_estudo = dados['Anos de Estudo'].value_counts()"
   ]
  },
  {
   "cell_type": "code",
   "execution_count": 9,
   "id": "2777be6b-96d8-49c2-876f-14842d102e1c",
   "metadata": {},
   "outputs": [],
   "source": [
    "percentual_sexo = dados['Sexo'].value_counts(normalize = True)"
   ]
  },
  {
   "cell_type": "code",
   "execution_count": 10,
   "id": "7015a872-fd21-41f7-840c-bb2e0b2692b0",
   "metadata": {},
   "outputs": [
    {
     "data": {
      "text/plain": [
       "UF\n",
       "35    0.111192\n",
       "31    0.100026\n",
       "43    0.082275\n",
       "29    0.074401\n",
       "33    0.072306\n",
       "15    0.057900\n",
       "41    0.056689\n",
       "26    0.049714\n",
       "52    0.045263\n",
       "23    0.043714\n",
       "42    0.029607\n",
       "13    0.028709\n",
       "53    0.026731\n",
       "51    0.023425\n",
       "21    0.023256\n",
       "11    0.020003\n",
       "32    0.019664\n",
       "50    0.018740\n",
       "17    0.016996\n",
       "28    0.016749\n",
       "25    0.016580\n",
       "22    0.015760\n",
       "24    0.012663\n",
       "12    0.012194\n",
       "27    0.011752\n",
       "14    0.007028\n",
       "16    0.006663\n",
       "Name: proportion, dtype: float64"
      ]
     },
     "execution_count": 10,
     "metadata": {},
     "output_type": "execute_result"
    }
   ],
   "source": [
    "dados['UF'].value_counts(normalize = True)"
   ]
  },
  {
   "cell_type": "code",
   "execution_count": 11,
   "id": "ed8cbc36-1d23-417a-b1e2-0d76bbb2e764",
   "metadata": {},
   "outputs": [],
   "source": [
    "percentual_cor = dados['Cor'].value_counts(normalize = True)"
   ]
  },
  {
   "cell_type": "code",
   "execution_count": 12,
   "id": "d64bac72-c278-4add-a96f-5b5a62195976",
   "metadata": {},
   "outputs": [],
   "source": [
    "percentual_anos_estudo = dados['Anos de Estudo'].value_counts(normalize = True)"
   ]
  },
  {
   "cell_type": "code",
   "execution_count": 13,
   "id": "ff3bd534-b99a-4c2d-9729-da45526008e7",
   "metadata": {},
   "outputs": [],
   "source": [
    "dist_freq_sexo = pd.DataFrame({'Frequencia': frequencia_sexo, 'Percentual': percentual_sexo})"
   ]
  },
  {
   "cell_type": "code",
   "execution_count": 14,
   "id": "3a76f525-bde1-4c8a-931d-2c3be77f69be",
   "metadata": {},
   "outputs": [],
   "source": [
    "dist_freq_sexo.rename(index = {0: 'Masculino', 1: 'Feminino'}, inplace = True)"
   ]
  },
  {
   "cell_type": "code",
   "execution_count": 15,
   "id": "fcf690a0-b99d-4bc7-aba4-9abe6fd315d5",
   "metadata": {},
   "outputs": [
    {
     "data": {
      "text/html": [
       "<div>\n",
       "<style scoped>\n",
       "    .dataframe tbody tr th:only-of-type {\n",
       "        vertical-align: middle;\n",
       "    }\n",
       "\n",
       "    .dataframe tbody tr th {\n",
       "        vertical-align: top;\n",
       "    }\n",
       "\n",
       "    .dataframe thead th {\n",
       "        text-align: right;\n",
       "    }\n",
       "</style>\n",
       "<table border=\"1\" class=\"dataframe\">\n",
       "  <thead>\n",
       "    <tr style=\"text-align: right;\">\n",
       "      <th></th>\n",
       "      <th>Frequencia</th>\n",
       "      <th>Percentual</th>\n",
       "    </tr>\n",
       "    <tr>\n",
       "      <th>Sexo</th>\n",
       "      <th></th>\n",
       "      <th></th>\n",
       "    </tr>\n",
       "  </thead>\n",
       "  <tbody>\n",
       "    <tr>\n",
       "      <th>Masculino</th>\n",
       "      <td>53250</td>\n",
       "      <td>0.692998</td>\n",
       "    </tr>\n",
       "    <tr>\n",
       "      <th>Feminino</th>\n",
       "      <td>23590</td>\n",
       "      <td>0.307002</td>\n",
       "    </tr>\n",
       "  </tbody>\n",
       "</table>\n",
       "</div>"
      ],
      "text/plain": [
       "           Frequencia  Percentual\n",
       "Sexo                             \n",
       "Masculino       53250    0.692998\n",
       "Feminino        23590    0.307002"
      ]
     },
     "execution_count": 15,
     "metadata": {},
     "output_type": "execute_result"
    }
   ],
   "source": [
    "dist_freq_sexo"
   ]
  },
  {
   "cell_type": "code",
   "execution_count": 16,
   "id": "7c549d3a-7dfc-4fdd-aca5-b6ab49b66e97",
   "metadata": {},
   "outputs": [],
   "source": [
    "dist_freq_cor = pd.DataFrame({'Frequencia': frequencia_cor, 'Percentual': percentual_cor})"
   ]
  },
  {
   "cell_type": "code",
   "execution_count": 17,
   "id": "aef6f215-f14f-4a04-8cd5-09e36bb2d66d",
   "metadata": {},
   "outputs": [],
   "source": [
    "dist_freq_cor.rename(index = {0: 'Indigena', 2: 'Branca', 4: 'Preta', 6: 'Amarela', 8: 'Parda'}, inplace = True)"
   ]
  },
  {
   "cell_type": "code",
   "execution_count": 18,
   "id": "11dc7752-9432-48cc-b74f-f795086694c0",
   "metadata": {},
   "outputs": [
    {
     "data": {
      "text/html": [
       "<div>\n",
       "<style scoped>\n",
       "    .dataframe tbody tr th:only-of-type {\n",
       "        vertical-align: middle;\n",
       "    }\n",
       "\n",
       "    .dataframe tbody tr th {\n",
       "        vertical-align: top;\n",
       "    }\n",
       "\n",
       "    .dataframe thead th {\n",
       "        text-align: right;\n",
       "    }\n",
       "</style>\n",
       "<table border=\"1\" class=\"dataframe\">\n",
       "  <thead>\n",
       "    <tr style=\"text-align: right;\">\n",
       "      <th></th>\n",
       "      <th>Frequencia</th>\n",
       "      <th>Percentual</th>\n",
       "    </tr>\n",
       "    <tr>\n",
       "      <th>Cor</th>\n",
       "      <th></th>\n",
       "      <th></th>\n",
       "    </tr>\n",
       "  </thead>\n",
       "  <tbody>\n",
       "    <tr>\n",
       "      <th>Parda</th>\n",
       "      <td>35925</td>\n",
       "      <td>0.467530</td>\n",
       "    </tr>\n",
       "    <tr>\n",
       "      <th>Branca</th>\n",
       "      <td>31815</td>\n",
       "      <td>0.414042</td>\n",
       "    </tr>\n",
       "    <tr>\n",
       "      <th>Preta</th>\n",
       "      <td>8391</td>\n",
       "      <td>0.109201</td>\n",
       "    </tr>\n",
       "    <tr>\n",
       "      <th>Indigena</th>\n",
       "      <td>357</td>\n",
       "      <td>0.004646</td>\n",
       "    </tr>\n",
       "    <tr>\n",
       "      <th>Amarela</th>\n",
       "      <td>352</td>\n",
       "      <td>0.004581</td>\n",
       "    </tr>\n",
       "  </tbody>\n",
       "</table>\n",
       "</div>"
      ],
      "text/plain": [
       "          Frequencia  Percentual\n",
       "Cor                             \n",
       "Parda          35925    0.467530\n",
       "Branca         31815    0.414042\n",
       "Preta           8391    0.109201\n",
       "Indigena         357    0.004646\n",
       "Amarela          352    0.004581"
      ]
     },
     "execution_count": 18,
     "metadata": {},
     "output_type": "execute_result"
    }
   ],
   "source": [
    "dist_freq_cor"
   ]
  },
  {
   "cell_type": "code",
   "execution_count": 19,
   "id": "edcbb531-bb42-454d-870c-0c4d63ab2112",
   "metadata": {},
   "outputs": [],
   "source": [
    "dist_freq_anos_estudo = pd.DataFrame({'Frequencia': frequencia_anos_estudo, 'Percentual': percentual_anos_estudo})"
   ]
  },
  {
   "cell_type": "code",
   "execution_count": 20,
   "id": "646ad612-224e-468a-8f65-f2a13f0a1d06",
   "metadata": {},
   "outputs": [
    {
     "data": {
      "text/html": [
       "<div>\n",
       "<style scoped>\n",
       "    .dataframe tbody tr th:only-of-type {\n",
       "        vertical-align: middle;\n",
       "    }\n",
       "\n",
       "    .dataframe tbody tr th {\n",
       "        vertical-align: top;\n",
       "    }\n",
       "\n",
       "    .dataframe thead th {\n",
       "        text-align: right;\n",
       "    }\n",
       "</style>\n",
       "<table border=\"1\" class=\"dataframe\">\n",
       "  <thead>\n",
       "    <tr style=\"text-align: right;\">\n",
       "      <th></th>\n",
       "      <th>Frequencia</th>\n",
       "      <th>Percentual</th>\n",
       "    </tr>\n",
       "    <tr>\n",
       "      <th>Anos de Estudo</th>\n",
       "      <th></th>\n",
       "      <th></th>\n",
       "    </tr>\n",
       "  </thead>\n",
       "  <tbody>\n",
       "    <tr>\n",
       "      <th>12</th>\n",
       "      <td>20848</td>\n",
       "      <td>0.271317</td>\n",
       "    </tr>\n",
       "    <tr>\n",
       "      <th>16</th>\n",
       "      <td>10795</td>\n",
       "      <td>0.140487</td>\n",
       "    </tr>\n",
       "    <tr>\n",
       "      <th>9</th>\n",
       "      <td>7980</td>\n",
       "      <td>0.103852</td>\n",
       "    </tr>\n",
       "    <tr>\n",
       "      <th>5</th>\n",
       "      <td>6729</td>\n",
       "      <td>0.087572</td>\n",
       "    </tr>\n",
       "    <tr>\n",
       "      <th>1</th>\n",
       "      <td>5849</td>\n",
       "      <td>0.076119</td>\n",
       "    </tr>\n",
       "    <tr>\n",
       "      <th>6</th>\n",
       "      <td>4499</td>\n",
       "      <td>0.058550</td>\n",
       "    </tr>\n",
       "    <tr>\n",
       "      <th>4</th>\n",
       "      <td>2891</td>\n",
       "      <td>0.037624</td>\n",
       "    </tr>\n",
       "    <tr>\n",
       "      <th>8</th>\n",
       "      <td>2689</td>\n",
       "      <td>0.034995</td>\n",
       "    </tr>\n",
       "    <tr>\n",
       "      <th>7</th>\n",
       "      <td>2445</td>\n",
       "      <td>0.031819</td>\n",
       "    </tr>\n",
       "    <tr>\n",
       "      <th>11</th>\n",
       "      <td>2118</td>\n",
       "      <td>0.027564</td>\n",
       "    </tr>\n",
       "    <tr>\n",
       "      <th>3</th>\n",
       "      <td>2101</td>\n",
       "      <td>0.027343</td>\n",
       "    </tr>\n",
       "    <tr>\n",
       "      <th>10</th>\n",
       "      <td>1840</td>\n",
       "      <td>0.023946</td>\n",
       "    </tr>\n",
       "    <tr>\n",
       "      <th>13</th>\n",
       "      <td>1836</td>\n",
       "      <td>0.023894</td>\n",
       "    </tr>\n",
       "    <tr>\n",
       "      <th>15</th>\n",
       "      <td>1388</td>\n",
       "      <td>0.018064</td>\n",
       "    </tr>\n",
       "    <tr>\n",
       "      <th>2</th>\n",
       "      <td>1388</td>\n",
       "      <td>0.018064</td>\n",
       "    </tr>\n",
       "    <tr>\n",
       "      <th>14</th>\n",
       "      <td>1253</td>\n",
       "      <td>0.016307</td>\n",
       "    </tr>\n",
       "    <tr>\n",
       "      <th>17</th>\n",
       "      <td>191</td>\n",
       "      <td>0.002486</td>\n",
       "    </tr>\n",
       "  </tbody>\n",
       "</table>\n",
       "</div>"
      ],
      "text/plain": [
       "                Frequencia  Percentual\n",
       "Anos de Estudo                        \n",
       "12                   20848    0.271317\n",
       "16                   10795    0.140487\n",
       "9                     7980    0.103852\n",
       "5                     6729    0.087572\n",
       "1                     5849    0.076119\n",
       "6                     4499    0.058550\n",
       "4                     2891    0.037624\n",
       "8                     2689    0.034995\n",
       "7                     2445    0.031819\n",
       "11                    2118    0.027564\n",
       "3                     2101    0.027343\n",
       "10                    1840    0.023946\n",
       "13                    1836    0.023894\n",
       "15                    1388    0.018064\n",
       "2                     1388    0.018064\n",
       "14                    1253    0.016307\n",
       "17                     191    0.002486"
      ]
     },
     "execution_count": 20,
     "metadata": {},
     "output_type": "execute_result"
    }
   ],
   "source": [
    "dist_freq_anos_estudo"
   ]
  },
  {
   "cell_type": "code",
   "execution_count": 21,
   "id": "665553f9-c561-4981-9460-19768a8e747b",
   "metadata": {},
   "outputs": [],
   "source": [
    "freq_sexo_cor = pd.crosstab(dados['Sexo'], dados['Cor'])"
   ]
  },
  {
   "cell_type": "code",
   "execution_count": 22,
   "id": "0799dd4d-3d6b-4e8c-aedf-05aaeb8ccdad",
   "metadata": {},
   "outputs": [],
   "source": [
    "freq_sexo_cor.rename(index={0: 'Masculino', 1:'Feminino'}, inplace = True)"
   ]
  },
  {
   "cell_type": "code",
   "execution_count": 23,
   "id": "e06aeff0-acf8-45fe-9519-3cef7ee6c14f",
   "metadata": {},
   "outputs": [],
   "source": [
    "freq_sexo_cor.rename(columns = {0: 'Indigena', 2: 'Branca', 4: 'Preta', 6: 'Amarela', 8: 'Parda'}, inplace = True)"
   ]
  },
  {
   "cell_type": "code",
   "execution_count": 24,
   "id": "7ca00be9-99dc-4046-94e9-df99ae4e4574",
   "metadata": {},
   "outputs": [
    {
     "data": {
      "text/html": [
       "<div>\n",
       "<style scoped>\n",
       "    .dataframe tbody tr th:only-of-type {\n",
       "        vertical-align: middle;\n",
       "    }\n",
       "\n",
       "    .dataframe tbody tr th {\n",
       "        vertical-align: top;\n",
       "    }\n",
       "\n",
       "    .dataframe thead th {\n",
       "        text-align: right;\n",
       "    }\n",
       "</style>\n",
       "<table border=\"1\" class=\"dataframe\">\n",
       "  <thead>\n",
       "    <tr style=\"text-align: right;\">\n",
       "      <th>Cor</th>\n",
       "      <th>Indigena</th>\n",
       "      <th>Branca</th>\n",
       "      <th>Preta</th>\n",
       "      <th>Amarela</th>\n",
       "      <th>Parda</th>\n",
       "    </tr>\n",
       "    <tr>\n",
       "      <th>Sexo</th>\n",
       "      <th></th>\n",
       "      <th></th>\n",
       "      <th></th>\n",
       "      <th></th>\n",
       "      <th></th>\n",
       "    </tr>\n",
       "  </thead>\n",
       "  <tbody>\n",
       "    <tr>\n",
       "      <th>Masculino</th>\n",
       "      <td>256</td>\n",
       "      <td>22194</td>\n",
       "      <td>5502</td>\n",
       "      <td>235</td>\n",
       "      <td>25063</td>\n",
       "    </tr>\n",
       "    <tr>\n",
       "      <th>Feminino</th>\n",
       "      <td>101</td>\n",
       "      <td>9621</td>\n",
       "      <td>2889</td>\n",
       "      <td>117</td>\n",
       "      <td>10862</td>\n",
       "    </tr>\n",
       "  </tbody>\n",
       "</table>\n",
       "</div>"
      ],
      "text/plain": [
       "Cor        Indigena  Branca  Preta  Amarela  Parda\n",
       "Sexo                                              \n",
       "Masculino       256   22194   5502      235  25063\n",
       "Feminino        101    9621   2889      117  10862"
      ]
     },
     "execution_count": 24,
     "metadata": {},
     "output_type": "execute_result"
    }
   ],
   "source": [
    "freq_sexo_cor"
   ]
  },
  {
   "cell_type": "code",
   "execution_count": 25,
   "id": "13e87148-a4b5-4f5c-a301-68617cf73160",
   "metadata": {},
   "outputs": [],
   "source": [
    "percentual_sexo_cor = pd.crosstab(dados['Sexo'], dados['Cor'], normalize = True)"
   ]
  },
  {
   "cell_type": "code",
   "execution_count": 26,
   "id": "12d75a55-320a-418d-9d5e-bc1438647472",
   "metadata": {},
   "outputs": [
    {
     "data": {
      "text/html": [
       "<div>\n",
       "<style scoped>\n",
       "    .dataframe tbody tr th:only-of-type {\n",
       "        vertical-align: middle;\n",
       "    }\n",
       "\n",
       "    .dataframe tbody tr th {\n",
       "        vertical-align: top;\n",
       "    }\n",
       "\n",
       "    .dataframe thead th {\n",
       "        text-align: right;\n",
       "    }\n",
       "</style>\n",
       "<table border=\"1\" class=\"dataframe\">\n",
       "  <thead>\n",
       "    <tr style=\"text-align: right;\">\n",
       "      <th>Cor</th>\n",
       "      <th>0</th>\n",
       "      <th>2</th>\n",
       "      <th>4</th>\n",
       "      <th>6</th>\n",
       "      <th>8</th>\n",
       "    </tr>\n",
       "    <tr>\n",
       "      <th>Sexo</th>\n",
       "      <th></th>\n",
       "      <th></th>\n",
       "      <th></th>\n",
       "      <th></th>\n",
       "      <th></th>\n",
       "    </tr>\n",
       "  </thead>\n",
       "  <tbody>\n",
       "    <tr>\n",
       "      <th>0</th>\n",
       "      <td>0.003332</td>\n",
       "      <td>0.288834</td>\n",
       "      <td>0.071603</td>\n",
       "      <td>0.003058</td>\n",
       "      <td>0.326171</td>\n",
       "    </tr>\n",
       "    <tr>\n",
       "      <th>1</th>\n",
       "      <td>0.001314</td>\n",
       "      <td>0.125208</td>\n",
       "      <td>0.037598</td>\n",
       "      <td>0.001523</td>\n",
       "      <td>0.141359</td>\n",
       "    </tr>\n",
       "  </tbody>\n",
       "</table>\n",
       "</div>"
      ],
      "text/plain": [
       "Cor          0         2         4         6         8\n",
       "Sexo                                                  \n",
       "0     0.003332  0.288834  0.071603  0.003058  0.326171\n",
       "1     0.001314  0.125208  0.037598  0.001523  0.141359"
      ]
     },
     "execution_count": 26,
     "metadata": {},
     "output_type": "execute_result"
    }
   ],
   "source": [
    "percentual_sexo_cor"
   ]
  },
  {
   "cell_type": "code",
   "execution_count": 27,
   "id": "27655da5-5f56-4726-b04c-c66f8eb3c0c1",
   "metadata": {},
   "outputs": [],
   "source": [
    "percentual_sexo_cor.rename(index={0: 'Masculino', 1:'Feminino'}, inplace = True)\n",
    "percentual_sexo_cor.rename(columns = {0: 'Indigena', 2: 'Branca', 4: 'Preta', 6: 'Amarela', 8: 'Parda'}, inplace = True)"
   ]
  },
  {
   "cell_type": "code",
   "execution_count": 28,
   "id": "cfe48507-df96-4fef-82c4-da5f9118e514",
   "metadata": {},
   "outputs": [
    {
     "data": {
      "text/html": [
       "<div>\n",
       "<style scoped>\n",
       "    .dataframe tbody tr th:only-of-type {\n",
       "        vertical-align: middle;\n",
       "    }\n",
       "\n",
       "    .dataframe tbody tr th {\n",
       "        vertical-align: top;\n",
       "    }\n",
       "\n",
       "    .dataframe thead th {\n",
       "        text-align: right;\n",
       "    }\n",
       "</style>\n",
       "<table border=\"1\" class=\"dataframe\">\n",
       "  <thead>\n",
       "    <tr style=\"text-align: right;\">\n",
       "      <th>Cor</th>\n",
       "      <th>Indigena</th>\n",
       "      <th>Branca</th>\n",
       "      <th>Preta</th>\n",
       "      <th>Amarela</th>\n",
       "      <th>Parda</th>\n",
       "    </tr>\n",
       "    <tr>\n",
       "      <th>Sexo</th>\n",
       "      <th></th>\n",
       "      <th></th>\n",
       "      <th></th>\n",
       "      <th></th>\n",
       "      <th></th>\n",
       "    </tr>\n",
       "  </thead>\n",
       "  <tbody>\n",
       "    <tr>\n",
       "      <th>Masculino</th>\n",
       "      <td>0.003332</td>\n",
       "      <td>0.288834</td>\n",
       "      <td>0.071603</td>\n",
       "      <td>0.003058</td>\n",
       "      <td>0.326171</td>\n",
       "    </tr>\n",
       "    <tr>\n",
       "      <th>Feminino</th>\n",
       "      <td>0.001314</td>\n",
       "      <td>0.125208</td>\n",
       "      <td>0.037598</td>\n",
       "      <td>0.001523</td>\n",
       "      <td>0.141359</td>\n",
       "    </tr>\n",
       "  </tbody>\n",
       "</table>\n",
       "</div>"
      ],
      "text/plain": [
       "Cor        Indigena    Branca     Preta   Amarela     Parda\n",
       "Sexo                                                       \n",
       "Masculino  0.003332  0.288834  0.071603  0.003058  0.326171\n",
       "Feminino   0.001314  0.125208  0.037598  0.001523  0.141359"
      ]
     },
     "execution_count": 28,
     "metadata": {},
     "output_type": "execute_result"
    }
   ],
   "source": [
    "percentual_sexo_cor"
   ]
  },
  {
   "cell_type": "code",
   "execution_count": 29,
   "id": "54b7b2f6-b241-4c76-ac3a-adeceee1c33a",
   "metadata": {},
   "outputs": [],
   "source": [
    "frequencia_cor_anos_estudo = pd.crosstab(dados['Cor'], dados['Anos de Estudo'])"
   ]
  },
  {
   "cell_type": "code",
   "execution_count": 30,
   "id": "1fdd493e-5fba-4fb6-a0c3-d5258b6bff90",
   "metadata": {},
   "outputs": [
    {
     "data": {
      "text/html": [
       "<div>\n",
       "<style scoped>\n",
       "    .dataframe tbody tr th:only-of-type {\n",
       "        vertical-align: middle;\n",
       "    }\n",
       "\n",
       "    .dataframe tbody tr th {\n",
       "        vertical-align: top;\n",
       "    }\n",
       "\n",
       "    .dataframe thead th {\n",
       "        text-align: right;\n",
       "    }\n",
       "</style>\n",
       "<table border=\"1\" class=\"dataframe\">\n",
       "  <thead>\n",
       "    <tr style=\"text-align: right;\">\n",
       "      <th>Anos de Estudo</th>\n",
       "      <th>1</th>\n",
       "      <th>2</th>\n",
       "      <th>3</th>\n",
       "      <th>4</th>\n",
       "      <th>5</th>\n",
       "      <th>6</th>\n",
       "      <th>7</th>\n",
       "      <th>8</th>\n",
       "      <th>9</th>\n",
       "      <th>10</th>\n",
       "      <th>11</th>\n",
       "      <th>12</th>\n",
       "      <th>13</th>\n",
       "      <th>14</th>\n",
       "      <th>15</th>\n",
       "      <th>16</th>\n",
       "      <th>17</th>\n",
       "    </tr>\n",
       "    <tr>\n",
       "      <th>Cor</th>\n",
       "      <th></th>\n",
       "      <th></th>\n",
       "      <th></th>\n",
       "      <th></th>\n",
       "      <th></th>\n",
       "      <th></th>\n",
       "      <th></th>\n",
       "      <th></th>\n",
       "      <th></th>\n",
       "      <th></th>\n",
       "      <th></th>\n",
       "      <th></th>\n",
       "      <th></th>\n",
       "      <th></th>\n",
       "      <th></th>\n",
       "      <th></th>\n",
       "      <th></th>\n",
       "    </tr>\n",
       "  </thead>\n",
       "  <tbody>\n",
       "    <tr>\n",
       "      <th>0</th>\n",
       "      <td>49</td>\n",
       "      <td>10</td>\n",
       "      <td>12</td>\n",
       "      <td>17</td>\n",
       "      <td>22</td>\n",
       "      <td>23</td>\n",
       "      <td>12</td>\n",
       "      <td>16</td>\n",
       "      <td>45</td>\n",
       "      <td>16</td>\n",
       "      <td>12</td>\n",
       "      <td>82</td>\n",
       "      <td>7</td>\n",
       "      <td>5</td>\n",
       "      <td>6</td>\n",
       "      <td>20</td>\n",
       "      <td>3</td>\n",
       "    </tr>\n",
       "    <tr>\n",
       "      <th>2</th>\n",
       "      <td>1420</td>\n",
       "      <td>364</td>\n",
       "      <td>617</td>\n",
       "      <td>929</td>\n",
       "      <td>2683</td>\n",
       "      <td>1600</td>\n",
       "      <td>860</td>\n",
       "      <td>940</td>\n",
       "      <td>3102</td>\n",
       "      <td>558</td>\n",
       "      <td>779</td>\n",
       "      <td>8838</td>\n",
       "      <td>869</td>\n",
       "      <td>663</td>\n",
       "      <td>773</td>\n",
       "      <td>6758</td>\n",
       "      <td>62</td>\n",
       "    </tr>\n",
       "    <tr>\n",
       "      <th>4</th>\n",
       "      <td>801</td>\n",
       "      <td>174</td>\n",
       "      <td>261</td>\n",
       "      <td>361</td>\n",
       "      <td>694</td>\n",
       "      <td>523</td>\n",
       "      <td>295</td>\n",
       "      <td>315</td>\n",
       "      <td>900</td>\n",
       "      <td>237</td>\n",
       "      <td>276</td>\n",
       "      <td>2423</td>\n",
       "      <td>189</td>\n",
       "      <td>114</td>\n",
       "      <td>116</td>\n",
       "      <td>691</td>\n",
       "      <td>21</td>\n",
       "    </tr>\n",
       "    <tr>\n",
       "      <th>6</th>\n",
       "      <td>9</td>\n",
       "      <td>2</td>\n",
       "      <td>1</td>\n",
       "      <td>3</td>\n",
       "      <td>21</td>\n",
       "      <td>7</td>\n",
       "      <td>6</td>\n",
       "      <td>1</td>\n",
       "      <td>26</td>\n",
       "      <td>2</td>\n",
       "      <td>8</td>\n",
       "      <td>88</td>\n",
       "      <td>9</td>\n",
       "      <td>7</td>\n",
       "      <td>10</td>\n",
       "      <td>152</td>\n",
       "      <td>0</td>\n",
       "    </tr>\n",
       "    <tr>\n",
       "      <th>8</th>\n",
       "      <td>3570</td>\n",
       "      <td>838</td>\n",
       "      <td>1210</td>\n",
       "      <td>1581</td>\n",
       "      <td>3309</td>\n",
       "      <td>2346</td>\n",
       "      <td>1272</td>\n",
       "      <td>1417</td>\n",
       "      <td>3907</td>\n",
       "      <td>1027</td>\n",
       "      <td>1043</td>\n",
       "      <td>9417</td>\n",
       "      <td>762</td>\n",
       "      <td>464</td>\n",
       "      <td>483</td>\n",
       "      <td>3174</td>\n",
       "      <td>105</td>\n",
       "    </tr>\n",
       "  </tbody>\n",
       "</table>\n",
       "</div>"
      ],
      "text/plain": [
       "Anos de Estudo    1    2     3     4     5     6     7     8     9     10  \\\n",
       "Cor                                                                         \n",
       "0                 49   10    12    17    22    23    12    16    45    16   \n",
       "2               1420  364   617   929  2683  1600   860   940  3102   558   \n",
       "4                801  174   261   361   694   523   295   315   900   237   \n",
       "6                  9    2     1     3    21     7     6     1    26     2   \n",
       "8               3570  838  1210  1581  3309  2346  1272  1417  3907  1027   \n",
       "\n",
       "Anos de Estudo    11    12   13   14   15    16   17  \n",
       "Cor                                                   \n",
       "0                 12    82    7    5    6    20    3  \n",
       "2                779  8838  869  663  773  6758   62  \n",
       "4                276  2423  189  114  116   691   21  \n",
       "6                  8    88    9    7   10   152    0  \n",
       "8               1043  9417  762  464  483  3174  105  "
      ]
     },
     "execution_count": 30,
     "metadata": {},
     "output_type": "execute_result"
    }
   ],
   "source": [
    "frequencia_cor_anos_estudo"
   ]
  },
  {
   "cell_type": "code",
   "execution_count": 31,
   "id": "af5e2f72-f5d4-422b-8c39-7d268344a0d2",
   "metadata": {},
   "outputs": [],
   "source": [
    "percentual_cor_anos_estudo = pd.crosstab(dados['Cor'], dados['Anos de Estudo'], normalize = True)"
   ]
  },
  {
   "cell_type": "code",
   "execution_count": 32,
   "id": "3ff2de71-cbda-4231-be04-667c5202396c",
   "metadata": {},
   "outputs": [
    {
     "data": {
      "text/html": [
       "<div>\n",
       "<style scoped>\n",
       "    .dataframe tbody tr th:only-of-type {\n",
       "        vertical-align: middle;\n",
       "    }\n",
       "\n",
       "    .dataframe tbody tr th {\n",
       "        vertical-align: top;\n",
       "    }\n",
       "\n",
       "    .dataframe thead th {\n",
       "        text-align: right;\n",
       "    }\n",
       "</style>\n",
       "<table border=\"1\" class=\"dataframe\">\n",
       "  <thead>\n",
       "    <tr style=\"text-align: right;\">\n",
       "      <th>Anos de Estudo</th>\n",
       "      <th>1</th>\n",
       "      <th>2</th>\n",
       "      <th>3</th>\n",
       "      <th>4</th>\n",
       "      <th>5</th>\n",
       "      <th>6</th>\n",
       "      <th>7</th>\n",
       "      <th>8</th>\n",
       "      <th>9</th>\n",
       "      <th>10</th>\n",
       "      <th>11</th>\n",
       "      <th>12</th>\n",
       "      <th>13</th>\n",
       "      <th>14</th>\n",
       "      <th>15</th>\n",
       "      <th>16</th>\n",
       "      <th>17</th>\n",
       "    </tr>\n",
       "    <tr>\n",
       "      <th>Cor</th>\n",
       "      <th></th>\n",
       "      <th></th>\n",
       "      <th></th>\n",
       "      <th></th>\n",
       "      <th></th>\n",
       "      <th></th>\n",
       "      <th></th>\n",
       "      <th></th>\n",
       "      <th></th>\n",
       "      <th></th>\n",
       "      <th></th>\n",
       "      <th></th>\n",
       "      <th></th>\n",
       "      <th></th>\n",
       "      <th></th>\n",
       "      <th></th>\n",
       "      <th></th>\n",
       "    </tr>\n",
       "  </thead>\n",
       "  <tbody>\n",
       "    <tr>\n",
       "      <th>0</th>\n",
       "      <td>0.000638</td>\n",
       "      <td>0.000130</td>\n",
       "      <td>0.000156</td>\n",
       "      <td>0.000221</td>\n",
       "      <td>0.000286</td>\n",
       "      <td>0.000299</td>\n",
       "      <td>0.000156</td>\n",
       "      <td>0.000208</td>\n",
       "      <td>0.000586</td>\n",
       "      <td>0.000208</td>\n",
       "      <td>0.000156</td>\n",
       "      <td>0.001067</td>\n",
       "      <td>0.000091</td>\n",
       "      <td>0.000065</td>\n",
       "      <td>0.000078</td>\n",
       "      <td>0.000260</td>\n",
       "      <td>0.000039</td>\n",
       "    </tr>\n",
       "    <tr>\n",
       "      <th>2</th>\n",
       "      <td>0.018480</td>\n",
       "      <td>0.004737</td>\n",
       "      <td>0.008030</td>\n",
       "      <td>0.012090</td>\n",
       "      <td>0.034917</td>\n",
       "      <td>0.020822</td>\n",
       "      <td>0.011192</td>\n",
       "      <td>0.012233</td>\n",
       "      <td>0.040370</td>\n",
       "      <td>0.007262</td>\n",
       "      <td>0.010138</td>\n",
       "      <td>0.115018</td>\n",
       "      <td>0.011309</td>\n",
       "      <td>0.008628</td>\n",
       "      <td>0.010060</td>\n",
       "      <td>0.087949</td>\n",
       "      <td>0.000807</td>\n",
       "    </tr>\n",
       "    <tr>\n",
       "      <th>4</th>\n",
       "      <td>0.010424</td>\n",
       "      <td>0.002264</td>\n",
       "      <td>0.003397</td>\n",
       "      <td>0.004698</td>\n",
       "      <td>0.009032</td>\n",
       "      <td>0.006806</td>\n",
       "      <td>0.003839</td>\n",
       "      <td>0.004099</td>\n",
       "      <td>0.011713</td>\n",
       "      <td>0.003084</td>\n",
       "      <td>0.003592</td>\n",
       "      <td>0.031533</td>\n",
       "      <td>0.002460</td>\n",
       "      <td>0.001484</td>\n",
       "      <td>0.001510</td>\n",
       "      <td>0.008993</td>\n",
       "      <td>0.000273</td>\n",
       "    </tr>\n",
       "    <tr>\n",
       "      <th>6</th>\n",
       "      <td>0.000117</td>\n",
       "      <td>0.000026</td>\n",
       "      <td>0.000013</td>\n",
       "      <td>0.000039</td>\n",
       "      <td>0.000273</td>\n",
       "      <td>0.000091</td>\n",
       "      <td>0.000078</td>\n",
       "      <td>0.000013</td>\n",
       "      <td>0.000338</td>\n",
       "      <td>0.000026</td>\n",
       "      <td>0.000104</td>\n",
       "      <td>0.001145</td>\n",
       "      <td>0.000117</td>\n",
       "      <td>0.000091</td>\n",
       "      <td>0.000130</td>\n",
       "      <td>0.001978</td>\n",
       "      <td>0.000000</td>\n",
       "    </tr>\n",
       "    <tr>\n",
       "      <th>8</th>\n",
       "      <td>0.046460</td>\n",
       "      <td>0.010906</td>\n",
       "      <td>0.015747</td>\n",
       "      <td>0.020575</td>\n",
       "      <td>0.043064</td>\n",
       "      <td>0.030531</td>\n",
       "      <td>0.016554</td>\n",
       "      <td>0.018441</td>\n",
       "      <td>0.050846</td>\n",
       "      <td>0.013365</td>\n",
       "      <td>0.013574</td>\n",
       "      <td>0.122553</td>\n",
       "      <td>0.009917</td>\n",
       "      <td>0.006039</td>\n",
       "      <td>0.006286</td>\n",
       "      <td>0.041307</td>\n",
       "      <td>0.001366</td>\n",
       "    </tr>\n",
       "  </tbody>\n",
       "</table>\n",
       "</div>"
      ],
      "text/plain": [
       "Anos de Estudo        1         2         3         4         5         6   \\\n",
       "Cor                                                                          \n",
       "0               0.000638  0.000130  0.000156  0.000221  0.000286  0.000299   \n",
       "2               0.018480  0.004737  0.008030  0.012090  0.034917  0.020822   \n",
       "4               0.010424  0.002264  0.003397  0.004698  0.009032  0.006806   \n",
       "6               0.000117  0.000026  0.000013  0.000039  0.000273  0.000091   \n",
       "8               0.046460  0.010906  0.015747  0.020575  0.043064  0.030531   \n",
       "\n",
       "Anos de Estudo        7         8         9         10        11        12  \\\n",
       "Cor                                                                          \n",
       "0               0.000156  0.000208  0.000586  0.000208  0.000156  0.001067   \n",
       "2               0.011192  0.012233  0.040370  0.007262  0.010138  0.115018   \n",
       "4               0.003839  0.004099  0.011713  0.003084  0.003592  0.031533   \n",
       "6               0.000078  0.000013  0.000338  0.000026  0.000104  0.001145   \n",
       "8               0.016554  0.018441  0.050846  0.013365  0.013574  0.122553   \n",
       "\n",
       "Anos de Estudo        13        14        15        16        17  \n",
       "Cor                                                               \n",
       "0               0.000091  0.000065  0.000078  0.000260  0.000039  \n",
       "2               0.011309  0.008628  0.010060  0.087949  0.000807  \n",
       "4               0.002460  0.001484  0.001510  0.008993  0.000273  \n",
       "6               0.000117  0.000091  0.000130  0.001978  0.000000  \n",
       "8               0.009917  0.006039  0.006286  0.041307  0.001366  "
      ]
     },
     "execution_count": 32,
     "metadata": {},
     "output_type": "execute_result"
    }
   ],
   "source": [
    "percentual_cor_anos_estudo"
   ]
  },
  {
   "cell_type": "code",
   "execution_count": 33,
   "id": "2b401f73-90d7-47ce-9590-da2d82a1e8f2",
   "metadata": {},
   "outputs": [],
   "source": [
    "percentual_cor_anos_estudo.rename(index = {0: 'Indigena', 2: 'Branca', 4: 'Preta', 6: 'Amarela', 8: 'Parda'}, inplace = True)"
   ]
  },
  {
   "cell_type": "code",
   "execution_count": 34,
   "id": "6349d14a-a80e-428e-9c42-084b87fe31e1",
   "metadata": {},
   "outputs": [
    {
     "data": {
      "text/html": [
       "<div>\n",
       "<style scoped>\n",
       "    .dataframe tbody tr th:only-of-type {\n",
       "        vertical-align: middle;\n",
       "    }\n",
       "\n",
       "    .dataframe tbody tr th {\n",
       "        vertical-align: top;\n",
       "    }\n",
       "\n",
       "    .dataframe thead th {\n",
       "        text-align: right;\n",
       "    }\n",
       "</style>\n",
       "<table border=\"1\" class=\"dataframe\">\n",
       "  <thead>\n",
       "    <tr style=\"text-align: right;\">\n",
       "      <th>Anos de Estudo</th>\n",
       "      <th>1</th>\n",
       "      <th>2</th>\n",
       "      <th>3</th>\n",
       "      <th>4</th>\n",
       "      <th>5</th>\n",
       "      <th>6</th>\n",
       "      <th>7</th>\n",
       "      <th>8</th>\n",
       "      <th>9</th>\n",
       "      <th>10</th>\n",
       "      <th>11</th>\n",
       "      <th>12</th>\n",
       "      <th>13</th>\n",
       "      <th>14</th>\n",
       "      <th>15</th>\n",
       "      <th>16</th>\n",
       "      <th>17</th>\n",
       "    </tr>\n",
       "    <tr>\n",
       "      <th>Cor</th>\n",
       "      <th></th>\n",
       "      <th></th>\n",
       "      <th></th>\n",
       "      <th></th>\n",
       "      <th></th>\n",
       "      <th></th>\n",
       "      <th></th>\n",
       "      <th></th>\n",
       "      <th></th>\n",
       "      <th></th>\n",
       "      <th></th>\n",
       "      <th></th>\n",
       "      <th></th>\n",
       "      <th></th>\n",
       "      <th></th>\n",
       "      <th></th>\n",
       "      <th></th>\n",
       "    </tr>\n",
       "  </thead>\n",
       "  <tbody>\n",
       "    <tr>\n",
       "      <th>Indigena</th>\n",
       "      <td>0.000638</td>\n",
       "      <td>0.000130</td>\n",
       "      <td>0.000156</td>\n",
       "      <td>0.000221</td>\n",
       "      <td>0.000286</td>\n",
       "      <td>0.000299</td>\n",
       "      <td>0.000156</td>\n",
       "      <td>0.000208</td>\n",
       "      <td>0.000586</td>\n",
       "      <td>0.000208</td>\n",
       "      <td>0.000156</td>\n",
       "      <td>0.001067</td>\n",
       "      <td>0.000091</td>\n",
       "      <td>0.000065</td>\n",
       "      <td>0.000078</td>\n",
       "      <td>0.000260</td>\n",
       "      <td>0.000039</td>\n",
       "    </tr>\n",
       "    <tr>\n",
       "      <th>Branca</th>\n",
       "      <td>0.018480</td>\n",
       "      <td>0.004737</td>\n",
       "      <td>0.008030</td>\n",
       "      <td>0.012090</td>\n",
       "      <td>0.034917</td>\n",
       "      <td>0.020822</td>\n",
       "      <td>0.011192</td>\n",
       "      <td>0.012233</td>\n",
       "      <td>0.040370</td>\n",
       "      <td>0.007262</td>\n",
       "      <td>0.010138</td>\n",
       "      <td>0.115018</td>\n",
       "      <td>0.011309</td>\n",
       "      <td>0.008628</td>\n",
       "      <td>0.010060</td>\n",
       "      <td>0.087949</td>\n",
       "      <td>0.000807</td>\n",
       "    </tr>\n",
       "    <tr>\n",
       "      <th>Preta</th>\n",
       "      <td>0.010424</td>\n",
       "      <td>0.002264</td>\n",
       "      <td>0.003397</td>\n",
       "      <td>0.004698</td>\n",
       "      <td>0.009032</td>\n",
       "      <td>0.006806</td>\n",
       "      <td>0.003839</td>\n",
       "      <td>0.004099</td>\n",
       "      <td>0.011713</td>\n",
       "      <td>0.003084</td>\n",
       "      <td>0.003592</td>\n",
       "      <td>0.031533</td>\n",
       "      <td>0.002460</td>\n",
       "      <td>0.001484</td>\n",
       "      <td>0.001510</td>\n",
       "      <td>0.008993</td>\n",
       "      <td>0.000273</td>\n",
       "    </tr>\n",
       "    <tr>\n",
       "      <th>Amarela</th>\n",
       "      <td>0.000117</td>\n",
       "      <td>0.000026</td>\n",
       "      <td>0.000013</td>\n",
       "      <td>0.000039</td>\n",
       "      <td>0.000273</td>\n",
       "      <td>0.000091</td>\n",
       "      <td>0.000078</td>\n",
       "      <td>0.000013</td>\n",
       "      <td>0.000338</td>\n",
       "      <td>0.000026</td>\n",
       "      <td>0.000104</td>\n",
       "      <td>0.001145</td>\n",
       "      <td>0.000117</td>\n",
       "      <td>0.000091</td>\n",
       "      <td>0.000130</td>\n",
       "      <td>0.001978</td>\n",
       "      <td>0.000000</td>\n",
       "    </tr>\n",
       "    <tr>\n",
       "      <th>Parda</th>\n",
       "      <td>0.046460</td>\n",
       "      <td>0.010906</td>\n",
       "      <td>0.015747</td>\n",
       "      <td>0.020575</td>\n",
       "      <td>0.043064</td>\n",
       "      <td>0.030531</td>\n",
       "      <td>0.016554</td>\n",
       "      <td>0.018441</td>\n",
       "      <td>0.050846</td>\n",
       "      <td>0.013365</td>\n",
       "      <td>0.013574</td>\n",
       "      <td>0.122553</td>\n",
       "      <td>0.009917</td>\n",
       "      <td>0.006039</td>\n",
       "      <td>0.006286</td>\n",
       "      <td>0.041307</td>\n",
       "      <td>0.001366</td>\n",
       "    </tr>\n",
       "  </tbody>\n",
       "</table>\n",
       "</div>"
      ],
      "text/plain": [
       "Anos de Estudo        1         2         3         4         5         6   \\\n",
       "Cor                                                                          \n",
       "Indigena        0.000638  0.000130  0.000156  0.000221  0.000286  0.000299   \n",
       "Branca          0.018480  0.004737  0.008030  0.012090  0.034917  0.020822   \n",
       "Preta           0.010424  0.002264  0.003397  0.004698  0.009032  0.006806   \n",
       "Amarela         0.000117  0.000026  0.000013  0.000039  0.000273  0.000091   \n",
       "Parda           0.046460  0.010906  0.015747  0.020575  0.043064  0.030531   \n",
       "\n",
       "Anos de Estudo        7         8         9         10        11        12  \\\n",
       "Cor                                                                          \n",
       "Indigena        0.000156  0.000208  0.000586  0.000208  0.000156  0.001067   \n",
       "Branca          0.011192  0.012233  0.040370  0.007262  0.010138  0.115018   \n",
       "Preta           0.003839  0.004099  0.011713  0.003084  0.003592  0.031533   \n",
       "Amarela         0.000078  0.000013  0.000338  0.000026  0.000104  0.001145   \n",
       "Parda           0.016554  0.018441  0.050846  0.013365  0.013574  0.122553   \n",
       "\n",
       "Anos de Estudo        13        14        15        16        17  \n",
       "Cor                                                               \n",
       "Indigena        0.000091  0.000065  0.000078  0.000260  0.000039  \n",
       "Branca          0.011309  0.008628  0.010060  0.087949  0.000807  \n",
       "Preta           0.002460  0.001484  0.001510  0.008993  0.000273  \n",
       "Amarela         0.000117  0.000091  0.000130  0.001978  0.000000  \n",
       "Parda           0.009917  0.006039  0.006286  0.041307  0.001366  "
      ]
     },
     "execution_count": 34,
     "metadata": {},
     "output_type": "execute_result"
    }
   ],
   "source": [
    "percentual_cor_anos_estudo"
   ]
  },
  {
   "cell_type": "markdown",
   "id": "1ca92196-9484-4f91-bdb4-41c7c4beee44",
   "metadata": {},
   "source": [
    "# Distribuição de Frequências Quantitativas"
   ]
  },
  {
   "cell_type": "code",
   "execution_count": 35,
   "id": "77144ab1-6c5e-4c37-8ff0-27ecbc941f61",
   "metadata": {},
   "outputs": [],
   "source": [
    "classes = [0, 1576, 3152, 7880, 15760, 200000]"
   ]
  },
  {
   "cell_type": "code",
   "execution_count": 36,
   "id": "6024fcdc-2b13-421e-b9cb-2123c3322fb4",
   "metadata": {},
   "outputs": [],
   "source": [
    "labels = ['E','D','C','B','A']"
   ]
  },
  {
   "cell_type": "code",
   "execution_count": 37,
   "id": "6d7708d1-bb1f-4d1c-b217-b85aeb77b3e9",
   "metadata": {},
   "outputs": [],
   "source": [
    "frequencia_renda = pd.cut(x = dados.Renda, bins = classes, labels = labels, include_lowest = True).value_counts()"
   ]
  },
  {
   "cell_type": "code",
   "execution_count": 38,
   "id": "9e3c968f-43c7-47e0-87e0-1851d14dbfed",
   "metadata": {},
   "outputs": [],
   "source": [
    "percentual_renda = pd.cut(x = dados.Renda, bins = classes, labels = labels, include_lowest = True).value_counts(normalize = True)"
   ]
  },
  {
   "cell_type": "code",
   "execution_count": 39,
   "id": "bd94431a-fe10-47e0-ab39-3f42c4a5eae1",
   "metadata": {},
   "outputs": [
    {
     "data": {
      "text/plain": [
       "Renda\n",
       "E    49755\n",
       "D    16700\n",
       "C     7599\n",
       "B     2178\n",
       "A      608\n",
       "Name: count, dtype: int64"
      ]
     },
     "execution_count": 39,
     "metadata": {},
     "output_type": "execute_result"
    }
   ],
   "source": [
    "frequencia_renda"
   ]
  },
  {
   "cell_type": "code",
   "execution_count": 40,
   "id": "cba09d22-f572-4e68-9c87-f0bf7957105b",
   "metadata": {},
   "outputs": [
    {
     "data": {
      "text/plain": [
       "Renda\n",
       "E    0.647514\n",
       "D    0.217335\n",
       "C    0.098894\n",
       "B    0.028345\n",
       "A    0.007913\n",
       "Name: proportion, dtype: float64"
      ]
     },
     "execution_count": 40,
     "metadata": {},
     "output_type": "execute_result"
    }
   ],
   "source": [
    "percentual_renda"
   ]
  },
  {
   "cell_type": "code",
   "execution_count": 41,
   "id": "1ac70f63-c460-4ff6-a388-9569eb0f508a",
   "metadata": {},
   "outputs": [],
   "source": [
    "dist_renda = pd.DataFrame({'Frequencia': frequencia_renda, 'Percentual': percentual_renda})"
   ]
  },
  {
   "cell_type": "code",
   "execution_count": 42,
   "id": "3cdce7bd-5c4f-4fed-ab53-60371c1bccfc",
   "metadata": {},
   "outputs": [],
   "source": [
    "dist_renda = dist_renda.sort_index(ascending = False)"
   ]
  },
  {
   "cell_type": "code",
   "execution_count": 43,
   "id": "52b87b71-a7ea-4f47-b2c8-08ca8d81938a",
   "metadata": {},
   "outputs": [
    {
     "data": {
      "text/html": [
       "<div>\n",
       "<style scoped>\n",
       "    .dataframe tbody tr th:only-of-type {\n",
       "        vertical-align: middle;\n",
       "    }\n",
       "\n",
       "    .dataframe tbody tr th {\n",
       "        vertical-align: top;\n",
       "    }\n",
       "\n",
       "    .dataframe thead th {\n",
       "        text-align: right;\n",
       "    }\n",
       "</style>\n",
       "<table border=\"1\" class=\"dataframe\">\n",
       "  <thead>\n",
       "    <tr style=\"text-align: right;\">\n",
       "      <th></th>\n",
       "      <th>Frequencia</th>\n",
       "      <th>Percentual</th>\n",
       "    </tr>\n",
       "    <tr>\n",
       "      <th>Renda</th>\n",
       "      <th></th>\n",
       "      <th></th>\n",
       "    </tr>\n",
       "  </thead>\n",
       "  <tbody>\n",
       "    <tr>\n",
       "      <th>A</th>\n",
       "      <td>608</td>\n",
       "      <td>0.007913</td>\n",
       "    </tr>\n",
       "    <tr>\n",
       "      <th>B</th>\n",
       "      <td>2178</td>\n",
       "      <td>0.028345</td>\n",
       "    </tr>\n",
       "    <tr>\n",
       "      <th>C</th>\n",
       "      <td>7599</td>\n",
       "      <td>0.098894</td>\n",
       "    </tr>\n",
       "    <tr>\n",
       "      <th>D</th>\n",
       "      <td>16700</td>\n",
       "      <td>0.217335</td>\n",
       "    </tr>\n",
       "    <tr>\n",
       "      <th>E</th>\n",
       "      <td>49755</td>\n",
       "      <td>0.647514</td>\n",
       "    </tr>\n",
       "  </tbody>\n",
       "</table>\n",
       "</div>"
      ],
      "text/plain": [
       "       Frequencia  Percentual\n",
       "Renda                        \n",
       "A             608    0.007913\n",
       "B            2178    0.028345\n",
       "C            7599    0.098894\n",
       "D           16700    0.217335\n",
       "E           49755    0.647514"
      ]
     },
     "execution_count": 43,
     "metadata": {},
     "output_type": "execute_result"
    }
   ],
   "source": [
    "dist_renda"
   ]
  },
  {
   "cell_type": "markdown",
   "id": "0322ee84-a2d0-40c6-abd4-bcfb51a4960f",
   "metadata": {},
   "source": [
    "# Histogramas"
   ]
  },
  {
   "cell_type": "code",
   "execution_count": 44,
   "id": "1cb8069f-1f2d-4d37-bef8-108b696a0539",
   "metadata": {},
   "outputs": [],
   "source": [
    "import seaborn as sns"
   ]
  },
  {
   "cell_type": "code",
   "execution_count": 45,
   "id": "07b15fe2-8719-4d8f-abb3-07ca2826b3e2",
   "metadata": {},
   "outputs": [
    {
     "name": "stderr",
     "output_type": "stream",
     "text": [
      "C:\\Users\\guigu\\AppData\\Local\\Temp\\ipykernel_14860\\3080948882.py:1: UserWarning: \n",
      "\n",
      "`distplot` is a deprecated function and will be removed in seaborn v0.14.0.\n",
      "\n",
      "Please adapt your code to use either `displot` (a figure-level function with\n",
      "similar flexibility) or `histplot` (an axes-level function for histograms).\n",
      "\n",
      "For a guide to updating your code to use the new functions, please see\n",
      "https://gist.github.com/mwaskom/de44147ed2974457ad6372750bbe5751\n",
      "\n",
      "  ax = sns.distplot(dados['Altura'])\n",
      "E:\\Anaconda\\Lib\\site-packages\\seaborn\\_oldcore.py:1119: FutureWarning: use_inf_as_na option is deprecated and will be removed in a future version. Convert inf values to NaN before operating instead.\n",
      "  with pd.option_context('mode.use_inf_as_na', True):\n"
     ]
    },
    {
     "data": {
      "image/png": "[encoded data removed]",
      "text/plain": [
       "<Figure size 640x480 with 1 Axes>"
      ]
     },
     "metadata": {},
     "output_type": "display_data"
    }
   ],
   "source": [
    "ax = sns.distplot(dados['Altura'])"
   ]
  },
  {
   "cell_type": "code",
   "execution_count": 46,
   "id": "1dfd0fcb-d9c3-4f57-91f5-83b4a2ec1911",
   "metadata": {},
   "outputs": [
    {
     "data": {
      "text/plain": [
       "<Axes: >"
      ]
     },
     "execution_count": 46,
     "metadata": {},
     "output_type": "execute_result"
    },
    {
     "data": {
      "image/png": "[encoded data removed]",
      "text/plain": [
       "<Figure size 1200x600 with 1 Axes>"
      ]
     },
     "metadata": {},
     "output_type": "display_data"
    }
   ],
   "source": [
    "dados.Altura.hist(bins = 50, figsize=(12,6))"
   ]
  },
  {
   "cell_type": "code",
   "execution_count": 47,
   "id": "57cb2693-4670-4a2c-93c3-9b48cc2c3055",
   "metadata": {},
   "outputs": [
    {
     "data": {
      "text/plain": [
       "Cor\n",
       "8    35925\n",
       "2    31815\n",
       "4     8391\n",
       "0      357\n",
       "6      352\n",
       "Name: count, dtype: int64"
      ]
     },
     "execution_count": 47,
     "metadata": {},
     "output_type": "execute_result"
    }
   ],
   "source": [
    "frequencia_cor "
   ]
  },
  {
   "cell_type": "code",
   "execution_count": 48,
   "id": "3103d5bf-6ae4-49c9-ad2e-713321c2fcdc",
   "metadata": {},
   "outputs": [
    {
     "data": {
      "text/html": [
       "<div>\n",
       "<style scoped>\n",
       "    .dataframe tbody tr th:only-of-type {\n",
       "        vertical-align: middle;\n",
       "    }\n",
       "\n",
       "    .dataframe tbody tr th {\n",
       "        vertical-align: top;\n",
       "    }\n",
       "\n",
       "    .dataframe thead th {\n",
       "        text-align: right;\n",
       "    }\n",
       "</style>\n",
       "<table border=\"1\" class=\"dataframe\">\n",
       "  <thead>\n",
       "    <tr style=\"text-align: right;\">\n",
       "      <th></th>\n",
       "      <th>Frequencia</th>\n",
       "      <th>Percentual</th>\n",
       "    </tr>\n",
       "    <tr>\n",
       "      <th>Cor</th>\n",
       "      <th></th>\n",
       "      <th></th>\n",
       "    </tr>\n",
       "  </thead>\n",
       "  <tbody>\n",
       "    <tr>\n",
       "      <th>Parda</th>\n",
       "      <td>35925</td>\n",
       "      <td>0.467530</td>\n",
       "    </tr>\n",
       "    <tr>\n",
       "      <th>Branca</th>\n",
       "      <td>31815</td>\n",
       "      <td>0.414042</td>\n",
       "    </tr>\n",
       "    <tr>\n",
       "      <th>Preta</th>\n",
       "      <td>8391</td>\n",
       "      <td>0.109201</td>\n",
       "    </tr>\n",
       "    <tr>\n",
       "      <th>Indigena</th>\n",
       "      <td>357</td>\n",
       "      <td>0.004646</td>\n",
       "    </tr>\n",
       "    <tr>\n",
       "      <th>Amarela</th>\n",
       "      <td>352</td>\n",
       "      <td>0.004581</td>\n",
       "    </tr>\n",
       "  </tbody>\n",
       "</table>\n",
       "</div>"
      ],
      "text/plain": [
       "          Frequencia  Percentual\n",
       "Cor                             \n",
       "Parda          35925    0.467530\n",
       "Branca         31815    0.414042\n",
       "Preta           8391    0.109201\n",
       "Indigena         357    0.004646\n",
       "Amarela          352    0.004581"
      ]
     },
     "execution_count": 48,
     "metadata": {},
     "output_type": "execute_result"
    }
   ],
   "source": [
    "dist_freq_cor"
   ]
  },
  {
   "cell_type": "code",
   "execution_count": 49,
   "id": "ff86f09f-fd0c-4535-a89e-2979e646fc9c",
   "metadata": {},
   "outputs": [
    {
     "data": {
      "text/plain": [
       "<Axes: xlabel='Cor'>"
      ]
     },
     "execution_count": 49,
     "metadata": {},
     "output_type": "execute_result"
    },
    {
     "data": {
      "image/png": "[encoded data removed]",
      "text/plain": [
       "<Figure size 1200x600 with 1 Axes>"
      ]
     },
     "metadata": {},
     "output_type": "display_data"
    }
   ],
   "source": [
    "dist_freq_cor['Frequencia'].plot.bar(width = 1, alpha = 0.2,figsize = (12,6))"
   ]
  },
  {
   "cell_type": "markdown",
   "id": "9b277ba1-ca2c-49ce-b240-a766337f8420",
   "metadata": {},
   "source": [
    "# Medidas de Tendencia Central"
   ]
  },
  {
   "cell_type": "code",
   "execution_count": 50,
   "id": "7efe8a9e-b586-4d80-af01-741c258cfab7",
   "metadata": {},
   "outputs": [
    {
     "data": {
      "text/plain": [
       "2000.3831988547631"
      ]
     },
     "execution_count": 50,
     "metadata": {},
     "output_type": "execute_result"
    }
   ],
   "source": [
    "dados['Renda'].mean()"
   ]
  },
  {
   "cell_type": "code",
   "execution_count": 51,
   "id": "e2419cd9-a21a-4da5-814f-820cfce56297",
   "metadata": {},
   "outputs": [
    {
     "data": {
      "text/plain": [
       "Sexo\n",
       "0    2192.441596\n",
       "1    1566.847393\n",
       "Name: Renda, dtype: float64"
      ]
     },
     "execution_count": 51,
     "metadata": {},
     "output_type": "execute_result"
    }
   ],
   "source": [
    "dados.groupby('Sexo')['Renda'].mean()"
   ]
  },
  {
   "cell_type": "code",
   "execution_count": 52,
   "id": "fe9bd79d-c4d3-4ff1-9da5-3bb4b2a304f1",
   "metadata": {},
   "outputs": [
    {
     "data": {
      "text/plain": [
       "2192.4415962441312"
      ]
     },
     "execution_count": 52,
     "metadata": {},
     "output_type": "execute_result"
    }
   ],
   "source": [
    "dados.groupby('Sexo')['Renda'].mean()[0]"
   ]
  },
  {
   "cell_type": "code",
   "execution_count": 53,
   "id": "f4a22eec-f548-477b-91f0-5be5e88423bb",
   "metadata": {},
   "outputs": [
    {
     "data": {
      "text/plain": [
       "1566.84739296312"
      ]
     },
     "execution_count": 53,
     "metadata": {},
     "output_type": "execute_result"
    }
   ],
   "source": [
    "dados.groupby('Sexo')['Renda'].mean()[1]"
   ]
  },
  {
   "cell_type": "code",
   "execution_count": 54,
   "id": "85a859ea-6273-4de3-9364-0ee6076336eb",
   "metadata": {},
   "outputs": [
    {
     "data": {
      "text/plain": [
       "0         800\n",
       "1        1150\n",
       "2         880\n",
       "3        3500\n",
       "4         150\n",
       "         ... \n",
       "76835     812\n",
       "76836    1500\n",
       "76837    1300\n",
       "76838    1500\n",
       "76839     900\n",
       "Name: Renda, Length: 76840, dtype: int64"
      ]
     },
     "execution_count": 54,
     "metadata": {},
     "output_type": "execute_result"
    }
   ],
   "source": [
    "dados['Renda']"
   ]
  },
  {
   "cell_type": "code",
   "execution_count": 55,
   "id": "2b8234b1-d51c-460b-90ff-bc6e7f95b2b6",
   "metadata": {},
   "outputs": [
    {
     "data": {
      "text/plain": [
       "1200.0"
      ]
     },
     "execution_count": 55,
     "metadata": {},
     "output_type": "execute_result"
    }
   ],
   "source": [
    "dados['Renda'].median()"
   ]
  },
  {
   "cell_type": "code",
   "execution_count": 56,
   "id": "724d9ca7-ee7d-49ee-ae3f-69f43ccb04b2",
   "metadata": {},
   "outputs": [
    {
     "data": {
      "text/plain": [
       "Sexo\n",
       "0    1350.0\n",
       "1     900.0\n",
       "Name: Renda, dtype: float64"
      ]
     },
     "execution_count": 56,
     "metadata": {},
     "output_type": "execute_result"
    }
   ],
   "source": [
    "dados.groupby('Sexo')['Renda'].median()"
   ]
  },
  {
   "cell_type": "code",
   "execution_count": 57,
   "id": "e6cf33a7-94d8-4589-9d4f-17c998fcacd8",
   "metadata": {},
   "outputs": [
    {
     "data": {
      "text/plain": [
       "43.0"
      ]
     },
     "execution_count": 57,
     "metadata": {},
     "output_type": "execute_result"
    }
   ],
   "source": [
    "dados['Idade'].median()"
   ]
  },
  {
   "cell_type": "code",
   "execution_count": 58,
   "id": "fba1e168-a4f0-4b42-9cca-9ff0783f978c",
   "metadata": {},
   "outputs": [
    {
     "data": {
      "text/plain": [
       "1.6993247325"
      ]
     },
     "execution_count": 58,
     "metadata": {},
     "output_type": "execute_result"
    }
   ],
   "source": [
    "dados['Altura'].median()"
   ]
  },
  {
   "cell_type": "code",
   "execution_count": 59,
   "id": "9c20d4b5-596a-4905-9564-6eb319b8e6b5",
   "metadata": {},
   "outputs": [
    {
     "data": {
      "text/plain": [
       "0    788\n",
       "Name: Renda, dtype: int64"
      ]
     },
     "execution_count": 59,
     "metadata": {},
     "output_type": "execute_result"
    }
   ],
   "source": [
    "dados['Renda'].mode()"
   ]
  },
  {
   "cell_type": "code",
   "execution_count": 60,
   "id": "8ab4ccfa-e755-4bcc-8533-3aade45df493",
   "metadata": {},
   "outputs": [
    {
     "data": {
      "text/plain": [
       "0    1.568128\n",
       "1    1.671225\n",
       "2    1.681659\n",
       "3    1.692977\n",
       "4    1.708163\n",
       "5    1.708370\n",
       "6    1.753842\n",
       "7    1.779073\n",
       "8    1.796462\n",
       "Name: Altura, dtype: float64"
      ]
     },
     "execution_count": 60,
     "metadata": {},
     "output_type": "execute_result"
    }
   ],
   "source": [
    "dados['Altura'].mode()"
   ]
  },
  {
   "cell_type": "code",
   "execution_count": 61,
   "id": "03fef730-db9b-4eb8-8f21-dbaf5900b7a6",
   "metadata": {},
   "outputs": [
    {
     "data": {
      "text/html": [
       "<div>\n",
       "<style scoped>\n",
       "    .dataframe tbody tr th:only-of-type {\n",
       "        vertical-align: middle;\n",
       "    }\n",
       "\n",
       "    .dataframe tbody tr th {\n",
       "        vertical-align: top;\n",
       "    }\n",
       "\n",
       "    .dataframe thead th {\n",
       "        text-align: right;\n",
       "    }\n",
       "</style>\n",
       "<table border=\"1\" class=\"dataframe\">\n",
       "  <thead>\n",
       "    <tr style=\"text-align: right;\">\n",
       "      <th></th>\n",
       "      <th>UF</th>\n",
       "      <th>Sexo</th>\n",
       "      <th>Idade</th>\n",
       "      <th>Cor</th>\n",
       "      <th>Anos de Estudo</th>\n",
       "      <th>Renda</th>\n",
       "      <th>Altura</th>\n",
       "    </tr>\n",
       "  </thead>\n",
       "  <tbody>\n",
       "    <tr>\n",
       "      <th>0</th>\n",
       "      <td>35.0</td>\n",
       "      <td>0.0</td>\n",
       "      <td>40.0</td>\n",
       "      <td>8.0</td>\n",
       "      <td>12.0</td>\n",
       "      <td>788.0</td>\n",
       "      <td>1.568128</td>\n",
       "    </tr>\n",
       "    <tr>\n",
       "      <th>1</th>\n",
       "      <td>NaN</td>\n",
       "      <td>NaN</td>\n",
       "      <td>NaN</td>\n",
       "      <td>NaN</td>\n",
       "      <td>NaN</td>\n",
       "      <td>NaN</td>\n",
       "      <td>1.671225</td>\n",
       "    </tr>\n",
       "    <tr>\n",
       "      <th>2</th>\n",
       "      <td>NaN</td>\n",
       "      <td>NaN</td>\n",
       "      <td>NaN</td>\n",
       "      <td>NaN</td>\n",
       "      <td>NaN</td>\n",
       "      <td>NaN</td>\n",
       "      <td>1.681659</td>\n",
       "    </tr>\n",
       "    <tr>\n",
       "      <th>3</th>\n",
       "      <td>NaN</td>\n",
       "      <td>NaN</td>\n",
       "      <td>NaN</td>\n",
       "      <td>NaN</td>\n",
       "      <td>NaN</td>\n",
       "      <td>NaN</td>\n",
       "      <td>1.692977</td>\n",
       "    </tr>\n",
       "    <tr>\n",
       "      <th>4</th>\n",
       "      <td>NaN</td>\n",
       "      <td>NaN</td>\n",
       "      <td>NaN</td>\n",
       "      <td>NaN</td>\n",
       "      <td>NaN</td>\n",
       "      <td>NaN</td>\n",
       "      <td>1.708163</td>\n",
       "    </tr>\n",
       "    <tr>\n",
       "      <th>5</th>\n",
       "      <td>NaN</td>\n",
       "      <td>NaN</td>\n",
       "      <td>NaN</td>\n",
       "      <td>NaN</td>\n",
       "      <td>NaN</td>\n",
       "      <td>NaN</td>\n",
       "      <td>1.708370</td>\n",
       "    </tr>\n",
       "    <tr>\n",
       "      <th>6</th>\n",
       "      <td>NaN</td>\n",
       "      <td>NaN</td>\n",
       "      <td>NaN</td>\n",
       "      <td>NaN</td>\n",
       "      <td>NaN</td>\n",
       "      <td>NaN</td>\n",
       "      <td>1.753842</td>\n",
       "    </tr>\n",
       "    <tr>\n",
       "      <th>7</th>\n",
       "      <td>NaN</td>\n",
       "      <td>NaN</td>\n",
       "      <td>NaN</td>\n",
       "      <td>NaN</td>\n",
       "      <td>NaN</td>\n",
       "      <td>NaN</td>\n",
       "      <td>1.779073</td>\n",
       "    </tr>\n",
       "    <tr>\n",
       "      <th>8</th>\n",
       "      <td>NaN</td>\n",
       "      <td>NaN</td>\n",
       "      <td>NaN</td>\n",
       "      <td>NaN</td>\n",
       "      <td>NaN</td>\n",
       "      <td>NaN</td>\n",
       "      <td>1.796462</td>\n",
       "    </tr>\n",
       "  </tbody>\n",
       "</table>\n",
       "</div>"
      ],
      "text/plain": [
       "     UF  Sexo  Idade  Cor  Anos de Estudo  Renda    Altura\n",
       "0  35.0   0.0   40.0  8.0            12.0  788.0  1.568128\n",
       "1   NaN   NaN    NaN  NaN             NaN    NaN  1.671225\n",
       "2   NaN   NaN    NaN  NaN             NaN    NaN  1.681659\n",
       "3   NaN   NaN    NaN  NaN             NaN    NaN  1.692977\n",
       "4   NaN   NaN    NaN  NaN             NaN    NaN  1.708163\n",
       "5   NaN   NaN    NaN  NaN             NaN    NaN  1.708370\n",
       "6   NaN   NaN    NaN  NaN             NaN    NaN  1.753842\n",
       "7   NaN   NaN    NaN  NaN             NaN    NaN  1.779073\n",
       "8   NaN   NaN    NaN  NaN             NaN    NaN  1.796462"
      ]
     },
     "execution_count": 61,
     "metadata": {},
     "output_type": "execute_result"
    }
   ],
   "source": [
    "dados.mode()"
   ]
  },
  {
   "cell_type": "code",
   "execution_count": 62,
   "id": "f45dc822-c0dc-416f-9bd3-9aa805801a2c",
   "metadata": {},
   "outputs": [
    {
     "name": "stderr",
     "output_type": "stream",
     "text": [
      "C:\\Users\\guigu\\AppData\\Local\\Temp\\ipykernel_14860\\3938339095.py:1: UserWarning: \n",
      "\n",
      "`distplot` is a deprecated function and will be removed in seaborn v0.14.0.\n",
      "\n",
      "Please adapt your code to use either `displot` (a figure-level function with\n",
      "similar flexibility) or `histplot` (an axes-level function for histograms).\n",
      "\n",
      "For a guide to updating your code to use the new functions, please see\n",
      "https://gist.github.com/mwaskom/de44147ed2974457ad6372750bbe5751\n",
      "\n",
      "  sns.distplot(dados.query('Renda < 20000').Renda)\n",
      "E:\\Anaconda\\Lib\\site-packages\\seaborn\\_oldcore.py:1119: FutureWarning: use_inf_as_na option is deprecated and will be removed in a future version. Convert inf values to NaN before operating instead.\n",
      "  with pd.option_context('mode.use_inf_as_na', True):\n"
     ]
    },
    {
     "data": {
      "text/plain": [
       "<Axes: xlabel='Renda', ylabel='Density'>"
      ]
     },
     "execution_count": 62,
     "metadata": {},
     "output_type": "execute_result"
    },
    {
     "data": {
      "image/png": "[encoded data removed]",
      "text/plain": [
       "<Figure size 640x480 with 1 Axes>"
      ]
     },
     "metadata": {},
     "output_type": "display_data"
    }
   ],
   "source": [
    "sns.distplot(dados.query('Renda < 20000').Renda)"
   ]
  },
  {
   "cell_type": "code",
   "execution_count": 63,
   "id": "d33999b2-08b8-4e08-b3f1-149a7ec4b811",
   "metadata": {},
   "outputs": [
    {
     "data": {
      "text/plain": [
       "2000.3831988547631"
      ]
     },
     "execution_count": 63,
     "metadata": {},
     "output_type": "execute_result"
    }
   ],
   "source": [
    "dados.Renda.mean()"
   ]
  },
  {
   "cell_type": "code",
   "execution_count": 64,
   "id": "741100f4-8839-40eb-b6b0-0ff39d400816",
   "metadata": {},
   "outputs": [
    {
     "data": {
      "text/plain": [
       "1200.0"
      ]
     },
     "execution_count": 64,
     "metadata": {},
     "output_type": "execute_result"
    }
   ],
   "source": [
    "dados.Renda.median()"
   ]
  },
  {
   "cell_type": "code",
   "execution_count": 65,
   "id": "81bbe5f2-b8ea-4f36-ac16-574ac805e251",
   "metadata": {},
   "outputs": [
    {
     "data": {
      "text/plain": [
       "788"
      ]
     },
     "execution_count": 65,
     "metadata": {},
     "output_type": "execute_result"
    }
   ],
   "source": [
    "dados.Renda.mode()[0]"
   ]
  },
  {
   "cell_type": "code",
   "execution_count": 66,
   "id": "9aea5f8a-9542-427e-90bc-94cf3b7b9978",
   "metadata": {},
   "outputs": [
    {
     "name": "stderr",
     "output_type": "stream",
     "text": [
      "C:\\Users\\guigu\\AppData\\Local\\Temp\\ipykernel_14860\\137153965.py:1: UserWarning: \n",
      "\n",
      "`distplot` is a deprecated function and will be removed in seaborn v0.14.0.\n",
      "\n",
      "Please adapt your code to use either `displot` (a figure-level function with\n",
      "similar flexibility) or `histplot` (an axes-level function for histograms).\n",
      "\n",
      "For a guide to updating your code to use the new functions, please see\n",
      "https://gist.github.com/mwaskom/de44147ed2974457ad6372750bbe5751\n",
      "\n",
      "  sns.distplot(dados.Altura)\n",
      "E:\\Anaconda\\Lib\\site-packages\\seaborn\\_oldcore.py:1119: FutureWarning: use_inf_as_na option is deprecated and will be removed in a future version. Convert inf values to NaN before operating instead.\n",
      "  with pd.option_context('mode.use_inf_as_na', True):\n"
     ]
    },
    {
     "data": {
      "text/plain": [
       "<Axes: xlabel='Altura', ylabel='Density'>"
      ]
     },
     "execution_count": 66,
     "metadata": {},
     "output_type": "execute_result"
    },
    {
     "data": {
      "image/png": "[encoded data removed]",
      "text/plain": [
       "<Figure size 640x480 with 1 Axes>"
      ]
     },
     "metadata": {},
     "output_type": "display_data"
    }
   ],
   "source": [
    "sns.distplot(dados.Altura)"
   ]
  },
  {
   "cell_type": "code",
   "execution_count": 67,
   "id": "7dea7513-5481-48bb-b6fe-dcb175a1cc30",
   "metadata": {},
   "outputs": [
    {
     "data": {
      "text/plain": [
       "1.6995124540575741"
      ]
     },
     "execution_count": 67,
     "metadata": {},
     "output_type": "execute_result"
    }
   ],
   "source": [
    "dados.Altura.mean()"
   ]
  },
  {
   "cell_type": "code",
   "execution_count": 68,
   "id": "4a8a07e2-7d6a-46ed-89a0-56ed1e3c0d8a",
   "metadata": {},
   "outputs": [
    {
     "data": {
      "text/plain": [
       "1.6993247325"
      ]
     },
     "execution_count": 68,
     "metadata": {},
     "output_type": "execute_result"
    }
   ],
   "source": [
    "dados.Altura.median()"
   ]
  },
  {
   "cell_type": "code",
   "execution_count": 69,
   "id": "913c2903-9699-4488-aac1-9f5bc56f327c",
   "metadata": {},
   "outputs": [
    {
     "data": {
      "text/plain": [
       "1.56812756"
      ]
     },
     "execution_count": 69,
     "metadata": {},
     "output_type": "execute_result"
    }
   ],
   "source": [
    "dados.Altura.mode()[0]"
   ]
  },
  {
   "cell_type": "code",
   "execution_count": 70,
   "id": "816a19cd-45a6-45be-8e30-d5b3a4bcacfb",
   "metadata": {},
   "outputs": [
    {
     "name": "stderr",
     "output_type": "stream",
     "text": [
      "C:\\Users\\guigu\\AppData\\Local\\Temp\\ipykernel_14860\\3022142367.py:1: UserWarning: \n",
      "\n",
      "`distplot` is a deprecated function and will be removed in seaborn v0.14.0.\n",
      "\n",
      "Please adapt your code to use either `displot` (a figure-level function with\n",
      "similar flexibility) or `histplot` (an axes-level function for histograms).\n",
      "\n",
      "For a guide to updating your code to use the new functions, please see\n",
      "https://gist.github.com/mwaskom/de44147ed2974457ad6372750bbe5751\n",
      "\n",
      "  sns.distplot(dados.Idade)\n",
      "E:\\Anaconda\\Lib\\site-packages\\seaborn\\_oldcore.py:1119: FutureWarning: use_inf_as_na option is deprecated and will be removed in a future version. Convert inf values to NaN before operating instead.\n",
      "  with pd.option_context('mode.use_inf_as_na', True):\n"
     ]
    },
    {
     "data": {
      "text/plain": [
       "<Axes: xlabel='Idade', ylabel='Density'>"
      ]
     },
     "execution_count": 70,
     "metadata": {},
     "output_type": "execute_result"
    },
    {
     "data": {
      "image/png": "[encoded data removed]",
      "text/plain": [
       "<Figure size 640x480 with 1 Axes>"
      ]
     },
     "metadata": {},
     "output_type": "display_data"
    }
   ],
   "source": [
    "sns.distplot(dados.Idade)"
   ]
  },
  {
   "cell_type": "code",
   "execution_count": 71,
   "id": "82f9d000-8d8a-4af0-88c7-fb22b0300abe",
   "metadata": {},
   "outputs": [
    {
     "data": {
      "text/plain": [
       "44.07142113482561"
      ]
     },
     "execution_count": 71,
     "metadata": {},
     "output_type": "execute_result"
    }
   ],
   "source": [
    "dados.Idade.mean()"
   ]
  },
  {
   "cell_type": "code",
   "execution_count": 72,
   "id": "633f352c-9b1e-4e74-9a6a-dcad75b020ac",
   "metadata": {},
   "outputs": [
    {
     "data": {
      "text/plain": [
       "43.0"
      ]
     },
     "execution_count": 72,
     "metadata": {},
     "output_type": "execute_result"
    }
   ],
   "source": [
    "dados.Idade.median()"
   ]
  },
  {
   "cell_type": "code",
   "execution_count": 73,
   "id": "b9587d07-bd81-4bc6-88af-6d323ddab73a",
   "metadata": {},
   "outputs": [
    {
     "data": {
      "text/plain": [
       "40"
      ]
     },
     "execution_count": 73,
     "metadata": {},
     "output_type": "execute_result"
    }
   ],
   "source": [
    "dados.Idade.mode()[0]"
   ]
  },
  {
   "cell_type": "code",
   "execution_count": 74,
   "id": "c2eec9d2-9e95-42e5-a9c4-0e466b224966",
   "metadata": {},
   "outputs": [
    {
     "data": {
      "text/plain": [
       "0.25     788.0\n",
       "0.50    1200.0\n",
       "0.75    2000.0\n",
       "Name: Renda, dtype: float64"
      ]
     },
     "execution_count": 74,
     "metadata": {},
     "output_type": "execute_result"
    }
   ],
   "source": [
    "dados.Renda.quantile([0.25,0.5,0.75])"
   ]
  },
  {
   "cell_type": "code",
   "execution_count": 75,
   "id": "b9c86cb5-bee3-4346-93fe-98307f1c3044",
   "metadata": {},
   "outputs": [
    {
     "data": {
      "text/plain": [
       "0.1     350.0\n",
       "0.2     788.0\n",
       "0.3     800.0\n",
       "0.4    1000.0\n",
       "0.5    1200.0\n",
       "0.6    1500.0\n",
       "0.7    1900.0\n",
       "0.8    2500.0\n",
       "0.9    4000.0\n",
       "Name: Renda, dtype: float64"
      ]
     },
     "execution_count": 75,
     "metadata": {},
     "output_type": "execute_result"
    }
   ],
   "source": [
    "dados.Renda.quantile([0.1,0.2,0.3,0.4,0.5,0.6,0.7,0.8,0.9])"
   ]
  },
  {
   "cell_type": "code",
   "execution_count": 76,
   "id": "c15b8e26-b8a3-4661-a3f9-a2bd4f2e42b8",
   "metadata": {},
   "outputs": [
    {
     "data": {
      "text/plain": [
       "<Axes: xlabel='Altura'>"
      ]
     },
     "execution_count": 76,
     "metadata": {},
     "output_type": "execute_result"
    },
    {
     "data": {
      "image/png": "[encoded data removed]",
      "text/plain": [
       "<Figure size 640x480 with 1 Axes>"
      ]
     },
     "metadata": {},
     "output_type": "display_data"
    }
   ],
   "source": [
    "sns.boxplot(x = 'Altura', data = dados)"
   ]
  },
  {
   "cell_type": "code",
   "execution_count": 77,
   "id": "6f3fd0f9-0803-467d-9bd3-6c06d88f37e8",
   "metadata": {},
   "outputs": [
    {
     "data": {
      "text/plain": [
       "<Axes: xlabel='Renda'>"
      ]
     },
     "execution_count": 77,
     "metadata": {},
     "output_type": "execute_result"
    },
    {
     "data": {
      "image/png": "[encoded data removed]",
      "text/plain": [
       "<Figure size 640x480 with 1 Axes>"
      ]
     },
     "metadata": {},
     "output_type": "display_data"
    }
   ],
   "source": [
    "sns.boxplot(x = 'Renda', data = dados.query('Renda < 20000'))"
   ]
  },
  {
   "cell_type": "code",
   "execution_count": 78,
   "id": "5da8af01-0bf7-4929-9cea-bc025bc8c858",
   "metadata": {},
   "outputs": [
    {
     "data": {
      "text/plain": [
       "<Axes: xlabel='Idade'>"
      ]
     },
     "execution_count": 78,
     "metadata": {},
     "output_type": "execute_result"
    },
    {
     "data": {
      "image/png": "[encoded data removed]",
      "text/plain": [
       "<Figure size 640x480 with 1 Axes>"
      ]
     },
     "metadata": {},
     "output_type": "display_data"
    }
   ],
   "source": [
    "sns.boxplot(x = 'Idade', data = dados)"
   ]
  },
  {
   "cell_type": "code",
   "execution_count": 79,
   "id": "53276652-a28f-4fe5-ad2e-8f6ca7c5791c",
   "metadata": {},
   "outputs": [
    {
     "data": {
      "text/plain": [
       "<Axes: xlabel='Anos de Estudo'>"
      ]
     },
     "execution_count": 79,
     "metadata": {},
     "output_type": "execute_result"
    },
    {
     "data": {
      "image/png": "[encoded data removed]",
      "text/plain": [
       "<Figure size 640x480 with 1 Axes>"
      ]
     },
     "metadata": {},
     "output_type": "display_data"
    }
   ],
   "source": [
    "sns.boxplot(x = 'Anos de Estudo', data = dados)"
   ]
  },
  {
   "cell_type": "code",
   "execution_count": 80,
   "id": "dc5ea0cd-caeb-4bbf-8431-5440acc10dc9",
   "metadata": {},
   "outputs": [
    {
     "data": {
      "text/plain": [
       "<Axes: xlabel='Anos de Estudo', ylabel='Sexo'>"
      ]
     },
     "execution_count": 80,
     "metadata": {},
     "output_type": "execute_result"
    },
    {
     "data": {
      "image/png": "[encoded data removed]",
      "text/plain": [
       "<Figure size 640x480 with 1 Axes>"
      ]
     },
     "metadata": {},
     "output_type": "display_data"
    }
   ],
   "source": [
    "sns.boxplot(x = 'Anos de Estudo', y = 'Sexo', data = dados, orient = 'h')"
   ]
  },
  {
   "cell_type": "code",
   "execution_count": 81,
   "id": "696cd3c2-a44c-4d73-bec2-fd304d80e0bc",
   "metadata": {},
   "outputs": [
    {
     "data": {
      "text/plain": [
       "11044906.00622118"
      ]
     },
     "execution_count": 81,
     "metadata": {},
     "output_type": "execute_result"
    }
   ],
   "source": [
    "dados['Renda'].var()"
   ]
  },
  {
   "cell_type": "code",
   "execution_count": 82,
   "id": "c58489a6-7887-4a6b-a4a0-205df9e7a3b6",
   "metadata": {},
   "outputs": [
    {
     "data": {
      "text/plain": [
       "3323.3877303470294"
      ]
     },
     "execution_count": 82,
     "metadata": {},
     "output_type": "execute_result"
    }
   ],
   "source": [
    "dados['Renda'].std()"
   ]
  },
  {
   "cell_type": "markdown",
   "id": "a4a43c06-bd2a-485f-b3cf-1af0e944b33d",
   "metadata": {},
   "source": [
    "# Projeto Final pt1- Análise Descritiva de Dados"
   ]
  },
  {
   "cell_type": "code",
   "execution_count": 83,
   "id": "e5b639a8-4e1e-4848-aea6-835dba179a54",
   "metadata": {},
   "outputs": [
    {
     "data": {
      "text/html": [
       "<div>\n",
       "<style scoped>\n",
       "    .dataframe tbody tr th:only-of-type {\n",
       "        vertical-align: middle;\n",
       "    }\n",
       "\n",
       "    .dataframe tbody tr th {\n",
       "        vertical-align: top;\n",
       "    }\n",
       "\n",
       "    .dataframe thead th {\n",
       "        text-align: right;\n",
       "    }\n",
       "</style>\n",
       "<table border=\"1\" class=\"dataframe\">\n",
       "  <thead>\n",
       "    <tr style=\"text-align: right;\">\n",
       "      <th></th>\n",
       "      <th>UF</th>\n",
       "      <th>Sexo</th>\n",
       "      <th>Idade</th>\n",
       "      <th>Cor</th>\n",
       "      <th>Anos de Estudo</th>\n",
       "      <th>Renda</th>\n",
       "      <th>Altura</th>\n",
       "    </tr>\n",
       "  </thead>\n",
       "  <tbody>\n",
       "    <tr>\n",
       "      <th>0</th>\n",
       "      <td>11</td>\n",
       "      <td>0</td>\n",
       "      <td>23</td>\n",
       "      <td>8</td>\n",
       "      <td>12</td>\n",
       "      <td>800</td>\n",
       "      <td>1.603808</td>\n",
       "    </tr>\n",
       "    <tr>\n",
       "      <th>1</th>\n",
       "      <td>11</td>\n",
       "      <td>1</td>\n",
       "      <td>23</td>\n",
       "      <td>2</td>\n",
       "      <td>12</td>\n",
       "      <td>1150</td>\n",
       "      <td>1.739790</td>\n",
       "    </tr>\n",
       "    <tr>\n",
       "      <th>2</th>\n",
       "      <td>11</td>\n",
       "      <td>1</td>\n",
       "      <td>35</td>\n",
       "      <td>8</td>\n",
       "      <td>15</td>\n",
       "      <td>880</td>\n",
       "      <td>1.760444</td>\n",
       "    </tr>\n",
       "    <tr>\n",
       "      <th>3</th>\n",
       "      <td>11</td>\n",
       "      <td>0</td>\n",
       "      <td>46</td>\n",
       "      <td>2</td>\n",
       "      <td>6</td>\n",
       "      <td>3500</td>\n",
       "      <td>1.783158</td>\n",
       "    </tr>\n",
       "    <tr>\n",
       "      <th>4</th>\n",
       "      <td>11</td>\n",
       "      <td>1</td>\n",
       "      <td>47</td>\n",
       "      <td>8</td>\n",
       "      <td>9</td>\n",
       "      <td>150</td>\n",
       "      <td>1.690631</td>\n",
       "    </tr>\n",
       "    <tr>\n",
       "      <th>...</th>\n",
       "      <td>...</td>\n",
       "      <td>...</td>\n",
       "      <td>...</td>\n",
       "      <td>...</td>\n",
       "      <td>...</td>\n",
       "      <td>...</td>\n",
       "      <td>...</td>\n",
       "    </tr>\n",
       "    <tr>\n",
       "      <th>76835</th>\n",
       "      <td>53</td>\n",
       "      <td>1</td>\n",
       "      <td>46</td>\n",
       "      <td>2</td>\n",
       "      <td>11</td>\n",
       "      <td>812</td>\n",
       "      <td>1.687030</td>\n",
       "    </tr>\n",
       "    <tr>\n",
       "      <th>76836</th>\n",
       "      <td>53</td>\n",
       "      <td>0</td>\n",
       "      <td>30</td>\n",
       "      <td>4</td>\n",
       "      <td>7</td>\n",
       "      <td>1500</td>\n",
       "      <td>1.792934</td>\n",
       "    </tr>\n",
       "    <tr>\n",
       "      <th>76837</th>\n",
       "      <td>53</td>\n",
       "      <td>0</td>\n",
       "      <td>32</td>\n",
       "      <td>8</td>\n",
       "      <td>12</td>\n",
       "      <td>1300</td>\n",
       "      <td>1.830587</td>\n",
       "    </tr>\n",
       "    <tr>\n",
       "      <th>76838</th>\n",
       "      <td>53</td>\n",
       "      <td>0</td>\n",
       "      <td>57</td>\n",
       "      <td>8</td>\n",
       "      <td>4</td>\n",
       "      <td>1500</td>\n",
       "      <td>1.726344</td>\n",
       "    </tr>\n",
       "    <tr>\n",
       "      <th>76839</th>\n",
       "      <td>53</td>\n",
       "      <td>0</td>\n",
       "      <td>38</td>\n",
       "      <td>8</td>\n",
       "      <td>4</td>\n",
       "      <td>900</td>\n",
       "      <td>1.658305</td>\n",
       "    </tr>\n",
       "  </tbody>\n",
       "</table>\n",
       "<p>76840 rows × 7 columns</p>\n",
       "</div>"
      ],
      "text/plain": [
       "       UF  Sexo  Idade  Cor  Anos de Estudo  Renda    Altura\n",
       "0      11     0     23    8              12    800  1.603808\n",
       "1      11     1     23    2              12   1150  1.739790\n",
       "2      11     1     35    8              15    880  1.760444\n",
       "3      11     0     46    2               6   3500  1.783158\n",
       "4      11     1     47    8               9    150  1.690631\n",
       "...    ..   ...    ...  ...             ...    ...       ...\n",
       "76835  53     1     46    2              11    812  1.687030\n",
       "76836  53     0     30    4               7   1500  1.792934\n",
       "76837  53     0     32    8              12   1300  1.830587\n",
       "76838  53     0     57    8               4   1500  1.726344\n",
       "76839  53     0     38    8               4    900  1.658305\n",
       "\n",
       "[76840 rows x 7 columns]"
      ]
     },
     "execution_count": 83,
     "metadata": {},
     "output_type": "execute_result"
    }
   ],
   "source": [
    "dados"
   ]
  },
  {
   "cell_type": "markdown",
   "id": "792a8d16-079b-4f66-976c-b6efab27895c",
   "metadata": {},
   "source": [
    "Podemos verificar que as variáveis Sexo, UF, Cor e Anos de Estudo são variáveis qualitativas. Anos de estudo é qualitativa ordinal pois está dividida em classes. UF , Sexo e Cor são qualitativas nominais.\n",
    "Podemos verificar que as variáveis Idade, Renda e Altura são quantitativas. Idade e Renda: quantitativas discretas e Altura: quantitativa contínua"
   ]
  },
  {
   "cell_type": "markdown",
   "id": "d71a8fa8-63ca-44f2-a9e3-2514f7f23532",
   "metadata": {},
   "source": [
    "# Variaveis Qualitativas"
   ]
  },
  {
   "cell_type": "markdown",
   "id": "0499e3a0-7c53-40df-a99e-abe181689915",
   "metadata": {},
   "source": [
    "# UF"
   ]
  },
  {
   "cell_type": "code",
   "execution_count": 93,
   "id": "9fb6c4db-c13a-4503-9738-baf51835ef55",
   "metadata": {},
   "outputs": [],
   "source": [
    "freq_uf = dados['UF'].value_counts()"
   ]
  },
  {
   "cell_type": "markdown",
   "id": "03e691ca-aba0-4938-b961-828b6d0a4c60",
   "metadata": {},
   "source": [
    "Essa é a quantidade de pessoas em cada estado"
   ]
  },
  {
   "cell_type": "code",
   "execution_count": 92,
   "id": "3028e630-b1a8-4233-8b8d-5f4e83968ff5",
   "metadata": {},
   "outputs": [],
   "source": [
    "percent_uf = dados['UF'].value_counts(normalize  = True)"
   ]
  },
  {
   "cell_type": "markdown",
   "id": "db4b97bb-cbaf-435b-9ae4-5234c7185d8f",
   "metadata": {},
   "source": [
    "Essa é a porcentagem de pessoas em cada estado"
   ]
  },
  {
   "cell_type": "markdown",
   "id": "b13f7f83-ed5c-4873-a742-a4fb9838083b",
   "metadata": {},
   "source": [
    "Distribuição de Frequência"
   ]
  },
  {
   "cell_type": "code",
   "execution_count": 94,
   "id": "9d45f050-5310-4836-901a-cb8f9395e235",
   "metadata": {},
   "outputs": [],
   "source": [
    "distri_freq_uf = pd.DataFrame([freq_uf, percent_uf])"
   ]
  },
  {
   "cell_type": "code",
   "execution_count": 118,
   "id": "077ef41a-3e53-49e5-b446-0c27af62fdfc",
   "metadata": {},
   "outputs": [
    {
     "data": {
      "text/html": [
       "<div>\n",
       "<style scoped>\n",
       "    .dataframe tbody tr th:only-of-type {\n",
       "        vertical-align: middle;\n",
       "    }\n",
       "\n",
       "    .dataframe tbody tr th {\n",
       "        vertical-align: top;\n",
       "    }\n",
       "\n",
       "    .dataframe thead th {\n",
       "        text-align: right;\n",
       "    }\n",
       "</style>\n",
       "<table border=\"1\" class=\"dataframe\">\n",
       "  <thead>\n",
       "    <tr style=\"text-align: right;\">\n",
       "      <th>UF</th>\n",
       "      <th>35</th>\n",
       "      <th>31</th>\n",
       "      <th>43</th>\n",
       "      <th>29</th>\n",
       "      <th>33</th>\n",
       "      <th>15</th>\n",
       "      <th>41</th>\n",
       "      <th>26</th>\n",
       "      <th>52</th>\n",
       "      <th>23</th>\n",
       "      <th>...</th>\n",
       "      <th>50</th>\n",
       "      <th>17</th>\n",
       "      <th>28</th>\n",
       "      <th>25</th>\n",
       "      <th>22</th>\n",
       "      <th>24</th>\n",
       "      <th>12</th>\n",
       "      <th>27</th>\n",
       "      <th>14</th>\n",
       "      <th>16</th>\n",
       "    </tr>\n",
       "  </thead>\n",
       "  <tbody>\n",
       "    <tr>\n",
       "      <th>Frequencia</th>\n",
       "      <td>8544.000000</td>\n",
       "      <td>7686.000000</td>\n",
       "      <td>6322.000000</td>\n",
       "      <td>5717.000000</td>\n",
       "      <td>5556.000000</td>\n",
       "      <td>4449.0000</td>\n",
       "      <td>4356.000000</td>\n",
       "      <td>3820.000000</td>\n",
       "      <td>3478.000000</td>\n",
       "      <td>3359.000000</td>\n",
       "      <td>...</td>\n",
       "      <td>1440.00000</td>\n",
       "      <td>1306.000000</td>\n",
       "      <td>1287.000000</td>\n",
       "      <td>1274.00000</td>\n",
       "      <td>1211.00000</td>\n",
       "      <td>973.000000</td>\n",
       "      <td>937.000000</td>\n",
       "      <td>903.000000</td>\n",
       "      <td>540.000000</td>\n",
       "      <td>512.000000</td>\n",
       "    </tr>\n",
       "    <tr>\n",
       "      <th>Porcentagem</th>\n",
       "      <td>0.111192</td>\n",
       "      <td>0.100026</td>\n",
       "      <td>0.082275</td>\n",
       "      <td>0.074401</td>\n",
       "      <td>0.072306</td>\n",
       "      <td>0.0579</td>\n",
       "      <td>0.056689</td>\n",
       "      <td>0.049714</td>\n",
       "      <td>0.045263</td>\n",
       "      <td>0.043714</td>\n",
       "      <td>...</td>\n",
       "      <td>0.01874</td>\n",
       "      <td>0.016996</td>\n",
       "      <td>0.016749</td>\n",
       "      <td>0.01658</td>\n",
       "      <td>0.01576</td>\n",
       "      <td>0.012663</td>\n",
       "      <td>0.012194</td>\n",
       "      <td>0.011752</td>\n",
       "      <td>0.007028</td>\n",
       "      <td>0.006663</td>\n",
       "    </tr>\n",
       "  </tbody>\n",
       "</table>\n",
       "<p>2 rows × 27 columns</p>\n",
       "</div>"
      ],
      "text/plain": [
       "UF                    35           31           43           29           33  \\\n",
       "Frequencia   8544.000000  7686.000000  6322.000000  5717.000000  5556.000000   \n",
       "Porcentagem     0.111192     0.100026     0.082275     0.074401     0.072306   \n",
       "\n",
       "UF                  15           41           26           52           23  \\\n",
       "Frequencia   4449.0000  4356.000000  3820.000000  3478.000000  3359.000000   \n",
       "Porcentagem     0.0579     0.056689     0.049714     0.045263     0.043714   \n",
       "\n",
       "UF           ...          50           17           28          25  \\\n",
       "Frequencia   ...  1440.00000  1306.000000  1287.000000  1274.00000   \n",
       "Porcentagem  ...     0.01874     0.016996     0.016749     0.01658   \n",
       "\n",
       "UF                   22          24          12          27          14  \\\n",
       "Frequencia   1211.00000  973.000000  937.000000  903.000000  540.000000   \n",
       "Porcentagem     0.01576    0.012663    0.012194    0.011752    0.007028   \n",
       "\n",
       "UF                   16  \n",
       "Frequencia   512.000000  \n",
       "Porcentagem    0.006663  \n",
       "\n",
       "[2 rows x 27 columns]"
      ]
     },
     "execution_count": 118,
     "metadata": {},
     "output_type": "execute_result"
    }
   ],
   "source": [
    "distri_freq_uf.rename(index = {'count': 'Frequencia', 'proportion': 'Porcentagem'}, inplace = True)\n",
    "distri_freq_uf"
   ]
  },
  {
   "cell_type": "code",
   "execution_count": 122,
   "id": "db0a4b5a-f2cd-4c58-a630-194d659d0e24",
   "metadata": {},
   "outputs": [
    {
     "name": "stderr",
     "output_type": "stream",
     "text": [
      "E:\\Anaconda\\Lib\\site-packages\\seaborn\\_oldcore.py:1119: FutureWarning: use_inf_as_na option is deprecated and will be removed in a future version. Convert inf values to NaN before operating instead.\n",
      "  with pd.option_context('mode.use_inf_as_na', True):\n"
     ]
    },
    {
     "data": {
      "image/png": "[encoded data removed]",
      "text/plain": [
       "<Figure size 1400x1000 with 1 Axes>"
      ]
     },
     "metadata": {},
     "output_type": "display_data"
    }
   ],
   "source": [
    "hist = sns.histplot(dados['UF'])\n",
    "hist.figure.set_size_inches(14,10)"
   ]
  },
  {
   "cell_type": "markdown",
   "id": "64ae4eac-5c5d-4c69-b3f1-10f7a6418f72",
   "metadata": {},
   "source": [
    "Podemos analisar que temos uma população muito maior concentrada no estado de São Paulo"
   ]
  },
  {
   "cell_type": "markdown",
   "id": "3dd01528-0469-4f41-9738-fe6c96b6713a",
   "metadata": {},
   "source": [
    "# Sexo"
   ]
  },
  {
   "cell_type": "code",
   "execution_count": 138,
   "id": "81ec496e-0d60-4ebb-9da7-dc35b19de7db",
   "metadata": {},
   "outputs": [],
   "source": [
    "freq_sexo = dados['Sexo'].value_counts()"
   ]
  },
  {
   "cell_type": "markdown",
   "id": "191e42b2-ca74-43ee-b7bb-62c3488e9d00",
   "metadata": {},
   "source": [
    "essa é a quantidade de pessoas do sexo masculino e feminino nos nossos dados"
   ]
  },
  {
   "cell_type": "code",
   "execution_count": 139,
   "id": "66d70c29-0789-49ee-8366-d34adee5aa7b",
   "metadata": {},
   "outputs": [],
   "source": [
    "percent_sexo = dados['Sexo'].value_counts(normalize = True)"
   ]
  },
  {
   "cell_type": "markdown",
   "id": "071b9446-8e6b-4c57-b178-1023a43975e5",
   "metadata": {},
   "source": [
    "essa é a porcentagem de pessoas do sexo masculino e feminino "
   ]
  },
  {
   "cell_type": "markdown",
   "id": "ff8f1024-6893-4ef0-ad37-b2530e15534b",
   "metadata": {},
   "source": [
    "distribuição de frequencia"
   ]
  },
  {
   "cell_type": "code",
   "execution_count": 143,
   "id": "9a78257c-9364-4099-8fb6-5ad3f959c340",
   "metadata": {},
   "outputs": [
    {
     "data": {
      "text/html": [
       "<div>\n",
       "<style scoped>\n",
       "    .dataframe tbody tr th:only-of-type {\n",
       "        vertical-align: middle;\n",
       "    }\n",
       "\n",
       "    .dataframe tbody tr th {\n",
       "        vertical-align: top;\n",
       "    }\n",
       "\n",
       "    .dataframe thead th {\n",
       "        text-align: right;\n",
       "    }\n",
       "</style>\n",
       "<table border=\"1\" class=\"dataframe\">\n",
       "  <thead>\n",
       "    <tr style=\"text-align: right;\">\n",
       "      <th>Sexo</th>\n",
       "      <th>0</th>\n",
       "      <th>1</th>\n",
       "    </tr>\n",
       "  </thead>\n",
       "  <tbody>\n",
       "    <tr>\n",
       "      <th>count</th>\n",
       "      <td>53250.000000</td>\n",
       "      <td>23590.000000</td>\n",
       "    </tr>\n",
       "    <tr>\n",
       "      <th>proportion</th>\n",
       "      <td>0.692998</td>\n",
       "      <td>0.307002</td>\n",
       "    </tr>\n",
       "  </tbody>\n",
       "</table>\n",
       "</div>"
      ],
      "text/plain": [
       "Sexo                   0             1\n",
       "count       53250.000000  23590.000000\n",
       "proportion      0.692998      0.307002"
      ]
     },
     "execution_count": 143,
     "metadata": {},
     "output_type": "execute_result"
    }
   ],
   "source": [
    "distrib_freq_sexo = pd.DataFrame([freq_sexo, percent_sexo])\n",
    "distrib_freq_sexo"
   ]
  },
  {
   "cell_type": "code",
   "execution_count": 146,
   "id": "f471ab58-264a-4c23-84ba-c9fed6250a61",
   "metadata": {},
   "outputs": [],
   "source": [
    "distrib_freq_sexo.rename(index = {'count':'frequencia', 'proportion': 'Porcentagem'}, columns = {0:'Masculino', 1: 'Feminino'}, inplace = True)"
   ]
  },
  {
   "cell_type": "code",
   "execution_count": 147,
   "id": "30d4e516-dbb1-4c6c-a318-bfb9a4a1f5b1",
   "metadata": {},
   "outputs": [
    {
     "data": {
      "text/html": [
       "<div>\n",
       "<style scoped>\n",
       "    .dataframe tbody tr th:only-of-type {\n",
       "        vertical-align: middle;\n",
       "    }\n",
       "\n",
       "    .dataframe tbody tr th {\n",
       "        vertical-align: top;\n",
       "    }\n",
       "\n",
       "    .dataframe thead th {\n",
       "        text-align: right;\n",
       "    }\n",
       "</style>\n",
       "<table border=\"1\" class=\"dataframe\">\n",
       "  <thead>\n",
       "    <tr style=\"text-align: right;\">\n",
       "      <th>Sexo</th>\n",
       "      <th>Masculino</th>\n",
       "      <th>Feminino</th>\n",
       "    </tr>\n",
       "  </thead>\n",
       "  <tbody>\n",
       "    <tr>\n",
       "      <th>frequencia</th>\n",
       "      <td>53250.000000</td>\n",
       "      <td>23590.000000</td>\n",
       "    </tr>\n",
       "    <tr>\n",
       "      <th>Porcentagem</th>\n",
       "      <td>0.692998</td>\n",
       "      <td>0.307002</td>\n",
       "    </tr>\n",
       "  </tbody>\n",
       "</table>\n",
       "</div>"
      ],
      "text/plain": [
       "Sexo            Masculino      Feminino\n",
       "frequencia   53250.000000  23590.000000\n",
       "Porcentagem      0.692998      0.307002"
      ]
     },
     "execution_count": 147,
     "metadata": {},
     "output_type": "execute_result"
    }
   ],
   "source": [
    "distrib_freq_sexo"
   ]
  },
  {
   "cell_type": "code",
   "execution_count": 151,
   "id": "8fea1b3c-0240-4fa0-82cf-992a12ee06c3",
   "metadata": {},
   "outputs": [
    {
     "name": "stderr",
     "output_type": "stream",
     "text": [
      "E:\\Anaconda\\Lib\\site-packages\\seaborn\\_oldcore.py:1119: FutureWarning: use_inf_as_na option is deprecated and will be removed in a future version. Convert inf values to NaN before operating instead.\n",
      "  with pd.option_context('mode.use_inf_as_na', True):\n"
     ]
    },
    {
     "data": {
      "text/plain": [
       "<Axes: xlabel='Sexo', ylabel='Count'>"
      ]
     },
     "execution_count": 151,
     "metadata": {},
     "output_type": "execute_result"
    },
    {
     "data": {
      "image/png": "[encoded data removed]",
      "text/plain": [
       "<Figure size 640x480 with 1 Axes>"
      ]
     },
     "metadata": {},
     "output_type": "display_data"
    }
   ],
   "source": [
    "sns.histplot(dados['Sexo'])"
   ]
  },
  {
   "cell_type": "markdown",
   "id": "398b5fad-3ff6-4539-905d-c3cf8a73490e",
   "metadata": {},
   "source": [
    "Podemos analisar que temos muito mais homens do que mulheres nos nossos dados"
   ]
  },
  {
   "cell_type": "markdown",
   "id": "c3c48d88-1a44-4209-b07d-dea560e66112",
   "metadata": {},
   "source": [
    "# Anos de Estudo"
   ]
  },
  {
   "cell_type": "code",
   "execution_count": 156,
   "id": "becf16eb-d975-4183-912c-5c645b3aae08",
   "metadata": {},
   "outputs": [],
   "source": [
    "frequen_estudo = dados['Anos de Estudo'].value_counts()"
   ]
  },
  {
   "cell_type": "markdown",
   "id": "1ac4746d-a452-4f5f-8110-6dd70645dd1e",
   "metadata": {},
   "source": [
    "Essa é a quantidade de pessoas em cada faixa de estudo"
   ]
  },
  {
   "cell_type": "code",
   "execution_count": 155,
   "id": "5c1241ef-2f76-48de-a0d4-006c5f9534c6",
   "metadata": {},
   "outputs": [],
   "source": [
    "percent_estudo = dados['Anos de Estudo'].value_counts(normalize = True)"
   ]
  },
  {
   "cell_type": "markdown",
   "id": "e05ef08b-5c9d-4118-9eac-3359454702d6",
   "metadata": {},
   "source": [
    "Essa é a porcentagem de pessoas em cada faixa de estudo"
   ]
  },
  {
   "cell_type": "code",
   "execution_count": 162,
   "id": "0d0f0275-31b1-4d18-bfc4-bea79463cca3",
   "metadata": {},
   "outputs": [
    {
     "data": {
      "text/html": [
       "<div>\n",
       "<style scoped>\n",
       "    .dataframe tbody tr th:only-of-type {\n",
       "        vertical-align: middle;\n",
       "    }\n",
       "\n",
       "    .dataframe tbody tr th {\n",
       "        vertical-align: top;\n",
       "    }\n",
       "\n",
       "    .dataframe thead th {\n",
       "        text-align: right;\n",
       "    }\n",
       "</style>\n",
       "<table border=\"1\" class=\"dataframe\">\n",
       "  <thead>\n",
       "    <tr style=\"text-align: right;\">\n",
       "      <th>Anos de Estudo</th>\n",
       "      <th>12</th>\n",
       "      <th>16</th>\n",
       "      <th>9</th>\n",
       "      <th>5</th>\n",
       "      <th>1</th>\n",
       "      <th>6</th>\n",
       "      <th>4</th>\n",
       "      <th>8</th>\n",
       "      <th>7</th>\n",
       "      <th>11</th>\n",
       "      <th>3</th>\n",
       "      <th>10</th>\n",
       "      <th>13</th>\n",
       "      <th>15</th>\n",
       "      <th>2</th>\n",
       "      <th>14</th>\n",
       "      <th>17</th>\n",
       "    </tr>\n",
       "  </thead>\n",
       "  <tbody>\n",
       "    <tr>\n",
       "      <th>count</th>\n",
       "      <td>20848.000000</td>\n",
       "      <td>10795.000000</td>\n",
       "      <td>7980.000000</td>\n",
       "      <td>6729.000000</td>\n",
       "      <td>5849.000000</td>\n",
       "      <td>4499.00000</td>\n",
       "      <td>2891.000000</td>\n",
       "      <td>2689.000000</td>\n",
       "      <td>2445.000000</td>\n",
       "      <td>2118.000000</td>\n",
       "      <td>2101.000000</td>\n",
       "      <td>1840.000000</td>\n",
       "      <td>1836.000000</td>\n",
       "      <td>1388.000000</td>\n",
       "      <td>1388.000000</td>\n",
       "      <td>1253.000000</td>\n",
       "      <td>191.000000</td>\n",
       "    </tr>\n",
       "    <tr>\n",
       "      <th>proportion</th>\n",
       "      <td>0.271317</td>\n",
       "      <td>0.140487</td>\n",
       "      <td>0.103852</td>\n",
       "      <td>0.087572</td>\n",
       "      <td>0.076119</td>\n",
       "      <td>0.05855</td>\n",
       "      <td>0.037624</td>\n",
       "      <td>0.034995</td>\n",
       "      <td>0.031819</td>\n",
       "      <td>0.027564</td>\n",
       "      <td>0.027343</td>\n",
       "      <td>0.023946</td>\n",
       "      <td>0.023894</td>\n",
       "      <td>0.018064</td>\n",
       "      <td>0.018064</td>\n",
       "      <td>0.016307</td>\n",
       "      <td>0.002486</td>\n",
       "    </tr>\n",
       "  </tbody>\n",
       "</table>\n",
       "</div>"
      ],
      "text/plain": [
       "Anos de Estudo            12            16           9            5   \\\n",
       "count           20848.000000  10795.000000  7980.000000  6729.000000   \n",
       "proportion          0.271317      0.140487     0.103852     0.087572   \n",
       "\n",
       "Anos de Estudo           1           6            4            8   \\\n",
       "count           5849.000000  4499.00000  2891.000000  2689.000000   \n",
       "proportion         0.076119     0.05855     0.037624     0.034995   \n",
       "\n",
       "Anos de Estudo           7            11           3            10  \\\n",
       "count           2445.000000  2118.000000  2101.000000  1840.000000   \n",
       "proportion         0.031819     0.027564     0.027343     0.023946   \n",
       "\n",
       "Anos de Estudo           13           15           2            14          17  \n",
       "count           1836.000000  1388.000000  1388.000000  1253.000000  191.000000  \n",
       "proportion         0.023894     0.018064     0.018064     0.016307    0.002486  "
      ]
     },
     "execution_count": 162,
     "metadata": {},
     "output_type": "execute_result"
    }
   ],
   "source": [
    "distrib_freq_estudo = pd.DataFrame([frequen_estudo, percent_estudo])\n",
    "distrib_freq_estudo"
   ]
  },
  {
   "cell_type": "code",
   "execution_count": 164,
   "id": "8bd7f583-5e12-4c82-831e-589bcd3c1ce9",
   "metadata": {},
   "outputs": [
    {
     "data": {
      "text/html": [
       "<div>\n",
       "<style scoped>\n",
       "    .dataframe tbody tr th:only-of-type {\n",
       "        vertical-align: middle;\n",
       "    }\n",
       "\n",
       "    .dataframe tbody tr th {\n",
       "        vertical-align: top;\n",
       "    }\n",
       "\n",
       "    .dataframe thead th {\n",
       "        text-align: right;\n",
       "    }\n",
       "</style>\n",
       "<table border=\"1\" class=\"dataframe\">\n",
       "  <thead>\n",
       "    <tr style=\"text-align: right;\">\n",
       "      <th>Anos de Estudo</th>\n",
       "      <th>12</th>\n",
       "      <th>16</th>\n",
       "      <th>9</th>\n",
       "      <th>5</th>\n",
       "      <th>1</th>\n",
       "      <th>6</th>\n",
       "      <th>4</th>\n",
       "      <th>8</th>\n",
       "      <th>7</th>\n",
       "      <th>11</th>\n",
       "      <th>3</th>\n",
       "      <th>10</th>\n",
       "      <th>13</th>\n",
       "      <th>15</th>\n",
       "      <th>2</th>\n",
       "      <th>14</th>\n",
       "      <th>17</th>\n",
       "    </tr>\n",
       "  </thead>\n",
       "  <tbody>\n",
       "    <tr>\n",
       "      <th>Frequencia</th>\n",
       "      <td>20848.000000</td>\n",
       "      <td>10795.000000</td>\n",
       "      <td>7980.000000</td>\n",
       "      <td>6729.000000</td>\n",
       "      <td>5849.000000</td>\n",
       "      <td>4499.00000</td>\n",
       "      <td>2891.000000</td>\n",
       "      <td>2689.000000</td>\n",
       "      <td>2445.000000</td>\n",
       "      <td>2118.000000</td>\n",
       "      <td>2101.000000</td>\n",
       "      <td>1840.000000</td>\n",
       "      <td>1836.000000</td>\n",
       "      <td>1388.000000</td>\n",
       "      <td>1388.000000</td>\n",
       "      <td>1253.000000</td>\n",
       "      <td>191.000000</td>\n",
       "    </tr>\n",
       "    <tr>\n",
       "      <th>Porcentagem</th>\n",
       "      <td>0.271317</td>\n",
       "      <td>0.140487</td>\n",
       "      <td>0.103852</td>\n",
       "      <td>0.087572</td>\n",
       "      <td>0.076119</td>\n",
       "      <td>0.05855</td>\n",
       "      <td>0.037624</td>\n",
       "      <td>0.034995</td>\n",
       "      <td>0.031819</td>\n",
       "      <td>0.027564</td>\n",
       "      <td>0.027343</td>\n",
       "      <td>0.023946</td>\n",
       "      <td>0.023894</td>\n",
       "      <td>0.018064</td>\n",
       "      <td>0.018064</td>\n",
       "      <td>0.016307</td>\n",
       "      <td>0.002486</td>\n",
       "    </tr>\n",
       "  </tbody>\n",
       "</table>\n",
       "</div>"
      ],
      "text/plain": [
       "Anos de Estudo            12            16           9            5   \\\n",
       "Frequencia      20848.000000  10795.000000  7980.000000  6729.000000   \n",
       "Porcentagem         0.271317      0.140487     0.103852     0.087572   \n",
       "\n",
       "Anos de Estudo           1           6            4            8   \\\n",
       "Frequencia      5849.000000  4499.00000  2891.000000  2689.000000   \n",
       "Porcentagem        0.076119     0.05855     0.037624     0.034995   \n",
       "\n",
       "Anos de Estudo           7            11           3            10  \\\n",
       "Frequencia      2445.000000  2118.000000  2101.000000  1840.000000   \n",
       "Porcentagem        0.031819     0.027564     0.027343     0.023946   \n",
       "\n",
       "Anos de Estudo           13           15           2            14          17  \n",
       "Frequencia      1836.000000  1388.000000  1388.000000  1253.000000  191.000000  \n",
       "Porcentagem        0.023894     0.018064     0.018064     0.016307    0.002486  "
      ]
     },
     "execution_count": 164,
     "metadata": {},
     "output_type": "execute_result"
    }
   ],
   "source": [
    "distrib_freq_estudo.rename(index = {'count': 'Frequencia', 'proportion': 'Porcentagem'}, inplace = True)\n",
    "distrib_freq_estudo"
   ]
  },
  {
   "cell_type": "code",
   "execution_count": 165,
   "id": "8633e5a8-1733-4abe-8f06-d0fec5eb680f",
   "metadata": {},
   "outputs": [
    {
     "name": "stderr",
     "output_type": "stream",
     "text": [
      "E:\\Anaconda\\Lib\\site-packages\\seaborn\\_oldcore.py:1119: FutureWarning: use_inf_as_na option is deprecated and will be removed in a future version. Convert inf values to NaN before operating instead.\n",
      "  with pd.option_context('mode.use_inf_as_na', True):\n"
     ]
    },
    {
     "data": {
      "text/plain": [
       "<Axes: xlabel='Anos de Estudo', ylabel='Count'>"
      ]
     },
     "execution_count": 165,
     "metadata": {},
     "output_type": "execute_result"
    },
    {
     "data": {
      "image/png": "[encoded data removed]",
      "text/plain": [
       "<Figure size 640x480 with 1 Axes>"
      ]
     },
     "metadata": {},
     "output_type": "display_data"
    }
   ],
   "source": [
    "sns.histplot(dados['Anos de Estudo'])"
   ]
  },
  {
   "cell_type": "markdown",
   "id": "c27ffe44-26fd-47a9-90c1-71ddcc2e1894",
   "metadata": {},
   "source": [
    "Podemos analisar que temos uma população concentrada na faixa de 12 anos de estudo"
   ]
  },
  {
   "cell_type": "markdown",
   "id": "49f5d35d-803e-496c-9d74-06dd6a062ffc",
   "metadata": {},
   "source": [
    "# Cor"
   ]
  },
  {
   "cell_type": "code",
   "execution_count": 169,
   "id": "c0480b94-a85b-454f-a819-9ac23720f96e",
   "metadata": {},
   "outputs": [],
   "source": [
    "frequen_cor = dados['Cor'].value_counts()"
   ]
  },
  {
   "cell_type": "markdown",
   "id": "ca7b70ee-b033-4af9-94a4-5d740741ac53",
   "metadata": {},
   "source": [
    "Essa é a quantidade de pessoas com relação à cor"
   ]
  },
  {
   "cell_type": "code",
   "execution_count": 170,
   "id": "c8d92b7e-ba5a-4ded-b4c5-9c398f195c2f",
   "metadata": {},
   "outputs": [],
   "source": [
    "percent_cor = dados['Cor'].value_counts(normalize = True)"
   ]
  },
  {
   "cell_type": "markdown",
   "id": "a60b4ab3-d2f3-47c6-83c3-ff38bcd4aa19",
   "metadata": {},
   "source": [
    "Essa é a porcentagem de pessoas em cada cor"
   ]
  },
  {
   "cell_type": "markdown",
   "id": "ae698a10-c1ec-4afa-bd73-9527f32412d0",
   "metadata": {},
   "source": [
    "distribuição de frequencia"
   ]
  },
  {
   "cell_type": "code",
   "execution_count": 171,
   "id": "4c582434-a086-4193-8756-00480a303e40",
   "metadata": {},
   "outputs": [
    {
     "data": {
      "text/html": [
       "<div>\n",
       "<style scoped>\n",
       "    .dataframe tbody tr th:only-of-type {\n",
       "        vertical-align: middle;\n",
       "    }\n",
       "\n",
       "    .dataframe tbody tr th {\n",
       "        vertical-align: top;\n",
       "    }\n",
       "\n",
       "    .dataframe thead th {\n",
       "        text-align: right;\n",
       "    }\n",
       "</style>\n",
       "<table border=\"1\" class=\"dataframe\">\n",
       "  <thead>\n",
       "    <tr style=\"text-align: right;\">\n",
       "      <th>Cor</th>\n",
       "      <th>8</th>\n",
       "      <th>2</th>\n",
       "      <th>4</th>\n",
       "      <th>0</th>\n",
       "      <th>6</th>\n",
       "    </tr>\n",
       "  </thead>\n",
       "  <tbody>\n",
       "    <tr>\n",
       "      <th>count</th>\n",
       "      <td>35925.00000</td>\n",
       "      <td>31815.000000</td>\n",
       "      <td>8391.000000</td>\n",
       "      <td>357.000000</td>\n",
       "      <td>352.000000</td>\n",
       "    </tr>\n",
       "    <tr>\n",
       "      <th>proportion</th>\n",
       "      <td>0.46753</td>\n",
       "      <td>0.414042</td>\n",
       "      <td>0.109201</td>\n",
       "      <td>0.004646</td>\n",
       "      <td>0.004581</td>\n",
       "    </tr>\n",
       "  </tbody>\n",
       "</table>\n",
       "</div>"
      ],
      "text/plain": [
       "Cor                   8             2            4           0           6\n",
       "count       35925.00000  31815.000000  8391.000000  357.000000  352.000000\n",
       "proportion      0.46753      0.414042     0.109201    0.004646    0.004581"
      ]
     },
     "execution_count": 171,
     "metadata": {},
     "output_type": "execute_result"
    }
   ],
   "source": [
    "distri_freq_cor = pd.DataFrame([frequen_cor, percent_cor])\n",
    "distri_freq_cor"
   ]
  },
  {
   "cell_type": "code",
   "execution_count": 174,
   "id": "735bcd84-e9d6-49ef-9fd4-01e0fee7945d",
   "metadata": {},
   "outputs": [
    {
     "data": {
      "text/html": [
       "<div>\n",
       "<style scoped>\n",
       "    .dataframe tbody tr th:only-of-type {\n",
       "        vertical-align: middle;\n",
       "    }\n",
       "\n",
       "    .dataframe tbody tr th {\n",
       "        vertical-align: top;\n",
       "    }\n",
       "\n",
       "    .dataframe thead th {\n",
       "        text-align: right;\n",
       "    }\n",
       "</style>\n",
       "<table border=\"1\" class=\"dataframe\">\n",
       "  <thead>\n",
       "    <tr style=\"text-align: right;\">\n",
       "      <th>Cor</th>\n",
       "      <th>8</th>\n",
       "      <th>2</th>\n",
       "      <th>4</th>\n",
       "      <th>0</th>\n",
       "      <th>6</th>\n",
       "    </tr>\n",
       "  </thead>\n",
       "  <tbody>\n",
       "    <tr>\n",
       "      <th>Frequencia</th>\n",
       "      <td>35925.00000</td>\n",
       "      <td>31815.000000</td>\n",
       "      <td>8391.000000</td>\n",
       "      <td>357.000000</td>\n",
       "      <td>352.000000</td>\n",
       "    </tr>\n",
       "    <tr>\n",
       "      <th>Porcentagem</th>\n",
       "      <td>0.46753</td>\n",
       "      <td>0.414042</td>\n",
       "      <td>0.109201</td>\n",
       "      <td>0.004646</td>\n",
       "      <td>0.004581</td>\n",
       "    </tr>\n",
       "  </tbody>\n",
       "</table>\n",
       "</div>"
      ],
      "text/plain": [
       "Cor                    8             2            4           0           6\n",
       "Frequencia   35925.00000  31815.000000  8391.000000  357.000000  352.000000\n",
       "Porcentagem      0.46753      0.414042     0.109201    0.004646    0.004581"
      ]
     },
     "execution_count": 174,
     "metadata": {},
     "output_type": "execute_result"
    }
   ],
   "source": [
    "distri_freq_cor.rename(index = {'count': 'Frequencia', 'proportion': 'Porcentagem'}, inplace = True)\n",
    "distri_freq_cor"
   ]
  },
  {
   "cell_type": "code",
   "execution_count": 175,
   "id": "79da3bdf-56d5-42fd-9c1d-6e15aee6d092",
   "metadata": {},
   "outputs": [
    {
     "name": "stderr",
     "output_type": "stream",
     "text": [
      "E:\\Anaconda\\Lib\\site-packages\\seaborn\\_oldcore.py:1119: FutureWarning: use_inf_as_na option is deprecated and will be removed in a future version. Convert inf values to NaN before operating instead.\n",
      "  with pd.option_context('mode.use_inf_as_na', True):\n"
     ]
    },
    {
     "data": {
      "text/plain": [
       "<Axes: xlabel='Cor', ylabel='Count'>"
      ]
     },
     "execution_count": 175,
     "metadata": {},
     "output_type": "execute_result"
    },
    {
     "data": {
      "image/png": "[encoded data removed]",
      "text/plain": [
       "<Figure size 640x480 with 1 Axes>"
      ]
     },
     "metadata": {},
     "output_type": "display_data"
    }
   ],
   "source": [
    "sns.histplot(dados['Cor'])"
   ]
  },
  {
   "cell_type": "markdown",
   "id": "7ad9fdf3-c4c8-4c59-9a59-bff5d003526a",
   "metadata": {},
   "source": [
    "Podemos analisar que a população se concentra na cor Parda e Branca"
   ]
  },
  {
   "cell_type": "markdown",
   "id": "1a2bb3a2-c4f2-4f87-bcf9-81dd31129843",
   "metadata": {},
   "source": [
    "# Alem das distribuições de frequencias para cada variavel qualitativa, podemos cruzar essas variaveis"
   ]
  },
  {
   "cell_type": "code",
   "execution_count": 178,
   "id": "6b70c22c-e86f-4105-bbcf-c36fd928143c",
   "metadata": {},
   "outputs": [
    {
     "data": {
      "text/html": [
       "<div>\n",
       "<style scoped>\n",
       "    .dataframe tbody tr th:only-of-type {\n",
       "        vertical-align: middle;\n",
       "    }\n",
       "\n",
       "    .dataframe tbody tr th {\n",
       "        vertical-align: top;\n",
       "    }\n",
       "\n",
       "    .dataframe thead th {\n",
       "        text-align: right;\n",
       "    }\n",
       "</style>\n",
       "<table border=\"1\" class=\"dataframe\">\n",
       "  <thead>\n",
       "    <tr style=\"text-align: right;\">\n",
       "      <th>Cor</th>\n",
       "      <th>0</th>\n",
       "      <th>2</th>\n",
       "      <th>4</th>\n",
       "      <th>6</th>\n",
       "      <th>8</th>\n",
       "    </tr>\n",
       "    <tr>\n",
       "      <th>Sexo</th>\n",
       "      <th></th>\n",
       "      <th></th>\n",
       "      <th></th>\n",
       "      <th></th>\n",
       "      <th></th>\n",
       "    </tr>\n",
       "  </thead>\n",
       "  <tbody>\n",
       "    <tr>\n",
       "      <th>0</th>\n",
       "      <td>256</td>\n",
       "      <td>22194</td>\n",
       "      <td>5502</td>\n",
       "      <td>235</td>\n",
       "      <td>25063</td>\n",
       "    </tr>\n",
       "    <tr>\n",
       "      <th>1</th>\n",
       "      <td>101</td>\n",
       "      <td>9621</td>\n",
       "      <td>2889</td>\n",
       "      <td>117</td>\n",
       "      <td>10862</td>\n",
       "    </tr>\n",
       "  </tbody>\n",
       "</table>\n",
       "</div>"
      ],
      "text/plain": [
       "Cor     0      2     4    6      8\n",
       "Sexo                              \n",
       "0     256  22194  5502  235  25063\n",
       "1     101   9621  2889  117  10862"
      ]
     },
     "execution_count": 178,
     "metadata": {},
     "output_type": "execute_result"
    }
   ],
   "source": [
    "distri_freq_cor_sexo = pd.crosstab(dados['Sexo'], dados['Cor'])\n",
    "distri_freq_cor_sexo"
   ]
  },
  {
   "cell_type": "code",
   "execution_count": 270,
   "id": "dc6a546d-ccd2-4a9a-a9a6-5af9a90e139b",
   "metadata": {},
   "outputs": [
    {
     "data": {
      "text/plain": [
       "<Axes: xlabel='Sexo'>"
      ]
     },
     "execution_count": 270,
     "metadata": {},
     "output_type": "execute_result"
    },
    {
     "data": {
      "image/png": "[encoded data removed]",
      "text/plain": [
       "<Figure size 1400x600 with 1 Axes>"
      ]
     },
     "metadata": {},
     "output_type": "display_data"
    }
   ],
   "source": [
    "distri_freq_cor_sexo.plot.bar(width = 1, figsize = (14,6))"
   ]
  },
  {
   "cell_type": "code",
   "execution_count": 180,
   "id": "4ca5ef71-cf7d-4514-84f1-009a97c4613e",
   "metadata": {},
   "outputs": [
    {
     "data": {
      "text/html": [
       "<div>\n",
       "<style scoped>\n",
       "    .dataframe tbody tr th:only-of-type {\n",
       "        vertical-align: middle;\n",
       "    }\n",
       "\n",
       "    .dataframe tbody tr th {\n",
       "        vertical-align: top;\n",
       "    }\n",
       "\n",
       "    .dataframe thead th {\n",
       "        text-align: right;\n",
       "    }\n",
       "</style>\n",
       "<table border=\"1\" class=\"dataframe\">\n",
       "  <thead>\n",
       "    <tr style=\"text-align: right;\">\n",
       "      <th>Anos de Estudo</th>\n",
       "      <th>1</th>\n",
       "      <th>2</th>\n",
       "      <th>3</th>\n",
       "      <th>4</th>\n",
       "      <th>5</th>\n",
       "      <th>6</th>\n",
       "      <th>7</th>\n",
       "      <th>8</th>\n",
       "      <th>9</th>\n",
       "      <th>10</th>\n",
       "      <th>11</th>\n",
       "      <th>12</th>\n",
       "      <th>13</th>\n",
       "      <th>14</th>\n",
       "      <th>15</th>\n",
       "      <th>16</th>\n",
       "      <th>17</th>\n",
       "    </tr>\n",
       "    <tr>\n",
       "      <th>Cor</th>\n",
       "      <th></th>\n",
       "      <th></th>\n",
       "      <th></th>\n",
       "      <th></th>\n",
       "      <th></th>\n",
       "      <th></th>\n",
       "      <th></th>\n",
       "      <th></th>\n",
       "      <th></th>\n",
       "      <th></th>\n",
       "      <th></th>\n",
       "      <th></th>\n",
       "      <th></th>\n",
       "      <th></th>\n",
       "      <th></th>\n",
       "      <th></th>\n",
       "      <th></th>\n",
       "    </tr>\n",
       "  </thead>\n",
       "  <tbody>\n",
       "    <tr>\n",
       "      <th>0</th>\n",
       "      <td>49</td>\n",
       "      <td>10</td>\n",
       "      <td>12</td>\n",
       "      <td>17</td>\n",
       "      <td>22</td>\n",
       "      <td>23</td>\n",
       "      <td>12</td>\n",
       "      <td>16</td>\n",
       "      <td>45</td>\n",
       "      <td>16</td>\n",
       "      <td>12</td>\n",
       "      <td>82</td>\n",
       "      <td>7</td>\n",
       "      <td>5</td>\n",
       "      <td>6</td>\n",
       "      <td>20</td>\n",
       "      <td>3</td>\n",
       "    </tr>\n",
       "    <tr>\n",
       "      <th>2</th>\n",
       "      <td>1420</td>\n",
       "      <td>364</td>\n",
       "      <td>617</td>\n",
       "      <td>929</td>\n",
       "      <td>2683</td>\n",
       "      <td>1600</td>\n",
       "      <td>860</td>\n",
       "      <td>940</td>\n",
       "      <td>3102</td>\n",
       "      <td>558</td>\n",
       "      <td>779</td>\n",
       "      <td>8838</td>\n",
       "      <td>869</td>\n",
       "      <td>663</td>\n",
       "      <td>773</td>\n",
       "      <td>6758</td>\n",
       "      <td>62</td>\n",
       "    </tr>\n",
       "    <tr>\n",
       "      <th>4</th>\n",
       "      <td>801</td>\n",
       "      <td>174</td>\n",
       "      <td>261</td>\n",
       "      <td>361</td>\n",
       "      <td>694</td>\n",
       "      <td>523</td>\n",
       "      <td>295</td>\n",
       "      <td>315</td>\n",
       "      <td>900</td>\n",
       "      <td>237</td>\n",
       "      <td>276</td>\n",
       "      <td>2423</td>\n",
       "      <td>189</td>\n",
       "      <td>114</td>\n",
       "      <td>116</td>\n",
       "      <td>691</td>\n",
       "      <td>21</td>\n",
       "    </tr>\n",
       "    <tr>\n",
       "      <th>6</th>\n",
       "      <td>9</td>\n",
       "      <td>2</td>\n",
       "      <td>1</td>\n",
       "      <td>3</td>\n",
       "      <td>21</td>\n",
       "      <td>7</td>\n",
       "      <td>6</td>\n",
       "      <td>1</td>\n",
       "      <td>26</td>\n",
       "      <td>2</td>\n",
       "      <td>8</td>\n",
       "      <td>88</td>\n",
       "      <td>9</td>\n",
       "      <td>7</td>\n",
       "      <td>10</td>\n",
       "      <td>152</td>\n",
       "      <td>0</td>\n",
       "    </tr>\n",
       "    <tr>\n",
       "      <th>8</th>\n",
       "      <td>3570</td>\n",
       "      <td>838</td>\n",
       "      <td>1210</td>\n",
       "      <td>1581</td>\n",
       "      <td>3309</td>\n",
       "      <td>2346</td>\n",
       "      <td>1272</td>\n",
       "      <td>1417</td>\n",
       "      <td>3907</td>\n",
       "      <td>1027</td>\n",
       "      <td>1043</td>\n",
       "      <td>9417</td>\n",
       "      <td>762</td>\n",
       "      <td>464</td>\n",
       "      <td>483</td>\n",
       "      <td>3174</td>\n",
       "      <td>105</td>\n",
       "    </tr>\n",
       "  </tbody>\n",
       "</table>\n",
       "</div>"
      ],
      "text/plain": [
       "Anos de Estudo    1    2     3     4     5     6     7     8     9     10  \\\n",
       "Cor                                                                         \n",
       "0                 49   10    12    17    22    23    12    16    45    16   \n",
       "2               1420  364   617   929  2683  1600   860   940  3102   558   \n",
       "4                801  174   261   361   694   523   295   315   900   237   \n",
       "6                  9    2     1     3    21     7     6     1    26     2   \n",
       "8               3570  838  1210  1581  3309  2346  1272  1417  3907  1027   \n",
       "\n",
       "Anos de Estudo    11    12   13   14   15    16   17  \n",
       "Cor                                                   \n",
       "0                 12    82    7    5    6    20    3  \n",
       "2                779  8838  869  663  773  6758   62  \n",
       "4                276  2423  189  114  116   691   21  \n",
       "6                  8    88    9    7   10   152    0  \n",
       "8               1043  9417  762  464  483  3174  105  "
      ]
     },
     "execution_count": 180,
     "metadata": {},
     "output_type": "execute_result"
    }
   ],
   "source": [
    "distri_freq_cor_estudo = pd.crosstab(dados['Cor'], dados['Anos de Estudo'])\n",
    "distri_freq_cor_estudo"
   ]
  },
  {
   "cell_type": "code",
   "execution_count": 271,
   "id": "541a92fd-abba-4e24-8efd-1001978f0545",
   "metadata": {},
   "outputs": [
    {
     "data": {
      "text/plain": [
       "<Axes: xlabel='Cor'>"
      ]
     },
     "execution_count": 271,
     "metadata": {},
     "output_type": "execute_result"
    },
    {
     "data": {
      "image/png": "[encoded data removed]",
      "text/plain": [
       "<Figure size 2000x600 with 1 Axes>"
      ]
     },
     "metadata": {},
     "output_type": "display_data"
    }
   ],
   "source": [
    "distri_freq_cor_estudo.plot.bar(width = 1, figsize = (20,6))"
   ]
  },
  {
   "cell_type": "markdown",
   "id": "e1e5fe82-9053-4dd5-8e8f-ff4f6bb0e735",
   "metadata": {},
   "source": [
    "# Variaveis Quantitativas"
   ]
  },
  {
   "cell_type": "code",
   "execution_count": 282,
   "id": "127f6445-e424-45b2-ac71-b7600770f5fe",
   "metadata": {},
   "outputs": [
    {
     "data": {
      "text/html": [
       "<div>\n",
       "<style scoped>\n",
       "    .dataframe tbody tr th:only-of-type {\n",
       "        vertical-align: middle;\n",
       "    }\n",
       "\n",
       "    .dataframe tbody tr th {\n",
       "        vertical-align: top;\n",
       "    }\n",
       "\n",
       "    .dataframe thead th {\n",
       "        text-align: right;\n",
       "    }\n",
       "</style>\n",
       "<table border=\"1\" class=\"dataframe\">\n",
       "  <thead>\n",
       "    <tr style=\"text-align: right;\">\n",
       "      <th></th>\n",
       "      <th>Renda</th>\n",
       "    </tr>\n",
       "    <tr>\n",
       "      <th>Sexo</th>\n",
       "      <th></th>\n",
       "    </tr>\n",
       "  </thead>\n",
       "  <tbody>\n",
       "    <tr>\n",
       "      <th>0</th>\n",
       "      <td>2192.441596</td>\n",
       "    </tr>\n",
       "    <tr>\n",
       "      <th>1</th>\n",
       "      <td>1566.847393</td>\n",
       "    </tr>\n",
       "  </tbody>\n",
       "</table>\n",
       "</div>"
      ],
      "text/plain": [
       "            Renda\n",
       "Sexo             \n",
       "0     2192.441596\n",
       "1     1566.847393"
      ]
     },
     "execution_count": 282,
     "metadata": {},
     "output_type": "execute_result"
    }
   ],
   "source": [
    "sexo_renda = dados.groupby('Sexo')['Renda'].mean().to_frame()\n",
    "sexo_renda"
   ]
  },
  {
   "cell_type": "code",
   "execution_count": 184,
   "id": "e93917c4-9826-4ad3-8be2-b6128885c0cd",
   "metadata": {},
   "outputs": [
    {
     "data": {
      "text/plain": [
       "Sexo\n",
       "0    1350.0\n",
       "1     900.0\n",
       "Name: Renda, dtype: float64"
      ]
     },
     "execution_count": 184,
     "metadata": {},
     "output_type": "execute_result"
    }
   ],
   "source": [
    "dados.groupby('Sexo')['Renda'].median()"
   ]
  },
  {
   "cell_type": "code",
   "execution_count": 186,
   "id": "388654b8-b086-4aaa-a519-9fcbfc0343f1",
   "metadata": {},
   "outputs": [
    {
     "data": {
      "text/plain": [
       "Sexo\n",
       "0    3590.312915\n",
       "1    2570.663414\n",
       "Name: Renda, dtype: float64"
      ]
     },
     "execution_count": 186,
     "metadata": {},
     "output_type": "execute_result"
    }
   ],
   "source": [
    "dados.groupby('Sexo')['Renda'].std()"
   ]
  },
  {
   "cell_type": "code",
   "execution_count": 187,
   "id": "9c0791e3-92e5-42c3-a418-df8aed283b2e",
   "metadata": {},
   "outputs": [
    {
     "data": {
      "text/plain": [
       "Cor\n",
       "0    1472.887955\n",
       "2    2679.019331\n",
       "4    1442.294840\n",
       "6    4182.920455\n",
       "8    1513.596103\n",
       "Name: Renda, dtype: float64"
      ]
     },
     "execution_count": 187,
     "metadata": {},
     "output_type": "execute_result"
    }
   ],
   "source": [
    "dados.groupby('Cor')['Renda'].mean()"
   ]
  },
  {
   "cell_type": "code",
   "execution_count": 188,
   "id": "de2c714c-585f-4649-a6e3-90fd789f78ed",
   "metadata": {},
   "outputs": [
    {
     "data": {
      "text/plain": [
       "Cor\n",
       "0     788.0\n",
       "2    1500.0\n",
       "4    1000.0\n",
       "6    2450.0\n",
       "8    1000.0\n",
       "Name: Renda, dtype: float64"
      ]
     },
     "execution_count": 188,
     "metadata": {},
     "output_type": "execute_result"
    }
   ],
   "source": [
    "dados.groupby('Cor')['Renda'].median()"
   ]
  },
  {
   "cell_type": "code",
   "execution_count": 189,
   "id": "318a1819-8f35-4f46-aa15-e50ed3a111b5",
   "metadata": {},
   "outputs": [
    {
     "data": {
      "text/plain": [
       "Cor\n",
       "0    6449.098217\n",
       "2    4368.165306\n",
       "4    1770.632912\n",
       "6    5219.099832\n",
       "8    2132.817184\n",
       "Name: Renda, dtype: float64"
      ]
     },
     "execution_count": 189,
     "metadata": {},
     "output_type": "execute_result"
    }
   ],
   "source": [
    "dados.groupby('Cor')['Renda'].std()"
   ]
  },
  {
   "cell_type": "code",
   "execution_count": 190,
   "id": "af784a81-b502-467c-aedc-a36ce5ecffdc",
   "metadata": {},
   "outputs": [
    {
     "data": {
      "text/plain": [
       "2000.3831988547631"
      ]
     },
     "execution_count": 190,
     "metadata": {},
     "output_type": "execute_result"
    }
   ],
   "source": [
    "dados.Renda.mean()"
   ]
  },
  {
   "cell_type": "code",
   "execution_count": 191,
   "id": "8cfe5abd-049f-498b-ad82-a443e455dd15",
   "metadata": {},
   "outputs": [
    {
     "data": {
      "text/plain": [
       "1200.0"
      ]
     },
     "execution_count": 191,
     "metadata": {},
     "output_type": "execute_result"
    }
   ],
   "source": [
    "dados.Renda.median()"
   ]
  },
  {
   "cell_type": "code",
   "execution_count": 192,
   "id": "b43c04b5-b173-4aaa-a8d4-76aea809a035",
   "metadata": {},
   "outputs": [
    {
     "data": {
      "text/plain": [
       "3323.3877303470294"
      ]
     },
     "execution_count": 192,
     "metadata": {},
     "output_type": "execute_result"
    }
   ],
   "source": [
    "dados.Renda.std()"
   ]
  },
  {
   "cell_type": "markdown",
   "id": "7469363e-e3a4-4f73-9da5-22bb6dda909e",
   "metadata": {},
   "source": [
    "Para visualizarmos graficamente uma variavel quantitativa precisamos dividir ela em classes, ou seja, categorizar essa variavel"
   ]
  },
  {
   "cell_type": "code",
   "execution_count": 205,
   "id": "34b9424a-16f6-48ca-b180-4dfe5ba754c2",
   "metadata": {},
   "outputs": [],
   "source": [
    "labels_1 = ['E', 'D', 'C', 'B', 'A']"
   ]
  },
  {
   "cell_type": "code",
   "execution_count": 208,
   "id": "882f271e-21ed-4aaa-b000-53f8abb5857b",
   "metadata": {},
   "outputs": [],
   "source": [
    "limite_classes = [0, 2000, 5000, 15000, 25000, 200000]"
   ]
  },
  {
   "cell_type": "code",
   "execution_count": 213,
   "id": "42aafa3e-acee-45ac-b389-fc3151a04496",
   "metadata": {},
   "outputs": [],
   "source": [
    "frequencia_renda =pd.cut(x = dados.Renda, bins = limite_classes, labels = labels_1, include_lowest = True).value_counts()"
   ]
  },
  {
   "cell_type": "code",
   "execution_count": 214,
   "id": "aafbdaa4-fa81-4c7b-b3f7-6734f981d39b",
   "metadata": {},
   "outputs": [
    {
     "data": {
      "text/plain": [
       "Renda\n",
       "E    58474\n",
       "D    13635\n",
       "C     4110\n",
       "B      452\n",
       "A      169\n",
       "Name: count, dtype: int64"
      ]
     },
     "execution_count": 214,
     "metadata": {},
     "output_type": "execute_result"
    }
   ],
   "source": [
    "frequencia_renda"
   ]
  },
  {
   "cell_type": "code",
   "execution_count": 262,
   "id": "22bfe557-4531-4de4-a8e0-ef6760630f90",
   "metadata": {},
   "outputs": [],
   "source": [
    "percentual_renda = pd.cut(x = dados.Renda, bins = limite_classes, labels = labels_1, include_lowest = True).value_counts(normalize = True)"
   ]
  },
  {
   "cell_type": "code",
   "execution_count": 263,
   "id": "d7ad2bea-5e3e-4fdc-a2c1-14085caadfe9",
   "metadata": {},
   "outputs": [
    {
     "data": {
      "text/plain": [
       "Renda\n",
       "E    0.760984\n",
       "D    0.177447\n",
       "C    0.053488\n",
       "B    0.005882\n",
       "A    0.002199\n",
       "Name: proportion, dtype: float64"
      ]
     },
     "execution_count": 263,
     "metadata": {},
     "output_type": "execute_result"
    }
   ],
   "source": [
    "percentual_renda"
   ]
  },
  {
   "cell_type": "code",
   "execution_count": 266,
   "id": "c41b5900-211c-4771-b6e0-1273cb04d4ed",
   "metadata": {},
   "outputs": [
    {
     "data": {
      "text/html": [
       "<div>\n",
       "<style scoped>\n",
       "    .dataframe tbody tr th:only-of-type {\n",
       "        vertical-align: middle;\n",
       "    }\n",
       "\n",
       "    .dataframe tbody tr th {\n",
       "        vertical-align: top;\n",
       "    }\n",
       "\n",
       "    .dataframe thead th {\n",
       "        text-align: right;\n",
       "    }\n",
       "</style>\n",
       "<table border=\"1\" class=\"dataframe\">\n",
       "  <thead>\n",
       "    <tr style=\"text-align: right;\">\n",
       "      <th></th>\n",
       "      <th>Frequencia</th>\n",
       "      <th>Porcentagem</th>\n",
       "    </tr>\n",
       "    <tr>\n",
       "      <th>Renda</th>\n",
       "      <th></th>\n",
       "      <th></th>\n",
       "    </tr>\n",
       "  </thead>\n",
       "  <tbody>\n",
       "    <tr>\n",
       "      <th>E</th>\n",
       "      <td>58474</td>\n",
       "      <td>0.760984</td>\n",
       "    </tr>\n",
       "    <tr>\n",
       "      <th>D</th>\n",
       "      <td>13635</td>\n",
       "      <td>0.177447</td>\n",
       "    </tr>\n",
       "    <tr>\n",
       "      <th>C</th>\n",
       "      <td>4110</td>\n",
       "      <td>0.053488</td>\n",
       "    </tr>\n",
       "    <tr>\n",
       "      <th>B</th>\n",
       "      <td>452</td>\n",
       "      <td>0.005882</td>\n",
       "    </tr>\n",
       "    <tr>\n",
       "      <th>A</th>\n",
       "      <td>169</td>\n",
       "      <td>0.002199</td>\n",
       "    </tr>\n",
       "  </tbody>\n",
       "</table>\n",
       "</div>"
      ],
      "text/plain": [
       "       Frequencia  Porcentagem\n",
       "Renda                         \n",
       "E           58474     0.760984\n",
       "D           13635     0.177447\n",
       "C            4110     0.053488\n",
       "B             452     0.005882\n",
       "A             169     0.002199"
      ]
     },
     "execution_count": 266,
     "metadata": {},
     "output_type": "execute_result"
    }
   ],
   "source": [
    "distri_renda = pd.DataFrame({'Frequencia':frequencia_renda, 'Porcentagem': percentual_renda})\n",
    "distri_renda"
   ]
  },
  {
   "cell_type": "code",
   "execution_count": 269,
   "id": "5f6c41d5-8094-4168-8e90-b6f51fe76fd7",
   "metadata": {},
   "outputs": [
    {
     "data": {
      "text/plain": [
       "<Axes: xlabel='Renda'>"
      ]
     },
     "execution_count": 269,
     "metadata": {},
     "output_type": "execute_result"
    },
    {
     "data": {
      "image/png": "[encoded data removed]",
      "text/plain": [
       "<Figure size 1400x600 with 1 Axes>"
      ]
     },
     "metadata": {},
     "output_type": "display_data"
    }
   ],
   "source": [
    "distri_renda['Frequencia'].plot.bar(width = 1, figsize = (14,6))"
   ]
  },
  {
   "cell_type": "code",
   "execution_count": 275,
   "id": "3910371d-c395-4e69-b4c7-ab453812e171",
   "metadata": {},
   "outputs": [
    {
     "data": {
      "text/plain": [
       "<Axes: xlabel='Renda'>"
      ]
     },
     "execution_count": 275,
     "metadata": {},
     "output_type": "execute_result"
    },
    {
     "data": {
      "image/png": "[encoded data removed]",
      "text/plain": [
       "<Figure size 640x480 with 1 Axes>"
      ]
     },
     "metadata": {},
     "output_type": "display_data"
    }
   ],
   "source": [
    "sns.boxplot(x = 'Renda', data = dados.query('Renda < 20000'), orient = 'h')"
   ]
  },
  {
   "cell_type": "markdown",
   "id": "25e2d0c1-01fc-4e26-b49d-394235c3480f",
   "metadata": {},
   "source": [
    "A população possui uma concetração de renda menor que 2500, ou seja, muito baixo\n",
    "A média se concentra proxima ao salario minimo que é de 788"
   ]
  },
  {
   "cell_type": "code",
   "execution_count": 226,
   "id": "1b7de224-723b-4855-bcbc-cd9e600a7cd8",
   "metadata": {},
   "outputs": [
    {
     "data": {
      "text/plain": [
       "<Axes: xlabel='Renda', ylabel='Cor'>"
      ]
     },
     "execution_count": 226,
     "metadata": {},
     "output_type": "execute_result"
    },
    {
     "data": {
      "image/png": "[encoded data removed]",
      "text/plain": [
       "<Figure size 640x480 with 1 Axes>"
      ]
     },
     "metadata": {},
     "output_type": "display_data"
    }
   ],
   "source": [
    "sns.boxplot(x = 'Renda', y = 'Cor', data = dados.query('Renda < 20000'), orient = 'h')"
   ]
  },
  {
   "cell_type": "markdown",
   "id": "b65c181b-7026-4643-9941-c4bbf13d96db",
   "metadata": {},
   "source": [
    "Com relação a Renda pessoas com a cor 0,8,4 estao muito proximas da media de 788. Com relação a cor 2 e 6 estão mais proximas de 2500"
   ]
  },
  {
   "cell_type": "code",
   "execution_count": 231,
   "id": "f0e4c4c9-79a2-46de-b5b2-6f91fe312993",
   "metadata": {},
   "outputs": [
    {
     "data": {
      "text/plain": [
       "<Axes: xlabel='Renda', ylabel='Sexo'>"
      ]
     },
     "execution_count": 231,
     "metadata": {},
     "output_type": "execute_result"
    },
    {
     "data": {
      "image/png": "[encoded data removed]",
      "text/plain": [
       "<Figure size 640x480 with 1 Axes>"
      ]
     },
     "metadata": {},
     "output_type": "display_data"
    }
   ],
   "source": [
    "sns.boxplot(x = 'Renda', y = 'Sexo', data = dados.query('Renda < 20000'), orient = 'h')"
   ]
  },
  {
   "cell_type": "markdown",
   "id": "e0b46c66-370e-413b-bfb2-dd4bf406d63e",
   "metadata": {},
   "source": [
    "Com relação a Renda pessoas do Sexo 0 estão mais proximas de 2500. Já pessoas do sexo 1 estão mais proximas de 788"
   ]
  },
  {
   "cell_type": "markdown",
   "id": "71b437fb-71dd-4a98-8fa4-35fc263b2c4b",
   "metadata": {},
   "source": [
    "Com relação aos quartis"
   ]
  },
  {
   "cell_type": "code",
   "execution_count": 232,
   "id": "ab0d694c-e581-453a-8742-aef84f00293d",
   "metadata": {},
   "outputs": [
    {
     "data": {
      "text/plain": [
       "count     76840.000000\n",
       "mean       2000.383199\n",
       "std        3323.387730\n",
       "min           0.000000\n",
       "25%         788.000000\n",
       "50%        1200.000000\n",
       "75%        2000.000000\n",
       "max      200000.000000\n",
       "Name: Renda, dtype: float64"
      ]
     },
     "execution_count": 232,
     "metadata": {},
     "output_type": "execute_result"
    }
   ],
   "source": [
    "dados.Renda.describe()"
   ]
  },
  {
   "cell_type": "markdown",
   "id": "d45015c1-7d4e-46d9-8a58-19631fb51078",
   "metadata": {},
   "source": [
    "Com relação a simetria"
   ]
  },
  {
   "cell_type": "code",
   "execution_count": 235,
   "id": "612b3881-3745-4675-84bc-493c4f16075c",
   "metadata": {},
   "outputs": [
    {
     "name": "stderr",
     "output_type": "stream",
     "text": [
      "E:\\Anaconda\\Lib\\site-packages\\seaborn\\_oldcore.py:1119: FutureWarning: use_inf_as_na option is deprecated and will be removed in a future version. Convert inf values to NaN before operating instead.\n",
      "  with pd.option_context('mode.use_inf_as_na', True):\n"
     ]
    },
    {
     "data": {
      "text/plain": [
       "<Axes: xlabel='Renda', ylabel='Count'>"
      ]
     },
     "execution_count": 235,
     "metadata": {},
     "output_type": "execute_result"
    },
    {
     "data": {
      "image/png": "[encoded data removed]",
      "text/plain": [
       "<Figure size 640x480 with 1 Axes>"
      ]
     },
     "metadata": {},
     "output_type": "display_data"
    }
   ],
   "source": [
    "sns.histplot(dados.query('Renda < 10000')['Renda'], kde = True)"
   ]
  },
  {
   "cell_type": "markdown",
   "id": "29ea9ebf-3894-49ed-92c7-23f68e66882f",
   "metadata": {},
   "source": [
    "Graficamente podemos verificar que há uma assimetria à direita. Comprovamos matematicamente atraves da media, moda e mediana"
   ]
  },
  {
   "cell_type": "code",
   "execution_count": 236,
   "id": "c19dde00-c15e-43fd-a5c1-6a7072a60476",
   "metadata": {},
   "outputs": [
    {
     "data": {
      "text/plain": [
       "2000.3831988547631"
      ]
     },
     "execution_count": 236,
     "metadata": {},
     "output_type": "execute_result"
    }
   ],
   "source": [
    "dados.Renda.mean()"
   ]
  },
  {
   "cell_type": "code",
   "execution_count": 237,
   "id": "41add1b5-e817-4a92-a541-2c2fb16a95ea",
   "metadata": {},
   "outputs": [
    {
     "data": {
      "text/plain": [
       "1200.0"
      ]
     },
     "execution_count": 237,
     "metadata": {},
     "output_type": "execute_result"
    }
   ],
   "source": [
    "dados.Renda.median()"
   ]
  },
  {
   "cell_type": "code",
   "execution_count": 239,
   "id": "d1edf595-5451-403d-a4f6-d9eb14ef6945",
   "metadata": {},
   "outputs": [
    {
     "data": {
      "text/plain": [
       "788"
      ]
     },
     "execution_count": 239,
     "metadata": {},
     "output_type": "execute_result"
    }
   ],
   "source": [
    "dados.Renda.mode()[0]"
   ]
  },
  {
   "cell_type": "markdown",
   "id": "ab83d1ae-5409-4a09-9986-36aa11bd87d4",
   "metadata": {},
   "source": [
    "Moda < Mediana < Media = Assimetria à Direita"
   ]
  },
  {
   "cell_type": "code",
   "execution_count": 240,
   "id": "130ec7e5-da8e-49c7-b723-ee7d663318de",
   "metadata": {},
   "outputs": [
    {
     "data": {
      "text/plain": [
       "3323.3877303470294"
      ]
     },
     "execution_count": 240,
     "metadata": {},
     "output_type": "execute_result"
    }
   ],
   "source": [
    "dados.Renda.std()"
   ]
  },
  {
   "cell_type": "markdown",
   "id": "1c2e0221-eb05-4eed-95ba-cbaee970c7af",
   "metadata": {},
   "source": [
    "Com o desvio padrao podemos verificar que os dados de renda estão extremamente dispersos. Com isso, como a média é sensivel aos outliers ela não é uma boa representação para a Renda"
   ]
  },
  {
   "cell_type": "code",
   "execution_count": 241,
   "id": "bab01148-d7a0-482d-96cd-49a8c5f7c8da",
   "metadata": {},
   "outputs": [
    {
     "data": {
      "text/plain": [
       "1200.0"
      ]
     },
     "execution_count": 241,
     "metadata": {},
     "output_type": "execute_result"
    }
   ],
   "source": [
    "dados.Renda.median()"
   ]
  },
  {
   "cell_type": "markdown",
   "id": "251f73b9-1976-42d0-83d1-88a583eaca97",
   "metadata": {},
   "source": [
    "A mediana não é sensivel aos outliers, com isso ela pode ser uma boa representação para a Renda"
   ]
  },
  {
   "cell_type": "markdown",
   "id": "805cfe2a-bea7-40aa-adc3-2c141d966b4c",
   "metadata": {},
   "source": [
    "# Desafio"
   ]
  },
  {
   "cell_type": "code",
   "execution_count": 247,
   "id": "76416227-4e66-4d7b-8efb-ee0d37827310",
   "metadata": {},
   "outputs": [
    {
     "data": {
      "text/plain": [
       "22182"
      ]
     },
     "execution_count": 247,
     "metadata": {},
     "output_type": "execute_result"
    }
   ],
   "source": [
    "len(dados.query('Renda <= 788'))"
   ]
  },
  {
   "cell_type": "code",
   "execution_count": 250,
   "id": "9988c326-3329-4705-b104-33cc96e00492",
   "metadata": {},
   "outputs": [],
   "source": [
    "percentual_desafio = (len(dados.query('Renda <= 788')) / len(dados)) * 100"
   ]
  },
  {
   "cell_type": "code",
   "execution_count": 251,
   "id": "aa5476dc-6118-4d09-9e7d-ddda10652144",
   "metadata": {},
   "outputs": [
    {
     "data": {
      "text/plain": [
       "28.86777719937533"
      ]
     },
     "execution_count": 251,
     "metadata": {},
     "output_type": "execute_result"
    }
   ],
   "source": [
    "percentual_desafio"
   ]
  },
  {
   "cell_type": "code",
   "execution_count": 256,
   "id": "3129b93e-5a37-4e1d-b9d4-c8187945bec0",
   "metadata": {},
   "outputs": [
    {
     "data": {
      "text/plain": [
       "15000.0"
      ]
     },
     "execution_count": 256,
     "metadata": {},
     "output_type": "execute_result"
    }
   ],
   "source": [
    "dados.Renda.quantile([i/100 for i in range(1, 100)]).max()"
   ]
  },
  {
   "cell_type": "code",
   "execution_count": 292,
   "id": "cc7c8fd9-44d0-4a92-96b1-a0ed614c40d1",
   "metadata": {},
   "outputs": [],
   "source": [
    "renda_sexo_cor = pd.crosstab(dados.Cor, dados.Sexo, values = dados.Renda, aggfunc = {'mean','median', 'max'})"
   ]
  },
  {
   "cell_type": "code",
   "execution_count": 293,
   "id": "5259685f-22c6-42b9-a4b9-9c3ae80c5f5d",
   "metadata": {},
   "outputs": [
    {
     "data": {
      "text/html": [
       "<div>\n",
       "<style scoped>\n",
       "    .dataframe tbody tr th:only-of-type {\n",
       "        vertical-align: middle;\n",
       "    }\n",
       "\n",
       "    .dataframe tbody tr th {\n",
       "        vertical-align: top;\n",
       "    }\n",
       "\n",
       "    .dataframe thead tr th {\n",
       "        text-align: left;\n",
       "    }\n",
       "\n",
       "    .dataframe thead tr:last-of-type th {\n",
       "        text-align: right;\n",
       "    }\n",
       "</style>\n",
       "<table border=\"1\" class=\"dataframe\">\n",
       "  <thead>\n",
       "    <tr>\n",
       "      <th></th>\n",
       "      <th colspan=\"2\" halign=\"left\">max</th>\n",
       "      <th colspan=\"2\" halign=\"left\">mean</th>\n",
       "      <th colspan=\"2\" halign=\"left\">median</th>\n",
       "    </tr>\n",
       "    <tr>\n",
       "      <th>Sexo</th>\n",
       "      <th>0</th>\n",
       "      <th>1</th>\n",
       "      <th>0</th>\n",
       "      <th>1</th>\n",
       "      <th>0</th>\n",
       "      <th>1</th>\n",
       "    </tr>\n",
       "    <tr>\n",
       "      <th>Cor</th>\n",
       "      <th></th>\n",
       "      <th></th>\n",
       "      <th></th>\n",
       "      <th></th>\n",
       "      <th></th>\n",
       "      <th></th>\n",
       "    </tr>\n",
       "  </thead>\n",
       "  <tbody>\n",
       "    <tr>\n",
       "      <th>0</th>\n",
       "      <td>10000</td>\n",
       "      <td>120000</td>\n",
       "      <td>1081.710938</td>\n",
       "      <td>2464.386139</td>\n",
       "      <td>797.5</td>\n",
       "      <td>788.0</td>\n",
       "    </tr>\n",
       "    <tr>\n",
       "      <th>2</th>\n",
       "      <td>200000</td>\n",
       "      <td>100000</td>\n",
       "      <td>2925.744435</td>\n",
       "      <td>2109.866750</td>\n",
       "      <td>1700.0</td>\n",
       "      <td>1200.0</td>\n",
       "    </tr>\n",
       "    <tr>\n",
       "      <th>4</th>\n",
       "      <td>50000</td>\n",
       "      <td>23000</td>\n",
       "      <td>1603.861687</td>\n",
       "      <td>1134.596400</td>\n",
       "      <td>1200.0</td>\n",
       "      <td>800.0</td>\n",
       "    </tr>\n",
       "    <tr>\n",
       "      <th>6</th>\n",
       "      <td>50000</td>\n",
       "      <td>20000</td>\n",
       "      <td>4758.251064</td>\n",
       "      <td>3027.341880</td>\n",
       "      <td>2800.0</td>\n",
       "      <td>1500.0</td>\n",
       "    </tr>\n",
       "    <tr>\n",
       "      <th>8</th>\n",
       "      <td>100000</td>\n",
       "      <td>30000</td>\n",
       "      <td>1659.577425</td>\n",
       "      <td>1176.758516</td>\n",
       "      <td>1200.0</td>\n",
       "      <td>800.0</td>\n",
       "    </tr>\n",
       "  </tbody>\n",
       "</table>\n",
       "</div>"
      ],
      "text/plain": [
       "         max                 mean               median        \n",
       "Sexo       0       1            0            1       0       1\n",
       "Cor                                                           \n",
       "0      10000  120000  1081.710938  2464.386139   797.5   788.0\n",
       "2     200000  100000  2925.744435  2109.866750  1700.0  1200.0\n",
       "4      50000   23000  1603.861687  1134.596400  1200.0   800.0\n",
       "6      50000   20000  4758.251064  3027.341880  2800.0  1500.0\n",
       "8     100000   30000  1659.577425  1176.758516  1200.0   800.0"
      ]
     },
     "execution_count": 293,
     "metadata": {},
     "output_type": "execute_result"
    }
   ],
   "source": [
    "renda_sexo_cor"
   ]
  },
  {
   "cell_type": "code",
   "execution_count": 294,
   "id": "7df3d620-3fd4-4a37-80b0-8c7e38e96f15",
   "metadata": {},
   "outputs": [],
   "source": [
    "renda_sexo_cor.rename(columns = {0: 'Maculino', 1: 'Feminino'}, inplace = True)"
   ]
  },
  {
   "cell_type": "code",
   "execution_count": 295,
   "id": "925d20fc-e4b5-46f6-9840-db8b07dca372",
   "metadata": {},
   "outputs": [
    {
     "data": {
      "text/html": [
       "<div>\n",
       "<style scoped>\n",
       "    .dataframe tbody tr th:only-of-type {\n",
       "        vertical-align: middle;\n",
       "    }\n",
       "\n",
       "    .dataframe tbody tr th {\n",
       "        vertical-align: top;\n",
       "    }\n",
       "\n",
       "    .dataframe thead tr th {\n",
       "        text-align: left;\n",
       "    }\n",
       "\n",
       "    .dataframe thead tr:last-of-type th {\n",
       "        text-align: right;\n",
       "    }\n",
       "</style>\n",
       "<table border=\"1\" class=\"dataframe\">\n",
       "  <thead>\n",
       "    <tr>\n",
       "      <th></th>\n",
       "      <th colspan=\"2\" halign=\"left\">max</th>\n",
       "      <th colspan=\"2\" halign=\"left\">mean</th>\n",
       "      <th colspan=\"2\" halign=\"left\">median</th>\n",
       "    </tr>\n",
       "    <tr>\n",
       "      <th>Sexo</th>\n",
       "      <th>Maculino</th>\n",
       "      <th>Feminino</th>\n",
       "      <th>Maculino</th>\n",
       "      <th>Feminino</th>\n",
       "      <th>Maculino</th>\n",
       "      <th>Feminino</th>\n",
       "    </tr>\n",
       "    <tr>\n",
       "      <th>Cor</th>\n",
       "      <th></th>\n",
       "      <th></th>\n",
       "      <th></th>\n",
       "      <th></th>\n",
       "      <th></th>\n",
       "      <th></th>\n",
       "    </tr>\n",
       "  </thead>\n",
       "  <tbody>\n",
       "    <tr>\n",
       "      <th>0</th>\n",
       "      <td>10000</td>\n",
       "      <td>120000</td>\n",
       "      <td>1081.710938</td>\n",
       "      <td>2464.386139</td>\n",
       "      <td>797.5</td>\n",
       "      <td>788.0</td>\n",
       "    </tr>\n",
       "    <tr>\n",
       "      <th>2</th>\n",
       "      <td>200000</td>\n",
       "      <td>100000</td>\n",
       "      <td>2925.744435</td>\n",
       "      <td>2109.866750</td>\n",
       "      <td>1700.0</td>\n",
       "      <td>1200.0</td>\n",
       "    </tr>\n",
       "    <tr>\n",
       "      <th>4</th>\n",
       "      <td>50000</td>\n",
       "      <td>23000</td>\n",
       "      <td>1603.861687</td>\n",
       "      <td>1134.596400</td>\n",
       "      <td>1200.0</td>\n",
       "      <td>800.0</td>\n",
       "    </tr>\n",
       "    <tr>\n",
       "      <th>6</th>\n",
       "      <td>50000</td>\n",
       "      <td>20000</td>\n",
       "      <td>4758.251064</td>\n",
       "      <td>3027.341880</td>\n",
       "      <td>2800.0</td>\n",
       "      <td>1500.0</td>\n",
       "    </tr>\n",
       "    <tr>\n",
       "      <th>8</th>\n",
       "      <td>100000</td>\n",
       "      <td>30000</td>\n",
       "      <td>1659.577425</td>\n",
       "      <td>1176.758516</td>\n",
       "      <td>1200.0</td>\n",
       "      <td>800.0</td>\n",
       "    </tr>\n",
       "  </tbody>\n",
       "</table>\n",
       "</div>"
      ],
      "text/plain": [
       "          max                  mean                median         \n",
       "Sexo Maculino Feminino     Maculino     Feminino Maculino Feminino\n",
       "Cor                                                               \n",
       "0       10000   120000  1081.710938  2464.386139    797.5    788.0\n",
       "2      200000   100000  2925.744435  2109.866750   1700.0   1200.0\n",
       "4       50000    23000  1603.861687  1134.596400   1200.0    800.0\n",
       "6       50000    20000  4758.251064  3027.341880   2800.0   1500.0\n",
       "8      100000    30000  1659.577425  1176.758516   1200.0    800.0"
      ]
     },
     "execution_count": 295,
     "metadata": {},
     "output_type": "execute_result"
    }
   ],
   "source": [
    "renda_sexo_cor"
   ]
  },
  {
   "cell_type": "code",
   "execution_count": 296,
   "id": "acca5a3e-1e77-4f9a-a15c-9d703f449dad",
   "metadata": {},
   "outputs": [
    {
     "data": {
      "text/html": [
       "<div>\n",
       "<style scoped>\n",
       "    .dataframe tbody tr th:only-of-type {\n",
       "        vertical-align: middle;\n",
       "    }\n",
       "\n",
       "    .dataframe tbody tr th {\n",
       "        vertical-align: top;\n",
       "    }\n",
       "\n",
       "    .dataframe thead tr th {\n",
       "        text-align: left;\n",
       "    }\n",
       "\n",
       "    .dataframe thead tr:last-of-type th {\n",
       "        text-align: right;\n",
       "    }\n",
       "</style>\n",
       "<table border=\"1\" class=\"dataframe\">\n",
       "  <thead>\n",
       "    <tr>\n",
       "      <th></th>\n",
       "      <th colspan=\"2\" halign=\"left\">std</th>\n",
       "      <th colspan=\"2\" halign=\"left\">var</th>\n",
       "    </tr>\n",
       "    <tr>\n",
       "      <th>Sexo</th>\n",
       "      <th>0</th>\n",
       "      <th>1</th>\n",
       "      <th>0</th>\n",
       "      <th>1</th>\n",
       "    </tr>\n",
       "    <tr>\n",
       "      <th>Cor</th>\n",
       "      <th></th>\n",
       "      <th></th>\n",
       "      <th></th>\n",
       "      <th></th>\n",
       "    </tr>\n",
       "  </thead>\n",
       "  <tbody>\n",
       "    <tr>\n",
       "      <th>0</th>\n",
       "      <td>1204.093490</td>\n",
       "      <td>11957.498292</td>\n",
       "      <td>1.449841e+06</td>\n",
       "      <td>1.429818e+08</td>\n",
       "    </tr>\n",
       "    <tr>\n",
       "      <th>2</th>\n",
       "      <td>4750.791872</td>\n",
       "      <td>3251.013154</td>\n",
       "      <td>2.257002e+07</td>\n",
       "      <td>1.056909e+07</td>\n",
       "    </tr>\n",
       "    <tr>\n",
       "      <th>4</th>\n",
       "      <td>1936.309271</td>\n",
       "      <td>1349.799809</td>\n",
       "      <td>3.749294e+06</td>\n",
       "      <td>1.821960e+06</td>\n",
       "    </tr>\n",
       "    <tr>\n",
       "      <th>6</th>\n",
       "      <td>5740.824820</td>\n",
       "      <td>3731.173660</td>\n",
       "      <td>3.295707e+07</td>\n",
       "      <td>1.392166e+07</td>\n",
       "    </tr>\n",
       "    <tr>\n",
       "      <th>8</th>\n",
       "      <td>2312.087184</td>\n",
       "      <td>1596.233048</td>\n",
       "      <td>5.345747e+06</td>\n",
       "      <td>2.547960e+06</td>\n",
       "    </tr>\n",
       "  </tbody>\n",
       "</table>\n",
       "</div>"
      ],
      "text/plain": [
       "              std                         var              \n",
       "Sexo            0             1             0             1\n",
       "Cor                                                        \n",
       "0     1204.093490  11957.498292  1.449841e+06  1.429818e+08\n",
       "2     4750.791872   3251.013154  2.257002e+07  1.056909e+07\n",
       "4     1936.309271   1349.799809  3.749294e+06  1.821960e+06\n",
       "6     5740.824820   3731.173660  3.295707e+07  1.392166e+07\n",
       "8     2312.087184   1596.233048  5.345747e+06  2.547960e+06"
      ]
     },
     "execution_count": 296,
     "metadata": {},
     "output_type": "execute_result"
    }
   ],
   "source": [
    "pd.crosstab(dados['Cor'], dados['Sexo'], values = dados.Renda, aggfunc={'std', 'var'})"
   ]
  },
  {
   "cell_type": "code",
   "execution_count": 299,
   "id": "c07267b0-e25a-414e-85c7-cb9dea49e81e",
   "metadata": {},
   "outputs": [
    {
     "data": {
      "text/plain": [
       "<Axes: xlabel='Renda', ylabel='Cor'>"
      ]
     },
     "execution_count": 299,
     "metadata": {},
     "output_type": "execute_result"
    },
    {
     "data": {
      "image/png": "[encoded data removed]",
      "text/plain": [
       "<Figure size 640x480 with 1 Axes>"
      ]
     },
     "metadata": {},
     "output_type": "display_data"
    }
   ],
   "source": [
    "sns.boxplot(x = 'Renda', y = 'Cor', hue = 'Sexo', data = dados.query('Renda < 10000'), orient = 'h')"
   ]
  },
  {
   "cell_type": "code",
   "execution_count": 305,
   "id": "48c49d1d-c6a0-41d4-a105-56af621bdea4",
   "metadata": {},
   "outputs": [],
   "source": [
    "renda_estudo_sexo = pd.crosstab(dados['Anos de Estudo'], dados['Sexo'], values = dados.query('Renda <= 10000').Renda, aggfunc={'mean', 'median', 'max', 'std'})"
   ]
  },
  {
   "cell_type": "code",
   "execution_count": 301,
   "id": "3b47eba1-556e-4448-b0ae-ba0e692b0dae",
   "metadata": {},
   "outputs": [
    {
     "data": {
      "text/html": [
       "<div>\n",
       "<style scoped>\n",
       "    .dataframe tbody tr th:only-of-type {\n",
       "        vertical-align: middle;\n",
       "    }\n",
       "\n",
       "    .dataframe tbody tr th {\n",
       "        vertical-align: top;\n",
       "    }\n",
       "\n",
       "    .dataframe thead tr th {\n",
       "        text-align: left;\n",
       "    }\n",
       "\n",
       "    .dataframe thead tr:last-of-type th {\n",
       "        text-align: right;\n",
       "    }\n",
       "</style>\n",
       "<table border=\"1\" class=\"dataframe\">\n",
       "  <thead>\n",
       "    <tr>\n",
       "      <th></th>\n",
       "      <th colspan=\"2\" halign=\"left\">max</th>\n",
       "      <th colspan=\"2\" halign=\"left\">mean</th>\n",
       "      <th colspan=\"2\" halign=\"left\">median</th>\n",
       "      <th colspan=\"2\" halign=\"left\">std</th>\n",
       "    </tr>\n",
       "    <tr>\n",
       "      <th>Sexo</th>\n",
       "      <th>0</th>\n",
       "      <th>1</th>\n",
       "      <th>0</th>\n",
       "      <th>1</th>\n",
       "      <th>0</th>\n",
       "      <th>1</th>\n",
       "      <th>0</th>\n",
       "      <th>1</th>\n",
       "    </tr>\n",
       "    <tr>\n",
       "      <th>Anos de Estudo</th>\n",
       "      <th></th>\n",
       "      <th></th>\n",
       "      <th></th>\n",
       "      <th></th>\n",
       "      <th></th>\n",
       "      <th></th>\n",
       "      <th></th>\n",
       "      <th></th>\n",
       "    </tr>\n",
       "  </thead>\n",
       "  <tbody>\n",
       "    <tr>\n",
       "      <th>1</th>\n",
       "      <td>30000</td>\n",
       "      <td>10000</td>\n",
       "      <td>799.494638</td>\n",
       "      <td>516.201748</td>\n",
       "      <td>700.0</td>\n",
       "      <td>390.0</td>\n",
       "      <td>1023.904884</td>\n",
       "      <td>639.311534</td>\n",
       "    </tr>\n",
       "    <tr>\n",
       "      <th>2</th>\n",
       "      <td>30000</td>\n",
       "      <td>2000</td>\n",
       "      <td>895.629047</td>\n",
       "      <td>492.771987</td>\n",
       "      <td>788.0</td>\n",
       "      <td>400.0</td>\n",
       "      <td>1331.950552</td>\n",
       "      <td>425.291842</td>\n",
       "    </tr>\n",
       "    <tr>\n",
       "      <th>3</th>\n",
       "      <td>40000</td>\n",
       "      <td>4000</td>\n",
       "      <td>931.178986</td>\n",
       "      <td>529.911638</td>\n",
       "      <td>788.0</td>\n",
       "      <td>450.0</td>\n",
       "      <td>1435.173827</td>\n",
       "      <td>498.234168</td>\n",
       "    </tr>\n",
       "    <tr>\n",
       "      <th>4</th>\n",
       "      <td>80000</td>\n",
       "      <td>3500</td>\n",
       "      <td>1109.203862</td>\n",
       "      <td>546.853916</td>\n",
       "      <td>800.0</td>\n",
       "      <td>500.0</td>\n",
       "      <td>2143.800133</td>\n",
       "      <td>424.124446</td>\n",
       "    </tr>\n",
       "    <tr>\n",
       "      <th>5</th>\n",
       "      <td>50000</td>\n",
       "      <td>10000</td>\n",
       "      <td>1302.329283</td>\n",
       "      <td>704.279111</td>\n",
       "      <td>1000.0</td>\n",
       "      <td>788.0</td>\n",
       "      <td>1419.821787</td>\n",
       "      <td>629.553397</td>\n",
       "    </tr>\n",
       "    <tr>\n",
       "      <th>6</th>\n",
       "      <td>35000</td>\n",
       "      <td>8000</td>\n",
       "      <td>1338.653218</td>\n",
       "      <td>781.389776</td>\n",
       "      <td>1045.0</td>\n",
       "      <td>788.0</td>\n",
       "      <td>1484.650587</td>\n",
       "      <td>635.782641</td>\n",
       "    </tr>\n",
       "    <tr>\n",
       "      <th>7</th>\n",
       "      <td>25000</td>\n",
       "      <td>6000</td>\n",
       "      <td>1448.875419</td>\n",
       "      <td>833.732824</td>\n",
       "      <td>1200.0</td>\n",
       "      <td>788.0</td>\n",
       "      <td>1476.628602</td>\n",
       "      <td>574.547028</td>\n",
       "    </tr>\n",
       "    <tr>\n",
       "      <th>8</th>\n",
       "      <td>40000</td>\n",
       "      <td>9000</td>\n",
       "      <td>1465.497940</td>\n",
       "      <td>830.751004</td>\n",
       "      <td>1200.0</td>\n",
       "      <td>788.0</td>\n",
       "      <td>1419.708673</td>\n",
       "      <td>602.038029</td>\n",
       "    </tr>\n",
       "    <tr>\n",
       "      <th>9</th>\n",
       "      <td>30000</td>\n",
       "      <td>18000</td>\n",
       "      <td>1639.396667</td>\n",
       "      <td>933.615351</td>\n",
       "      <td>1300.0</td>\n",
       "      <td>800.0</td>\n",
       "      <td>1515.583715</td>\n",
       "      <td>896.781213</td>\n",
       "    </tr>\n",
       "    <tr>\n",
       "      <th>10</th>\n",
       "      <td>60000</td>\n",
       "      <td>20000</td>\n",
       "      <td>1508.038850</td>\n",
       "      <td>868.021700</td>\n",
       "      <td>1200.0</td>\n",
       "      <td>788.0</td>\n",
       "      <td>2137.664774</td>\n",
       "      <td>973.221652</td>\n",
       "    </tr>\n",
       "    <tr>\n",
       "      <th>11</th>\n",
       "      <td>45000</td>\n",
       "      <td>6000</td>\n",
       "      <td>1731.270847</td>\n",
       "      <td>925.919225</td>\n",
       "      <td>1218.0</td>\n",
       "      <td>800.0</td>\n",
       "      <td>2078.609734</td>\n",
       "      <td>620.611907</td>\n",
       "    </tr>\n",
       "    <tr>\n",
       "      <th>12</th>\n",
       "      <td>200000</td>\n",
       "      <td>100000</td>\n",
       "      <td>2117.060504</td>\n",
       "      <td>1286.790889</td>\n",
       "      <td>1500.0</td>\n",
       "      <td>1000.0</td>\n",
       "      <td>2676.538942</td>\n",
       "      <td>1819.040417</td>\n",
       "    </tr>\n",
       "    <tr>\n",
       "      <th>13</th>\n",
       "      <td>30000</td>\n",
       "      <td>120000</td>\n",
       "      <td>2470.330776</td>\n",
       "      <td>1682.313725</td>\n",
       "      <td>1800.0</td>\n",
       "      <td>1200.0</td>\n",
       "      <td>2268.081538</td>\n",
       "      <td>4851.833513</td>\n",
       "    </tr>\n",
       "    <tr>\n",
       "      <th>14</th>\n",
       "      <td>25000</td>\n",
       "      <td>20000</td>\n",
       "      <td>3195.099154</td>\n",
       "      <td>1911.730047</td>\n",
       "      <td>2400.0</td>\n",
       "      <td>1300.0</td>\n",
       "      <td>2797.116800</td>\n",
       "      <td>2053.789771</td>\n",
       "    </tr>\n",
       "    <tr>\n",
       "      <th>15</th>\n",
       "      <td>50000</td>\n",
       "      <td>20000</td>\n",
       "      <td>3706.620269</td>\n",
       "      <td>2226.460457</td>\n",
       "      <td>2500.0</td>\n",
       "      <td>1600.0</td>\n",
       "      <td>3987.214974</td>\n",
       "      <td>2064.083336</td>\n",
       "    </tr>\n",
       "    <tr>\n",
       "      <th>16</th>\n",
       "      <td>200000</td>\n",
       "      <td>100000</td>\n",
       "      <td>6134.279790</td>\n",
       "      <td>3899.513231</td>\n",
       "      <td>4000.0</td>\n",
       "      <td>2800.0</td>\n",
       "      <td>7447.613594</td>\n",
       "      <td>4212.770709</td>\n",
       "    </tr>\n",
       "    <tr>\n",
       "      <th>17</th>\n",
       "      <td>7000</td>\n",
       "      <td>3000</td>\n",
       "      <td>1295.761905</td>\n",
       "      <td>798.174419</td>\n",
       "      <td>1200.0</td>\n",
       "      <td>788.0</td>\n",
       "      <td>979.648745</td>\n",
       "      <td>459.985964</td>\n",
       "    </tr>\n",
       "  </tbody>\n",
       "</table>\n",
       "</div>"
      ],
      "text/plain": [
       "                   max                 mean               median          \\\n",
       "Sexo                 0       1            0            1       0       1   \n",
       "Anos de Estudo                                                             \n",
       "1                30000   10000   799.494638   516.201748   700.0   390.0   \n",
       "2                30000    2000   895.629047   492.771987   788.0   400.0   \n",
       "3                40000    4000   931.178986   529.911638   788.0   450.0   \n",
       "4                80000    3500  1109.203862   546.853916   800.0   500.0   \n",
       "5                50000   10000  1302.329283   704.279111  1000.0   788.0   \n",
       "6                35000    8000  1338.653218   781.389776  1045.0   788.0   \n",
       "7                25000    6000  1448.875419   833.732824  1200.0   788.0   \n",
       "8                40000    9000  1465.497940   830.751004  1200.0   788.0   \n",
       "9                30000   18000  1639.396667   933.615351  1300.0   800.0   \n",
       "10               60000   20000  1508.038850   868.021700  1200.0   788.0   \n",
       "11               45000    6000  1731.270847   925.919225  1218.0   800.0   \n",
       "12              200000  100000  2117.060504  1286.790889  1500.0  1000.0   \n",
       "13               30000  120000  2470.330776  1682.313725  1800.0  1200.0   \n",
       "14               25000   20000  3195.099154  1911.730047  2400.0  1300.0   \n",
       "15               50000   20000  3706.620269  2226.460457  2500.0  1600.0   \n",
       "16              200000  100000  6134.279790  3899.513231  4000.0  2800.0   \n",
       "17                7000    3000  1295.761905   798.174419  1200.0   788.0   \n",
       "\n",
       "                        std               \n",
       "Sexo                      0            1  \n",
       "Anos de Estudo                            \n",
       "1               1023.904884   639.311534  \n",
       "2               1331.950552   425.291842  \n",
       "3               1435.173827   498.234168  \n",
       "4               2143.800133   424.124446  \n",
       "5               1419.821787   629.553397  \n",
       "6               1484.650587   635.782641  \n",
       "7               1476.628602   574.547028  \n",
       "8               1419.708673   602.038029  \n",
       "9               1515.583715   896.781213  \n",
       "10              2137.664774   973.221652  \n",
       "11              2078.609734   620.611907  \n",
       "12              2676.538942  1819.040417  \n",
       "13              2268.081538  4851.833513  \n",
       "14              2797.116800  2053.789771  \n",
       "15              3987.214974  2064.083336  \n",
       "16              7447.613594  4212.770709  \n",
       "17               979.648745   459.985964  "
      ]
     },
     "execution_count": 301,
     "metadata": {},
     "output_type": "execute_result"
    }
   ],
   "source": [
    "renda_estudo_sexo"
   ]
  },
  {
   "cell_type": "code",
   "execution_count": 306,
   "id": "8ccc44d5-db27-49a2-b537-9a8d308a0835",
   "metadata": {},
   "outputs": [
    {
     "data": {
      "text/plain": [
       "<Axes: xlabel='Anos de Estudo'>"
      ]
     },
     "execution_count": 306,
     "metadata": {},
     "output_type": "execute_result"
    },
    {
     "data": {
      "image/png": "[encoded data removed]",
      "text/plain": [
       "<Figure size 2200x600 with 1 Axes>"
      ]
     },
     "metadata": {},
     "output_type": "display_data"
    }
   ],
   "source": [
    "renda_estudo_sexo.plot.bar(width = 1, figsize = (22,6))"
   ]
  },
  {
   "cell_type": "code",
   "execution_count": 308,
   "id": "947e478f-c0a5-45e5-a543-3469f73fe396",
   "metadata": {},
   "outputs": [
    {
     "data": {
      "text/plain": [
       "<Axes: xlabel='Renda', ylabel='Anos de Estudo'>"
      ]
     },
     "execution_count": 308,
     "metadata": {},
     "output_type": "execute_result"
    },
    {
     "data": {
      "image/png": "[encoded data removed]",
      "text/plain": [
       "<Figure size 640x480 with 1 Axes>"
      ]
     },
     "metadata": {},
     "output_type": "display_data"
    }
   ],
   "source": [
    "sns.boxplot(x = 'Renda', y = 'Anos de Estudo', hue = 'Sexo', data = dados.query('Renda <= 10000'), orient = 'h')"
   ]
  },
  {
   "cell_type": "code",
   "execution_count": 310,
   "id": "dfae17e1-e83d-4725-8b24-04f7e3c55974",
   "metadata": {},
   "outputs": [],
   "source": [
    "renda_uf = dados.groupby(['UF']).agg({'Renda': ['mean', 'median', 'max', 'std']})"
   ]
  },
  {
   "cell_type": "code",
   "execution_count": 311,
   "id": "40e7bb8f-89e3-4b45-8829-ebda9b95983a",
   "metadata": {},
   "outputs": [
    {
     "data": {
      "text/html": [
       "<div>\n",
       "<style scoped>\n",
       "    .dataframe tbody tr th:only-of-type {\n",
       "        vertical-align: middle;\n",
       "    }\n",
       "\n",
       "    .dataframe tbody tr th {\n",
       "        vertical-align: top;\n",
       "    }\n",
       "\n",
       "    .dataframe thead tr th {\n",
       "        text-align: left;\n",
       "    }\n",
       "\n",
       "    .dataframe thead tr:last-of-type th {\n",
       "        text-align: right;\n",
       "    }\n",
       "</style>\n",
       "<table border=\"1\" class=\"dataframe\">\n",
       "  <thead>\n",
       "    <tr>\n",
       "      <th></th>\n",
       "      <th colspan=\"4\" halign=\"left\">Renda</th>\n",
       "    </tr>\n",
       "    <tr>\n",
       "      <th></th>\n",
       "      <th>mean</th>\n",
       "      <th>median</th>\n",
       "      <th>max</th>\n",
       "      <th>std</th>\n",
       "    </tr>\n",
       "    <tr>\n",
       "      <th>UF</th>\n",
       "      <th></th>\n",
       "      <th></th>\n",
       "      <th></th>\n",
       "      <th></th>\n",
       "    </tr>\n",
       "  </thead>\n",
       "  <tbody>\n",
       "    <tr>\n",
       "      <th>11</th>\n",
       "      <td>1789.761223</td>\n",
       "      <td>1200.0</td>\n",
       "      <td>50000</td>\n",
       "      <td>2406.161161</td>\n",
       "    </tr>\n",
       "    <tr>\n",
       "      <th>12</th>\n",
       "      <td>1506.091782</td>\n",
       "      <td>900.0</td>\n",
       "      <td>30000</td>\n",
       "      <td>2276.233415</td>\n",
       "    </tr>\n",
       "    <tr>\n",
       "      <th>13</th>\n",
       "      <td>1445.130100</td>\n",
       "      <td>900.0</td>\n",
       "      <td>22000</td>\n",
       "      <td>1757.935591</td>\n",
       "    </tr>\n",
       "    <tr>\n",
       "      <th>14</th>\n",
       "      <td>1783.588889</td>\n",
       "      <td>1000.0</td>\n",
       "      <td>20000</td>\n",
       "      <td>2079.659238</td>\n",
       "    </tr>\n",
       "    <tr>\n",
       "      <th>15</th>\n",
       "      <td>1399.076871</td>\n",
       "      <td>850.0</td>\n",
       "      <td>50000</td>\n",
       "      <td>2053.779555</td>\n",
       "    </tr>\n",
       "    <tr>\n",
       "      <th>16</th>\n",
       "      <td>1861.353516</td>\n",
       "      <td>1200.0</td>\n",
       "      <td>15580</td>\n",
       "      <td>2020.688632</td>\n",
       "    </tr>\n",
       "    <tr>\n",
       "      <th>17</th>\n",
       "      <td>1771.094946</td>\n",
       "      <td>1000.0</td>\n",
       "      <td>60000</td>\n",
       "      <td>2934.590741</td>\n",
       "    </tr>\n",
       "    <tr>\n",
       "      <th>21</th>\n",
       "      <td>1019.432009</td>\n",
       "      <td>700.0</td>\n",
       "      <td>30000</td>\n",
       "      <td>1887.816905</td>\n",
       "    </tr>\n",
       "    <tr>\n",
       "      <th>22</th>\n",
       "      <td>1074.550784</td>\n",
       "      <td>750.0</td>\n",
       "      <td>40000</td>\n",
       "      <td>2373.355726</td>\n",
       "    </tr>\n",
       "    <tr>\n",
       "      <th>23</th>\n",
       "      <td>1255.403692</td>\n",
       "      <td>789.0</td>\n",
       "      <td>25000</td>\n",
       "      <td>1821.963536</td>\n",
       "    </tr>\n",
       "    <tr>\n",
       "      <th>24</th>\n",
       "      <td>1344.721480</td>\n",
       "      <td>800.0</td>\n",
       "      <td>15500</td>\n",
       "      <td>1651.805500</td>\n",
       "    </tr>\n",
       "    <tr>\n",
       "      <th>25</th>\n",
       "      <td>1293.370487</td>\n",
       "      <td>788.0</td>\n",
       "      <td>30000</td>\n",
       "      <td>1950.272431</td>\n",
       "    </tr>\n",
       "    <tr>\n",
       "      <th>26</th>\n",
       "      <td>1527.079319</td>\n",
       "      <td>900.0</td>\n",
       "      <td>50000</td>\n",
       "      <td>2389.622497</td>\n",
       "    </tr>\n",
       "    <tr>\n",
       "      <th>27</th>\n",
       "      <td>1144.552602</td>\n",
       "      <td>788.0</td>\n",
       "      <td>11000</td>\n",
       "      <td>1237.856197</td>\n",
       "    </tr>\n",
       "    <tr>\n",
       "      <th>28</th>\n",
       "      <td>1109.111111</td>\n",
       "      <td>788.0</td>\n",
       "      <td>16000</td>\n",
       "      <td>1478.997878</td>\n",
       "    </tr>\n",
       "    <tr>\n",
       "      <th>29</th>\n",
       "      <td>1429.645094</td>\n",
       "      <td>800.0</td>\n",
       "      <td>200000</td>\n",
       "      <td>3507.917248</td>\n",
       "    </tr>\n",
       "    <tr>\n",
       "      <th>31</th>\n",
       "      <td>2056.432084</td>\n",
       "      <td>1200.0</td>\n",
       "      <td>100000</td>\n",
       "      <td>3584.721547</td>\n",
       "    </tr>\n",
       "    <tr>\n",
       "      <th>32</th>\n",
       "      <td>2026.383852</td>\n",
       "      <td>1274.0</td>\n",
       "      <td>100000</td>\n",
       "      <td>3513.846868</td>\n",
       "    </tr>\n",
       "    <tr>\n",
       "      <th>33</th>\n",
       "      <td>2496.403168</td>\n",
       "      <td>1400.0</td>\n",
       "      <td>200000</td>\n",
       "      <td>5214.583518</td>\n",
       "    </tr>\n",
       "    <tr>\n",
       "      <th>35</th>\n",
       "      <td>2638.104986</td>\n",
       "      <td>1600.0</td>\n",
       "      <td>80000</td>\n",
       "      <td>3503.777366</td>\n",
       "    </tr>\n",
       "    <tr>\n",
       "      <th>41</th>\n",
       "      <td>2493.870753</td>\n",
       "      <td>1500.0</td>\n",
       "      <td>200000</td>\n",
       "      <td>4302.937995</td>\n",
       "    </tr>\n",
       "    <tr>\n",
       "      <th>42</th>\n",
       "      <td>2470.854945</td>\n",
       "      <td>1800.0</td>\n",
       "      <td>80000</td>\n",
       "      <td>3137.651112</td>\n",
       "    </tr>\n",
       "    <tr>\n",
       "      <th>43</th>\n",
       "      <td>2315.158336</td>\n",
       "      <td>1500.0</td>\n",
       "      <td>35000</td>\n",
       "      <td>2913.335783</td>\n",
       "    </tr>\n",
       "    <tr>\n",
       "      <th>50</th>\n",
       "      <td>2262.604167</td>\n",
       "      <td>1500.0</td>\n",
       "      <td>42000</td>\n",
       "      <td>3031.419122</td>\n",
       "    </tr>\n",
       "    <tr>\n",
       "      <th>51</th>\n",
       "      <td>2130.652778</td>\n",
       "      <td>1500.0</td>\n",
       "      <td>35000</td>\n",
       "      <td>2542.630178</td>\n",
       "    </tr>\n",
       "    <tr>\n",
       "      <th>52</th>\n",
       "      <td>1994.580794</td>\n",
       "      <td>1500.0</td>\n",
       "      <td>30000</td>\n",
       "      <td>2221.933065</td>\n",
       "    </tr>\n",
       "    <tr>\n",
       "      <th>53</th>\n",
       "      <td>4241.954722</td>\n",
       "      <td>2000.0</td>\n",
       "      <td>100000</td>\n",
       "      <td>5550.463338</td>\n",
       "    </tr>\n",
       "  </tbody>\n",
       "</table>\n",
       "</div>"
      ],
      "text/plain": [
       "          Renda                             \n",
       "           mean  median     max          std\n",
       "UF                                          \n",
       "11  1789.761223  1200.0   50000  2406.161161\n",
       "12  1506.091782   900.0   30000  2276.233415\n",
       "13  1445.130100   900.0   22000  1757.935591\n",
       "14  1783.588889  1000.0   20000  2079.659238\n",
       "15  1399.076871   850.0   50000  2053.779555\n",
       "16  1861.353516  1200.0   15580  2020.688632\n",
       "17  1771.094946  1000.0   60000  2934.590741\n",
       "21  1019.432009   700.0   30000  1887.816905\n",
       "22  1074.550784   750.0   40000  2373.355726\n",
       "23  1255.403692   789.0   25000  1821.963536\n",
       "24  1344.721480   800.0   15500  1651.805500\n",
       "25  1293.370487   788.0   30000  1950.272431\n",
       "26  1527.079319   900.0   50000  2389.622497\n",
       "27  1144.552602   788.0   11000  1237.856197\n",
       "28  1109.111111   788.0   16000  1478.997878\n",
       "29  1429.645094   800.0  200000  3507.917248\n",
       "31  2056.432084  1200.0  100000  3584.721547\n",
       "32  2026.383852  1274.0  100000  3513.846868\n",
       "33  2496.403168  1400.0  200000  5214.583518\n",
       "35  2638.104986  1600.0   80000  3503.777366\n",
       "41  2493.870753  1500.0  200000  4302.937995\n",
       "42  2470.854945  1800.0   80000  3137.651112\n",
       "43  2315.158336  1500.0   35000  2913.335783\n",
       "50  2262.604167  1500.0   42000  3031.419122\n",
       "51  2130.652778  1500.0   35000  2542.630178\n",
       "52  1994.580794  1500.0   30000  2221.933065\n",
       "53  4241.954722  2000.0  100000  5550.463338"
      ]
     },
     "execution_count": 311,
     "metadata": {},
     "output_type": "execute_result"
    }
   ],
   "source": [
    "renda_uf"
   ]
  },
  {
   "cell_type": "code",
   "execution_count": 312,
   "id": "bf90e58b-d138-4f61-871d-2549c1c7cb0e",
   "metadata": {},
   "outputs": [
    {
     "data": {
      "text/plain": [
       "<Axes: xlabel='Renda', ylabel='UF'>"
      ]
     },
     "execution_count": 312,
     "metadata": {},
     "output_type": "execute_result"
    },
    {
     "data": {
      "image/png": "[encoded data removed]",
      "text/plain": [
       "<Figure size 640x480 with 1 Axes>"
      ]
     },
     "metadata": {},
     "output_type": "display_data"
    }
   ],
   "source": [
    "sns.boxplot(x = 'Renda', y = 'UF', data = dados.query('Renda <= 10000'), orient = 'h')"
   ]
  },
  {
   "cell_type": "code",
   "execution_count": null,
   "id": "38b21bc3-3d71-4e63-826e-4b11f6678604",
   "metadata": {},
   "outputs": [],
   "source": []
  }
 ],
 "metadata": {
  "kernelspec": {
   "display_name": "Python 3 (ipykernel)",
   "language": "python",
   "name": "python3"
  },
  "language_info": {
   "codemirror_mode": {
    "name": "ipython",
    "version": 3
   },
   "file_extension": ".py",
   "mimetype": "text/x-python",
   "name": "python",
   "nbconvert_exporter": "python",
   "pygments_lexer": "ipython3",
   "version": "3.11.7"
  }
 },
 "nbformat": 4,
 "nbformat_minor": 5
}
